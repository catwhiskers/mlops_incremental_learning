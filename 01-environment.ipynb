{
 "cells": [
  {
   "cell_type": "markdown",
   "id": "c5179697",
   "metadata": {},
   "source": [
    "### This workshop will use following services, let's configure our environments first "
   ]
  },
  {
   "cell_type": "markdown",
   "id": "88078f76",
   "metadata": {},
   "source": [
    "#### SageMaker Studio \n",
    "* Configure studio name, for example, ```yiac```\n",
    "* Configure execution role. Please select ```TeamRole```\n",
    "\n",
    "![setup studio](./content_image/studio.png)\n"
   ]
  },
  {
   "cell_type": "markdown",
   "id": "99d436ad",
   "metadata": {},
   "source": [
    "#### SageMaker Groundtruth\n",
    "\n",
    "* In this workshop, we need to use private workforce instead of mechanic turk.\n",
    "* User sagemaker/Groundtruth/workforce, we select private workforce\n",
    "\n",
    "![build private workforce](./content_image/build_private_workforce.png)\n",
    "\n",
    "* Select ```create a private team with aws congnito```\n",
    "* give your team a team name \n",
    "\n",
    "![build private workforce](./content_image/build_private_workforce2.png)\n",
    "\n",
    "* select ```invite workers by email```\n",
    "* please fillin the email address you have access to!! \n",
    "\n",
    "![build private workforce](./content_image/build_private_workforce3.png)"
   ]
  },
  {
   "cell_type": "code",
   "execution_count": null,
   "id": "e1c6b466",
   "metadata": {},
   "outputs": [],
   "source": []
  }
 ],
 "metadata": {
  "kernelspec": {
   "display_name": "conda_python3",
   "language": "python",
   "name": "conda_python3"
  },
  "language_info": {
   "codemirror_mode": {
    "name": "ipython",
    "version": 3
   },
   "file_extension": ".py",
   "mimetype": "text/x-python",
   "name": "python",
   "nbconvert_exporter": "python",
   "pygments_lexer": "ipython3",
   "version": "3.6.13"
  }
 },
 "nbformat": 4,
 "nbformat_minor": 5
}
