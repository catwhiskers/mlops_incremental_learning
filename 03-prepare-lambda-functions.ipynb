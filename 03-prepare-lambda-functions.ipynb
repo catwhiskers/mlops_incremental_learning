{
 "cells": [
  {
   "cell_type": "markdown",
   "id": "de5f8480",
   "metadata": {},
   "source": [
    "### Environment Preparation "
   ]
  },
  {
   "cell_type": "markdown",
   "id": "aa273f30",
   "metadata": {},
   "source": [
    "* prepare session and bucket \n",
    "* prepare necessary parameters "
   ]
  },
  {
   "cell_type": "code",
   "execution_count": 1,
   "id": "5c9663eb",
   "metadata": {},
   "outputs": [],
   "source": [
    "import sagemaker \n",
    "import boto3 \n",
    "sess = sagemaker.Session()\n",
    "BUCKET = sess.default_bucket()"
   ]
  },
  {
   "cell_type": "code",
   "execution_count": 2,
   "id": "79fa7ecb",
   "metadata": {},
   "outputs": [
    {
     "data": {
      "text/plain": [
       "'sagemaker-us-west-2-518460648208'"
      ]
     },
     "execution_count": 2,
     "metadata": {},
     "output_type": "execute_result"
    }
   ],
   "source": [
    "BUCKET"
   ]
  },
  {
   "cell_type": "code",
   "execution_count": 3,
   "id": "e14aec0f",
   "metadata": {},
   "outputs": [],
   "source": [
    "client = boto3.client(\"sts\")\n",
    "account_id = client.get_caller_identity()[\"Account\"]\n"
   ]
  },
  {
   "cell_type": "code",
   "execution_count": 4,
   "id": "006e536c",
   "metadata": {},
   "outputs": [
    {
     "name": "stdout",
     "output_type": "stream",
     "text": [
      "01-environment.ipynb\t\t\t      deploy_model.py\r\n",
      "02-a2i-object-detection-and-retraining.ipynb  images\r\n",
      "03-prepare-lambda-functions.ipynb\t      invoke_image_object_detection\r\n",
      "api.sh\t\t\t\t\t      process_a2i_results\r\n",
      "augmented.manifest\t\t\t      README.md\r\n",
      "content_image\t\t\t\t      sample-a2i-images\r\n"
     ]
    }
   ],
   "source": [
    "!ls \n"
   ]
  },
  {
   "cell_type": "markdown",
   "id": "c998f9d6",
   "metadata": {},
   "source": [
    "### Setup lambda functions and SQS \n",
    "We use a lambda function ```invoke_image_object_detection``` to \n",
    "1. trigger the sagemaker endpoint to do inference\n",
    "2. save the image to s3 and trigger a2i process \n",
    "3. send a2i and s3 information to SQS \n",
    "\n",
    "And, we use a lambda function ```process_a2i_results``` to \n",
    "1. listening to SQS and process a2i results \n",
    "2. trigger retraining pipelines \n",
    "\n",
    "The following steps creates lambda functions \n",
    "\n",
    "* copying codes to s3 \n",
    "* create lambda functions by codes on s3 \n",
    "* setup environment variables \n"
   ]
  },
  {
   "cell_type": "code",
   "execution_count": 5,
   "id": "4cd7f603",
   "metadata": {},
   "outputs": [
    {
     "name": "stdout",
     "output_type": "stream",
     "text": [
      "updating: lambda_function.py (deflated 57%)\n",
      "updating: pass_tasks2sqs.py (deflated 45%)\n",
      "Completed 1.5 KiB/1.5 KiB (20.0 KiB/s) with 1 file(s) remaining\r",
      "upload: ./invoke_image_object_detection.zip to s3://sagemaker-us-west-2-518460648208/lambda/invoke_image_object_detection.zip\n",
      "updating: prepare_data.py (deflated 67%)\n",
      "updating: model.py (deflated 47%)\n",
      "updating: lambda_function.py (deflated 62%)\n",
      "Completed 2.5 KiB/2.5 KiB (32.0 KiB/s) with 1 file(s) remaining\r",
      "upload: ./process_a2i_results.zip to s3://sagemaker-us-west-2-518460648208/lambda/process_a2i_results.zip\n"
     ]
    }
   ],
   "source": [
    "%%bash -s \"$BUCKET\" \n",
    "cd invoke_image_object_detection \n",
    "zip -r invoke_image_object_detection.zip  .\n",
    "aws s3 cp invoke_image_object_detection.zip s3://$1/lambda/\n",
    "cd ../process_a2i_results\n",
    "zip -r process_a2i_results.zip  .\n",
    "aws s3 cp process_a2i_results.zip s3://$1/lambda/"
   ]
  },
  {
   "cell_type": "code",
   "execution_count": 6,
   "id": "50637a51",
   "metadata": {},
   "outputs": [
    {
     "name": "stdout",
     "output_type": "stream",
     "text": [
      "{\r\n",
      "    \"FunctionName\": \"invoke_image_object_detection\",\r\n",
      "    \"FunctionArn\": \"arn:aws:lambda:us-west-2:518460648208:function:invoke_image_object_detection\",\r\n",
      "    \"Runtime\": \"python3.7\",\r\n",
      "    \"Role\": \"arn:aws:iam::518460648208:role/TeamRole\",\r\n",
      "    \"Handler\": \"lambda_function.lambda_handler\",\r\n",
      "    \"CodeSize\": 1578,\r\n",
      "    \"Description\": \"\",\r\n",
      "    \"Timeout\": 3,\r\n",
      "    \"MemorySize\": 128,\r\n",
      "    \"LastModified\": \"2021-05-06T21:36:49.159+0000\",\r\n",
      "    \"CodeSha256\": \"6Hva1SZ2Y7AJoapnduIdrEGVvW0BHxLwtyi29aJEo0c=\",\r\n",
      "    \"Version\": \"$LATEST\",\r\n",
      "    \"TracingConfig\": {\r\n",
      "        \"Mode\": \"PassThrough\"\r\n",
      "    },\r\n",
      "    \"RevisionId\": \"21d08ca8-5c1f-474e-989e-76c02ccc745c\",\r\n",
      "    \"State\": \"Active\",\r\n",
      "    \"LastUpdateStatus\": \"Successful\",\r\n",
      "    \"PackageType\": \"Zip\"\r\n",
      "}\r\n"
     ]
    }
   ],
   "source": [
    "!aws lambda create-function --function-name invoke_image_object_detection --zip-file fileb:///home/ec2-user/SageMaker/mlops_incremental_learning/invoke_image_object_detection/invoke_image_object_detection.zip  --handler lambda_function.lambda_handler --runtime python3.7 --role arn:aws:iam::$account_id:role/TeamRole\n"
   ]
  },
  {
   "cell_type": "markdown",
   "id": "a3f83047",
   "metadata": {},
   "source": [
    "#### Configure lambda function - invoke_image_object_detection \n",
    "* you can also do it by command line - \n",
    "```\n",
    "aws lambda update-function-configuration --function-name invoke_image_object_detection \\\n",
    "    --environment \"Variables={BUCKET=my-bucket,KEY=file.txt}\"\n",
    "```    \n",
    "![configure environment variable](./content_image/setup_env_vars_for_lambda2.png)"
   ]
  },
  {
   "cell_type": "code",
   "execution_count": 7,
   "id": "762dc1e2",
   "metadata": {},
   "outputs": [],
   "source": [
    "%store -r flowDefinitionArn\n",
    "%store -r endpoint_name"
   ]
  },
  {
   "cell_type": "code",
   "execution_count": 8,
   "id": "4a3fe9e5",
   "metadata": {},
   "outputs": [
    {
     "name": "stdout",
     "output_type": "stream",
     "text": [
      "https://us-west-2.queue.amazonaws.com/518460648208/a2itasks\n"
     ]
    }
   ],
   "source": [
    "sqs = boto3.resource('sqs')\n",
    "queue = sqs.create_queue(QueueName='a2itasks', Attributes={'DelaySeconds': '0'})\n",
    "print(queue.url)\n",
    "\n"
   ]
  },
  {
   "cell_type": "code",
   "execution_count": 9,
   "id": "ab6f367e",
   "metadata": {},
   "outputs": [
    {
     "data": {
      "text/plain": [
       "sqs.Queue(url='https://us-west-2.queue.amazonaws.com/518460648208/a2itasks')"
      ]
     },
     "execution_count": 9,
     "metadata": {},
     "output_type": "execute_result"
    }
   ],
   "source": [
    "queue"
   ]
  },
  {
   "cell_type": "code",
   "execution_count": 10,
   "id": "17d7163d",
   "metadata": {},
   "outputs": [
    {
     "name": "stdout",
     "output_type": "stream",
     "text": [
      "{\r\n",
      "    \"FunctionName\": \"invoke_image_object_detection\",\r\n",
      "    \"FunctionArn\": \"arn:aws:lambda:us-west-2:518460648208:function:invoke_image_object_detection\",\r\n",
      "    \"Runtime\": \"python3.7\",\r\n",
      "    \"Role\": \"arn:aws:iam::518460648208:role/TeamRole\",\r\n",
      "    \"Handler\": \"lambda_function.lambda_handler\",\r\n",
      "    \"CodeSize\": 1578,\r\n",
      "    \"Description\": \"\",\r\n",
      "    \"Timeout\": 3,\r\n",
      "    \"MemorySize\": 128,\r\n",
      "    \"LastModified\": \"2021-05-06T21:36:55.334+0000\",\r\n",
      "    \"CodeSha256\": \"6Hva1SZ2Y7AJoapnduIdrEGVvW0BHxLwtyi29aJEo0c=\",\r\n",
      "    \"Version\": \"$LATEST\",\r\n",
      "    \"Environment\": {\r\n",
      "        \"Variables\": {\r\n",
      "            \"ENDPOINT_NAME\": \"DEMO-object-detection-augmented-ai-2021-05-06-21-17-02\",\r\n",
      "            \"A2IFLOW_DEF\": \"arn:aws:sagemaker:us-west-2:518460648208:flow-definition/fd-sagemaker-object-detection-demo-2021-05-06-21-25-37\",\r\n",
      "            \"BUCKET\": \"sagemaker-us-west-2-518460648208\",\r\n",
      "            \"KEY\": \"a2i-demo\",\r\n",
      "            \"SQS_URL\": \"https://us-west-2.queue.amazonaws.com/518460648208/a2itasks\"\r\n",
      "        }\r\n",
      "    },\r\n",
      "    \"TracingConfig\": {\r\n",
      "        \"Mode\": \"PassThrough\"\r\n",
      "    },\r\n",
      "    \"RevisionId\": \"ba67d489-fd43-4a05-888f-7bfe070399ad\",\r\n",
      "    \"State\": \"Active\",\r\n",
      "    \"LastUpdateStatus\": \"Successful\",\r\n",
      "    \"PackageType\": \"Zip\"\r\n",
      "}\r\n"
     ]
    }
   ],
   "source": [
    "bucket_key = \"a2i-demo\"\n",
    "variables = f\"A2IFLOW_DEF={flowDefinitionArn},BUCKET={BUCKET},ENDPOINT_NAME={endpoint_name}, SQS_URL={queue.url}, KEY={bucket_key}\"\n",
    "env = \"Variables={\"+variables+\"}\"\n",
    "\n",
    "!aws lambda update-function-configuration --function-name invoke_image_object_detection --environment \"$env\"\n"
   ]
  },
  {
   "cell_type": "code",
   "execution_count": 11,
   "id": "7675b017",
   "metadata": {},
   "outputs": [
    {
     "name": "stdout",
     "output_type": "stream",
     "text": [
      "{\r\n",
      "    \"FunctionName\": \"process_a2i_results\",\r\n",
      "    \"FunctionArn\": \"arn:aws:lambda:us-west-2:518460648208:function:process_a2i_results\",\r\n",
      "    \"Runtime\": \"python3.7\",\r\n",
      "    \"Role\": \"arn:aws:iam::518460648208:role/TeamRole\",\r\n",
      "    \"Handler\": \"lambda_function.lambda_handler\",\r\n",
      "    \"CodeSize\": 2521,\r\n",
      "    \"Description\": \"\",\r\n",
      "    \"Timeout\": 3,\r\n",
      "    \"MemorySize\": 128,\r\n",
      "    \"LastModified\": \"2021-05-06T21:37:22.671+0000\",\r\n",
      "    \"CodeSha256\": \"2/V4xfRZf4goMRWpsarY+KNjAPx/4DhjVWM61wtPNGE=\",\r\n",
      "    \"Version\": \"$LATEST\",\r\n",
      "    \"TracingConfig\": {\r\n",
      "        \"Mode\": \"PassThrough\"\r\n",
      "    },\r\n",
      "    \"RevisionId\": \"d9e4c4be-7179-4bec-9465-6edbfb24b43a\",\r\n",
      "    \"State\": \"Active\",\r\n",
      "    \"LastUpdateStatus\": \"Successful\",\r\n",
      "    \"PackageType\": \"Zip\"\r\n",
      "}\r\n"
     ]
    }
   ],
   "source": [
    "!aws lambda create-function --function-name process_a2i_results --zip-file fileb:///home/ec2-user/SageMaker/mlops_incremental_learning/process_a2i_results/process_a2i_results.zip  --handler lambda_function.lambda_handler --runtime python3.7 --role arn:aws:iam::$account_id:role/TeamRole"
   ]
  },
  {
   "cell_type": "markdown",
   "id": "e370d2cc",
   "metadata": {},
   "source": [
    "#### Configure lambda function - process_a2i_results\n",
    "![configure environment variable](./content_image/setup_env_vars_for_lambda3.png)"
   ]
  },
  {
   "cell_type": "code",
   "execution_count": 12,
   "id": "083bf9a3",
   "metadata": {},
   "outputs": [],
   "source": [
    "%store -r model_package_group_name \n",
    "%store -r pipeline_name"
   ]
  },
  {
   "cell_type": "code",
   "execution_count": 13,
   "id": "17a26c8b",
   "metadata": {},
   "outputs": [
    {
     "name": "stdout",
     "output_type": "stream",
     "text": [
      "{\r\n",
      "    \"FunctionName\": \"process_a2i_results\",\r\n",
      "    \"FunctionArn\": \"arn:aws:lambda:us-west-2:518460648208:function:process_a2i_results\",\r\n",
      "    \"Runtime\": \"python3.7\",\r\n",
      "    \"Role\": \"arn:aws:iam::518460648208:role/TeamRole\",\r\n",
      "    \"Handler\": \"lambda_function.lambda_handler\",\r\n",
      "    \"CodeSize\": 2521,\r\n",
      "    \"Description\": \"\",\r\n",
      "    \"Timeout\": 3,\r\n",
      "    \"MemorySize\": 128,\r\n",
      "    \"LastModified\": \"2021-05-06T21:49:21.411+0000\",\r\n",
      "    \"CodeSha256\": \"2/V4xfRZf4goMRWpsarY+KNjAPx/4DhjVWM61wtPNGE=\",\r\n",
      "    \"Version\": \"$LATEST\",\r\n",
      "    \"Environment\": {\r\n",
      "        \"Variables\": {\r\n",
      "            \"BUCKET\": \"sagemaker-us-west-2-518460648208\",\r\n",
      "            \"PIPELINE\": \"ImageObjectDetection\",\r\n",
      "            \"MODEL_GROUP\": \"ObjectDetectionGroupModel\"\r\n",
      "        }\r\n",
      "    },\r\n",
      "    \"TracingConfig\": {\r\n",
      "        \"Mode\": \"PassThrough\"\r\n",
      "    },\r\n",
      "    \"RevisionId\": \"83464631-8c77-4ee3-9f42-1d187f8836a2\",\r\n",
      "    \"State\": \"Active\",\r\n",
      "    \"LastUpdateStatus\": \"Successful\",\r\n",
      "    \"PackageType\": \"Zip\"\r\n",
      "}\r\n"
     ]
    }
   ],
   "source": [
    "bucket_key = \"a2i-demo\"\n",
    "variables = f\"MODEL_GROUP={model_package_group_name},BUCKET={BUCKET},PIPELINE={pipeline_name}\"\n",
    "env = \"Variables={\"+variables+\"}\"\n",
    "\n",
    "!aws lambda update-function-configuration --function-name process_a2i_results --environment \"$env\""
   ]
  },
  {
   "cell_type": "markdown",
   "id": "95d8d33e",
   "metadata": {},
   "source": [
    "### Set up SQS \n",
    "\n",
    "* we use SQS to pass the information between lambda functions in this solution \n",
    "* set up SQS and attach it as a trigger to a lambda function \n",
    "\n"
   ]
  },
  {
   "cell_type": "code",
   "execution_count": 16,
   "id": "045d8a3e",
   "metadata": {},
   "outputs": [
    {
     "name": "stdout",
     "output_type": "stream",
     "text": [
      "{\r\n",
      "    \"UUID\": \"5d64d012-964c-478c-85ff-872e8f2c5cd8\",\r\n",
      "    \"BatchSize\": 10,\r\n",
      "    \"MaximumBatchingWindowInSeconds\": 300,\r\n",
      "    \"EventSourceArn\": \"arn:aws:sqs:us-west-2:518460648208:a2itasks\",\r\n",
      "    \"FunctionArn\": \"arn:aws:lambda:us-west-2:518460648208:function:process_a2i_results\",\r\n",
      "    \"LastModified\": 1620337973.653,\r\n",
      "    \"State\": \"Creating\",\r\n",
      "    \"StateTransitionReason\": \"USER_INITIATED\"\r\n",
      "}\r\n"
     ]
    }
   ],
   "source": [
    "!aws lambda create-event-source-mapping --function-name process_a2i_results  --batch-size 10 \\\n",
    "--maximum-batching-window-in-seconds 300 --event-source-arn arn:aws:sqs:us-west-2:$account_id:a2itasks\n"
   ]
  },
  {
   "cell_type": "markdown",
   "id": "ebed6437",
   "metadata": {},
   "source": [
    "### Create an A2I event Rule\n",
    "* create a role `SageMakerExecutionRole` and have it trusts cloudwatch events \n",
    "* create A2I event rule \n",
    "* edit rule, have it targets to the SQS queue we created \n",
    "\n",
    "```\n",
    "{\n",
    "  \"Version\": \"2012-10-17\",\n",
    "  \"Statement\": [\n",
    "    {\n",
    "      \"Sid\": \"\",\n",
    "      \"Effect\": \"Allow\",\n",
    "      \"Principal\": {\n",
    "        \"Service\": \"events.amazonaws.com\"\n",
    "      },\n",
    "      \"Action\": \"sts:AssumeRole\"\n",
    "    }\n",
    "  ]\n",
    "}```"
   ]
  },
  {
   "cell_type": "code",
   "execution_count": null,
   "id": "b095264e",
   "metadata": {},
   "outputs": [],
   "source": [
    "!aws events put-rule --name \"A2IHumanLoopStatusChanges\" \\\n",
    "    --event-pattern \"{\\\"source\\\":[\\\"aws.sagemaker\\\"],\\\"detail-type\\\":[\\\"SageMaker A2I HumanLoop Status Change\\\"]}\" \\\n",
    "    --role-arn \"<your execution role>\" \\\n",
    "    --region \"us-west-2\""
   ]
  },
  {
   "cell_type": "markdown",
   "id": "96374d5f",
   "metadata": {},
   "source": [
    "### Test Material \n",
    "```\n",
    "{\n",
    "  \"content\": \"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\"\n",
    "}\n",
    "```\n"
   ]
  },
  {
   "cell_type": "markdown",
   "id": "5b79b533",
   "metadata": {},
   "source": [
    "## Configure API Gateway \n",
    "* Finally, we need an API to have the service accessible\n",
    "* This API accepts image POST to it and pass the image to ```invoke_image_object_detection```\n",
    "\n",
    "```curl -X POST -H 'content-type: image/jpeg' --data-binary @$f $OD_API | jq .``` \n",
    "\n",
    "* we can create it by console also by aws cli \n",
    "\n"
   ]
  },
  {
   "cell_type": "markdown",
   "id": "83a1cb08",
   "metadata": {},
   "source": [
    "#### Select RESTful API "
   ]
  },
  {
   "cell_type": "markdown",
   "id": "1ec7f8e6",
   "metadata": {},
   "source": [
    "\n",
    "![configure environment variable](./content_image/build_api_gateway.png)\n",
    "\n"
   ]
  },
  {
   "cell_type": "markdown",
   "id": "a4a9b750",
   "metadata": {},
   "source": [
    "### Create Resource and Methods "
   ]
  },
  {
   "cell_type": "markdown",
   "id": "6c31a53c",
   "metadata": {},
   "source": [
    "![configure environment variable](./content_image/create_resource.png)\n",
    "<br>\n",
    "![configure environment variable](./content_image/create_method.png)\n",
    "<br>\n",
    "![configure environment variable](./content_image/create_method2.png)\n",
    "<br>\n",
    "\n"
   ]
  },
  {
   "cell_type": "markdown",
   "id": "58f80575",
   "metadata": {},
   "source": [
    "### Configurations for passing the binary content to backend\n",
    "* Add binary media type in ```Settings``` of this API \n",
    "* Configure which attribute to extract and fill it in event in Lambda integration "
   ]
  },
  {
   "cell_type": "markdown",
   "id": "fe43b8e4",
   "metadata": {},
   "source": [
    "![configure environment variable](./content_image/setting.png)\n",
    "![configure environment variable](./content_image/integration.png)\n",
    "![configure environment variable](./content_image/setting1.png)"
   ]
  },
  {
   "cell_type": "code",
   "execution_count": 17,
   "id": "987de859",
   "metadata": {},
   "outputs": [
    {
     "name": "stdout",
     "output_type": "stream",
     "text": [
      "#!/bin/bash\r\n",
      "\r\n",
      "#OD_API='https://2lvd1jdy8l.execute-api.us-west-2.amazonaws.com/test/classify'\r\n",
      "OD_API=$1\r\n",
      "echo $OD_API\r\n",
      "\r\n",
      "for f in $(ls images/*.jpg)\r\n",
      "do\r\n",
      "    curl -X POST -H 'content-type: image/jpeg' --data-binary @$f $OD_API | jq .\r\n",
      "done\r\n"
     ]
    }
   ],
   "source": [
    "!cat api.sh "
   ]
  },
  {
   "cell_type": "code",
   "execution_count": 22,
   "id": "a0160624",
   "metadata": {},
   "outputs": [
    {
     "name": "stdout",
     "output_type": "stream",
     "text": [
      "https://jwww8ados2.execute-api.us-west-2.amazonaws.com/dev/detect\n",
      "  % Total    % Received % Xferd  Average Speed   Time    Time     Time  Current\n",
      "                                 Dload  Upload   Total   Spent    Left  Speed\n",
      "100 62969  100 26368  100 36601  28413  39440 --:--:-- --:--:-- --:--:-- 67781\n",
      "\u001b[0;32m\"{\\\"prediction\\\": [[7.0, 0.2924271523952484, 0.13341665267944336, 0.0, 0.7542880177497864, 0.8702528476715088], [11.0, 0.04573383182287216, 0.04162609577178955, 0.0, 0.8578957915306091, 0.8826754093170166], [4.0, 0.04551791399717331, 0.022185251116752625, 0.3733759820461273, 0.24723084270954132, 1.0], [15.0, 0.03441595658659935, 0.01854536682367325, 0.4023258686065674, 0.24219605326652527, 1.0], [4.0, 0.023586826398968697, 0.1888982355594635, 0.5771069526672363, 0.3089553415775299, 0.9741657972335815], [4.0, 0.023574532940983772, 0.31059515476226807, 0.5873633623123169, 0.38036471605300903, 0.7068634033203125], [4.0, 0.022853676229715347, 0.3659321069717407, 0.7094444036483765, 0.42487066984176636, 0.8030948638916016], [4.0, 0.022272730246186256, 0.36664122343063354, 0.6477684378623962, 0.4294416308403015, 0.7599607110023499], [14.0, 0.021049220114946365, 0.6698147058486938, 0.4500395953655243, 1.0, 0.973777174949646], [4.0, 0.020687496289610863, 0.3100982904434204, 0.49770161509513855, 0.3828325867652893, 0.6253467798233032], [4.0, 0.020634710788726807, 0.15172205865383148, 0.8000630140304565, 0.2169007509946823, 0.9457998275756836], [4.0, 0.02047591283917427, 0.31087571382522583, 0.6421371698379517, 0.37291598320007324, 0.7597979307174683], [4.0, 0.020439812913537025, 0.5214021801948547, 0.5984905362129211, 0.581038773059845, 0.703799307346344], [14.0, 0.02011295035481453, 0.6395015120506287, 0.9297136068344116, 0.6816605925559998, 1.0], [4.0, 0.019566219300031662, 0.10129433870315552, 0.8173234462738037, 0.16553246974945068, 0.9478428363800049], [4.0, 0.019498713314533234, 0.31371983885765076, 0.7045003771781921, 0.36420056223869324, 0.8063334822654724], [8.0, 0.019390400499105453, 0.6782552003860474, 0.8435454964637756, 0.862882137298584, 0.9917557835578918], [4.0, 0.01903623528778553, 0.3665345311164856, 0.5921645760536194, 0.4238539934158325, 0.7128549218177795], [4.0, 0.018748978152871132, 0.46680212020874023, 0.5961017608642578, 0.5271586179733276, 0.7136372327804565], [4.0, 0.018228117376565933, 0.575160562992096, 0.5982710123062134, 0.6337998509407043, 0.7134436368942261], [4.0, 0.01811697706580162, 0.09584104269742966, 0.8632768988609314, 0.16580408811569214, 0.9945432543754578], [8.0, 0.018058953806757927, 0.23532739281654358, 0.6165207028388977, 0.3622824251651764, 0.7906500697135925], [8.0, 0.01790783554315567, 0.6899556517601013, 0.7310106158256531, 0.8401115536689758, 0.8927980065345764], [4.0, 0.017824070528149605, 0.41364091634750366, 0.6420162916183472, 0.48056530952453613, 0.7596251964569092], [14.0, 0.017689859494566917, 0.6795085668563843, 0.406071275472641, 0.8197726011276245, 0.6814193725585938], [4.0, 0.017685402184724808, 0.2642657160758972, 0.5877000093460083, 0.32411348819732666, 0.7162131071090698], [14.0, 0.017566857859492302, 0.40697112679481506, 0.4187944531440735, 0.9161064624786377, 0.975457489490509], [8.0, 0.017364848405122757, 0.27408212423324585, 0.6185393929481506, 0.428433358669281, 0.7818768620491028], [4.0, 0.01731954701244831, 0.41091129183769226, 0.5875536203384399, 0.4899590313434601, 0.7225981950759888], [8.0, 0.017033347859978676, 0.6500300765037537, 0.677100658416748, 0.7815131545066833, 0.8421598672866821], [8.0, 0.016528205946087837, 0.7628077268600464, 0.3987249732017517, 1.0, 0.9952625632286072], [8.0, 0.016514107584953308, 0.1693752408027649, 0.6146619915962219, 0.2929629683494568, 0.8156378865242004], [14.0, 0.016291392967104912, 0.6740632653236389, 0.19899475574493408, 0.8119783997535706, 0.4931536316871643], [4.0, 0.016250858083367348, 0.31089136004447937, 0.4504004120826721, 0.3803945481777191, 0.568106472492218], [14.0, 0.016233565285801888, 0.15991979837417603, 0.32153069972991943, 0.21291190385818481, 0.4678305983543396], [8.0, 0.01612047851085663, 0.5944596529006958, 0.6264618039131165, 0.7310121059417725, 0.7927432656288147], [14.0, 0.0161091610789299, 0.2153811752796173, 0.46860814094543457, 0.267856627702713, 0.6271997690200806], [4.0, 0.016092855483293533, 0.47019660472869873, 0.6577991843223572, 0.5208871960639954, 0.752129852771759], [14.0, 0.015999987721443176, 0.7791150808334351, 0.4136302173137665, 0.9233757257461548, 0.6865522861480713], [8.0, 0.015967393293976784, 0.7296997308731079, 0.8012979626655579, 0.9013220071792603, 0.9571416974067688], [4.0, 0.015796449035406113, 0.46831414103507996, 0.337049275636673, 0.5302941203117371, 0.4605688154697418], [8.0, 0.01575172320008278, 0.24317392706871033, 0.5561990141868591, 0.3680340349674225, 0.729533851146698], [4.0, 0.0157235786318779, 0.46550774574279785, 0.5372390151023865, 0.529507040977478, 0.6776534914970398], [8.0, 0.01570129208266735, 0.5269089937210083, 0.5668910145759583, 0.6729246377944946, 0.7327979207038879], [14.0, 0.01563660055398941, 0.7798152565956116, 0.3104797899723053, 0.9218917489051819, 0.5831702947616577], [8.0, 0.015295295044779778, 0.11589249223470688, 0.5127137899398804, 0.24727997183799744, 0.6979080438613892], [14.0, 0.015236216597259045, 0.6819510459899902, 0.5088226199150085, 0.8184635639190674, 0.7947203516960144], [8.0, 0.015221414156258106, 0.05063517391681671, 0.8829277157783508, 0.20403625071048737, 1.0], [8.0, 0.015212206169962883, 0.6849755048751831, 0.6252987384796143, 0.8392868041992188, 0.7945914268493652], [4.0, 0.015192658640444279, 0.4678320288658142, 0.4797852337360382, 0.5343675017356873, 0.6283143162727356], [4.0, 0.015189914032816887, 0.0, 0.5951473116874695, 0.1785467267036438, 0.945018470287323], [4.0, 0.015158884227275848, 0.4672355353832245, 0.2829292118549347, 0.5285416841506958, 0.4077995717525482], [4.0, 0.015052925795316696, 0.577707827091217, 0.6612459421157837, 0.6323979496955872, 0.7629042863845825], [4.0, 0.015041687525808811, 0.2609558403491974, 0.530849814414978, 0.3311501443386078, 0.677376389503479], [4.0, 0.015030654147267342, 0.040307603776454926, 0.7183612585067749, 0.24044746160507202, 1.0], [4.0, 0.01496792957186699, 0.5186682939529419, 0.5414797067642212, 0.5836572647094727, 0.661681056022644], [8.0, 0.014917002990841866, 0.1817019283771515, 0.5095665454864502, 0.30636584758758545, 0.6932262182235718], [4.0, 0.014854128472507, 0.14793625473976135, 0.8567690849304199, 0.2158893346786499, 0.9941065311431885], [14.0, 0.014820155687630177, 0.7675513625144958, 0.7239595055580139, 0.9309108853340149, 0.9881523251533508], [4.0, 0.014806064777076244, 0.5273209810256958, 0.6666592955589294, 0.5771715641021729, 0.7530391812324524], [4.0, 0.014782256446778774, 0.21659687161445618, 0.5332134962081909, 0.26839691400527954, 0.6771209239959717], [14.0, 0.014646862633526325, 0.5844058990478516, 0.6238746047019958, 0.7039159536361694, 0.9569055438041687], [4.0, 0.014646644704043865, 0.4747905731201172, 0.3995598256587982, 0.5333815813064575, 0.5115368962287903], [8.0, 0.014536413364112377, 0.6417502164840698, 0.14621928334236145, 0.7779073715209961, 0.327130526304245], [14.0, 0.014423171058297157, 0.1648625284433365, 0.37543243169784546, 0.21256668865680695, 0.5165389776229858], [4.0, 0.01440440770238638, 0.1551535427570343, 0.7514902353286743, 0.22322314977645874, 0.888427734375], [8.0, 0.014354403130710125, 0.4510466754436493, 0.6212948560714722, 0.5502078533172607, 0.6937239170074463], [4.0, 0.014276426285505295, 0.41773515939712524, 0.27751070261001587, 0.4751870036125183, 0.4083818793296814], [4.0, 0.014251102693378925, 0.6263923645019531, 0.5987374186515808, 0.6852668523788452, 0.7234187722206116], [8.0, 0.01423567719757557, 0.34134408831596375, 0.673555314540863, 0.45858678221702576, 0.7444999814033508], [4.0, 0.014204424805939198, 0.42108216881752014, 0.32791733741760254, 0.47300538420677185, 0.4647712707519531], [4.0, 0.014188683591783047, 0.6280566453933716, 0.21200034022331238, 0.6842011213302612, 0.3685981333255768], [14.0, 0.014187107793986797, 0.2651071548461914, 0.6016004681587219, 0.3333534598350525, 0.695485532283783], [8.0, 0.014127075672149658, 0.2671234905719757, 0.5060294270515442, 0.41062095761299133, 0.6878073811531067], [4.0, 0.014092601835727692, 0.47435033321380615, 0.44363492727279663, 0.5359972715377808, 0.563372790813446], [2.0, 0.01408898364752531, 0.1583864539861679, 0.14716479182243347, 0.21182970702648163, 0.24420109391212463], [4.0, 0.014007262885570526, 0.36857548356056213, 0.3725692629814148, 0.425810843706131, 0.5224220752716064], [8.0, 0.013981308788061142, 0.696209728717804, 0.2026257961988449, 0.8371897339820862, 0.37505292892456055], [4.0, 0.013948669657111168, 0.7881314158439636, 0.027194447815418243, 0.841572105884552, 0.13379338383674622], [4.0, 0.013855330646038055, 0.14947724342346191, 0.4442530870437622, 0.3782474994659424, 0.8439878225326538], [14.0, 0.013761404901742935, 0.789398193359375, 0.4867774248123169, 0.9090801477432251, 0.8301807641983032], [4.0, 0.013742330484092236, 0.2607119679450989, 0.6382699012756348, 0.3179531693458557, 0.7888376712799072], [8.0, 0.013710477389395237, 0.7866668701171875, 0.725083589553833, 0.9401847124099731, 0.8955289125442505], [4.0, 0.013655044138431549, 0.5182415246963501, 0.39609935879707336, 0.585516095161438, 0.5135486125946045], [8.0, 0.013519247062504292, 0.2974241375923157, 0.6170998811721802, 0.4065921902656555, 0.6921453475952148], [4.0, 0.013503356836736202, 0.5701643228530884, 0.32197433710098267, 0.6360214948654175, 0.48159539699554443], [14.0, 0.013475594110786915, 0.683218240737915, 0.607032299041748, 0.809261679649353, 0.9522988796234131], [8.0, 0.013470137491822243, 0.6938117742538452, 0.704505980014801, 0.9792929887771606, 1.0], [8.0, 0.013415345922112465, 0.639411211013794, 0.5706744194030762, 0.7915046215057373, 0.7426358461380005], [4.0, 0.013406564481556416, 0.044968005269765854, 0.8149718642234802, 0.11052319407463074, 0.9479395747184753], [8.0, 0.013371828012168407, 0.05745096504688263, 0.7255204319953918, 0.21460725367069244, 0.899879515171051], [14.0, 0.0133702103048563, 0.671732485294342, 0.7697701454162598, 0.7403321862220764, 0.8591694831848145], [8.0, 0.013352579437196255, 0.381248414516449, 0.5630951523780823, 0.5146740674972534, 0.7268187403678894], [14.0, 0.013338212855160236, 0.25995907187461853, 0.5462179780006409, 0.33865299820899963, 0.6636586785316467], [4.0, 0.013319605030119419, 0.5157840847969055, 0.33937370777130127, 0.5842103362083435, 0.46657663583755493], [8.0, 0.013298053294420242, 0.728169322013855, 0.8937990069389343, 0.9047204256057739, 1.0], [4.0, 0.01324651949107647, 0.10200643539428711, 0.7582677602767944, 0.16428503394126892, 0.8784493207931519], [4.0, 0.013232974335551262, 0.2124481201171875, 0.5885273814201355, 0.2707873582839966, 0.7337034344673157], [14.0, 0.013120574876666069, 0.30896323919296265, 0.4589983820915222, 0.37935948371887207, 0.5537673830986023], [8.0, 0.013102696277201176, 0.873850405216217, 0.7057825922966003, 0.9962463974952698, 0.9869195818901062], [4.0, 0.013073986396193504, 0.5723141431808472, 0.5399683713912964, 0.6354070901870728, 0.664576530456543], [4.0, 0.013057813979685307, 0.6252059936523438, 0.5453878045082092, 0.685096025466919, 0.6709625124931335], [8.0, 0.013020176440477371, 0.44924068450927734, 0.5656961798667908, 0.5541324615478516, 0.6471421122550964], [8.0, 0.012992309406399727, 0.22670631110668182, 0.6768606901168823, 0.3491354286670685, 0.8385614156723022], [14.0, 0.01297865342348814, 0.020631693303585052, 0.5424056053161621, 0.23841053247451782, 1.0], [8.0, 0.012959807179868221, 0.3948342204093933, 0.619580864906311, 0.5047569870948792, 0.6983572244644165], [4.0, 0.012926135212182999, 0.2030523717403412, 0.7345956563949585, 0.27191418409347534, 0.8948794603347778], [14.0, 0.012925972230732441, 0.5910515189170837, 0.496191143989563, 0.7063972353935242, 0.8175294399261475], [8.0, 0.012896319851279259, 0.7856374382972717, 0.005496323108673096, 1.0, 0.6266984939575195], [14.0, 0.012882313691079617, 0.4727514982223511, 0.11136174201965332, 0.531487226486206, 0.2593306005001068], [14.0, 0.012845848686993122, 0.0, 0.8947240114212036, 0.062250591814517975, 1.0], [4.0, 0.012764760293066502, 0.3672768473625183, 0.3222191631793976, 0.4245520830154419, 0.46562841534614563], [14.0, 0.012760342098772526, 0.6301166415214539, 0.778800368309021, 0.6855093836784363, 0.8552025556564331], [8.0, 0.012734318152070045, 0.5934224724769592, 0.14350949227809906, 0.7170690894126892, 0.3297291398048401], [4.0, 0.01273387111723423, 0.5170468091964722, 0.43877771496772766, 0.5879706144332886, 0.5580136775970459], [14.0, 0.012721172533929348, 0.4069627821445465, 0.5998804569244385, 0.4909431040287018, 0.7056056261062622], [4.0, 0.01266851369291544, 0.3671245574951172, 0.43538105487823486, 0.42756861448287964, 0.5741342306137085], [8.0, 0.012657965533435345, 0.7662392854690552, 0.852684736251831, 0.950695276260376, 0.9932042360305786], [4.0, 0.012643962167203426, 0.20617547631263733, 0.35675138235092163, 0.2719801664352417, 0.5366430878639221], [8.0, 0.012629193253815174, 0.5831480622291565, 0.5155313014984131, 0.7274981141090393, 0.687637448310852], [4.0, 0.012562050484120846, 0.5174150466918945, 0.48497945070266724, 0.5860539674758911, 0.60958331823349], [8.0, 0.012530511245131493, 0.7370297908782959, 0.678244948387146, 0.8943604230880737, 0.8434115648269653], [4.0, 0.012525195255875587, 0.6790155172348022, 0.60033118724823, 0.7408401966094971, 0.7256922721862793], [14.0, 0.012474418617784977, 0.21260079741477966, 0.554567813873291, 0.27000463008880615, 0.6517711877822876], [7.0, 0.012426702305674553, 0.23257482051849365, 0.0, 0.6229514479637146, 0.5987548828125], [4.0, 0.012388337403535843, 0.4221774935722351, 0.3825049102306366, 0.4754709005355835, 0.5242355465888977], [8.0, 0.012381591834127903, 0.2625179886817932, 0.6194943189620972, 0.34782296419143677, 0.6894947290420532], [4.0, 0.012285945937037468, 0.6812881827354431, 0.7550156712532043, 0.7385290265083313, 0.8745129704475403], [4.0, 0.012252754531800747, 0.5170537829399109, 0.2831168472766876, 0.5870090126991272, 0.41297152638435364], [14.0, 0.012240350246429443, 0.5674161314964294, 0.12132339179515839, 0.6372925639152527, 0.23727290332317352], [14.0, 0.012170707806944847, 0.8926246166229248, 0.5755308866500854, 0.9961720705032349, 0.9342336654663086], [4.0, 0.012148783542215824, 0.41612207889556885, 0.47966188192367554, 0.4884316921234131, 0.6422615647315979], [4.0, 0.0121357012540102, 0.31279098987579346, 0.38163888454437256, 0.37819063663482666, 0.519336462020874], [14.0, 0.012110625393688679, 0.8969695568084717, 0.2755335867404938, 0.9979343414306641, 0.6166143417358398], [8.0, 0.012097269296646118, 0.25745144486427307, 0.6741807460784912, 0.3461832106113434, 0.7447612285614014], [14.0, 0.01209234818816185, 0.949371337890625, 0.7966787219047546, 1.0, 0.9513573050498962], [4.0, 0.011991703882813454, 0.5702936053276062, 0.431033730506897, 0.6364490389823914, 0.5635111927986145], [8.0, 0.01198133546859026, 0.4726297855377197, 0.5075340867042542, 0.6219456195831299, 0.6851872801780701], [8.0, 0.011962209828197956, 0.011031843721866608, 0.662047803401947, 0.15752962231636047, 0.8603679537773132], [14.0, 0.011945703998208046, 0.9505219459533691, 0.6382828950881958, 1.0, 0.7918664216995239], [8.0, 0.011930371634662151, 0.08279132097959518, 0.8355069160461426, 0.19934430718421936, 0.9087907075881958], [4.0, 0.01190254371613264, 0.67975252866745, 0.22216632962226868, 0.7363868355751038, 0.35696008801460266], [4.0, 0.01189603004604578, 0.6317785382270813, 0.7116557359695435, 0.688227117061615, 0.8227659463882446], [4.0, 0.011876423843204975, 0.626466691493988, 0.32040977478027344, 0.6811360716819763, 0.47478288412094116], [8.0, 0.01182693149894476, 0.8332518339157104, 0.6011443138122559, 1.0, 0.91396164894104], [4.0, 0.011805838905274868, 0.04025460407137871, 0.8730027675628662, 0.11431774497032166, 0.998198390007019], [4.0, 0.01179444044828415, 0.2528228759765625, 0.37160152196884155, 0.32523542642593384, 0.526221752166748], [4.0, 0.01176934503018856, 0.6796747446060181, 0.8577955365180969, 0.738493800163269, 0.985795795917511], [14.0, 0.01176656037569046, 0.755928635597229, 0.6493452191352844, 0.950768232345581, 0.874878466129303], [8.0, 0.011758917011320591, 0.73585045337677, 0.5745424628257751, 0.8907938003540039, 0.7416185736656189], [4.0, 0.01174840796738863, 0.7333390116691589, 0.6030763387680054, 0.7906525731086731, 0.720136284828186], [14.0, 0.01170011330395937, 0.7769854664802551, 0.11135970056056976, 0.9260942339897156, 0.3825455904006958], [4.0, 0.011697180569171906, 0.7355407476425171, 0.22982706129550934, 0.7891836166381836, 0.35503458976745605], [14.0, 0.011686586774885654, 0.26505815982818604, 0.15095822513103485, 0.31131720542907715, 0.23635418713092804], [8.0, 0.011657080613076687, 0.009601809084415436, 0.779536247253418, 0.16058257222175598, 0.968307375907898], [8.0, 0.011629516258835793, 0.6440239548683167, 0.7803658843040466, 0.7797577977180481, 0.9674709439277649], [8.0, 0.011595536023378372, 0.6902510523796082, 0.005131453275680542, 0.8439227938652039, 0.1595052033662796], [4.0, 0.011591081507503986, 0.626301109790802, 0.6521751284599304, 0.6862592101097107, 0.7774776816368103], [4.0, 0.011575301177799702, 0.31844019889831543, 0.32946962118148804, 0.37579089403152466, 0.4649905562400818], [14.0, 0.011567284353077412, 0.16403566300868988, 0.42853766679763794, 0.2133525162935257, 0.5679783225059509], [8.0, 0.011566990986466408, 0.5021696090698242, 0.6232113242149353, 0.6055779457092285, 0.6907985806465149], [4.0, 0.011557642370462418, 0.0, 0.8665409088134766, 0.06042155995965004, 0.9997445344924927], [4.0, 0.011552966199815273, 0.1607472151517868, 0.5417265295982361, 0.21534524857997894, 0.6689348816871643], [8.0, 0.011492311954498291, 0.5285392999649048, 0.020109504461288452, 0.9213546514511108, 0.8866329193115234], [14.0, 0.011469663120806217, 0.2595449686050415, 0.4966128170490265, 0.33588796854019165, 0.6025797128677368], [10.0, 0.011437705717980862, 0.02269965410232544, 0.7794350385665894, 0.6399427056312561, 0.9915212392807007], [14.0, 0.011404935270547867, 0.45696431398391724, 0.5511861443519592, 0.5369520783424377, 0.6605824828147888], [14.0, 0.011391730979084969, 0.6243396997451782, 0.719815731048584, 0.690784215927124, 0.8052091598510742], [4.0, 0.011383636854588985, 0.5721850395202637, 0.4892987906932831, 0.6347004175186157, 0.6049500703811646], [4.0, 0.011383424513041973, 0.7862663865089417, 0.23256784677505493, 0.8407079577445984, 0.354489266872406], [8.0, 0.011372344568371773, 0.6856656074523926, 0.5210094451904297, 0.8398764133453369, 0.6891170740127563], [4.0, 0.011347358115017414, 0.572530210018158, 0.2060314267873764, 0.6384962201118469, 0.37578701972961426], [14.0, 0.011323118582367897, 0.6818491220474243, 0.9114283323287964, 0.7361446619033813, 1.0], [4.0, 0.01127722766250372, 0.735319197177887, 0.27735838294029236, 0.7900968194007874, 0.4063969552516937], [8.0, 0.01127350889146328, 0.39915627241134644, 0.5638241767883301, 0.5068492889404297, 0.6512930393218994], [4.0, 0.011263522319495678, 0.20688459277153015, 0.8004534840583801, 0.259161114692688, 0.9386138319969177], [4.0, 0.01126143429428339, 0.7888844013214111, 0.07644543051719666, 0.8386414051055908, 0.18688425421714783], [8.0, 0.011257334612309933, 0.0038432776927948, 0.5118721127510071, 0.3801838457584381, 0.9168400168418884], [4.0, 0.011237691156566143, 0.6784601211547852, 0.5491706728935242, 0.7408609390258789, 0.6727659106254578], [8.0, 0.011237363331019878, 0.29462429881095886, 0.6699275374412537, 0.4101884067058563, 0.7434625029563904], [4.0, 0.011224768124520779, 0.1563592106103897, 0.734504759311676, 0.3383917212486267, 0.990247905254364], [4.0, 0.011224232614040375, 0.20522035658359528, 0.629433274269104, 0.2778438627719879, 0.8038448095321655], [14.0, 0.011219090782105923, 0.7742003798484802, 0.01792733371257782, 0.9301974177360535, 0.2765572667121887], [4.0, 0.011210532858967781, 0.7370391488075256, 0.029720239341259003, 0.7886212468147278, 0.13470080494880676], [8.0, 0.011207626201212406, 0.1910007894039154, 0.7217204570770264, 0.28985634446144104, 0.8051137924194336], [4.0, 0.01117717381566763, 0.7324743866920471, 0.5523417592048645, 0.7917011380195618, 0.6681870818138123], [14.0, 0.011161496862769127, 0.6631835103034973, 0.3306344151496887, 0.8327661156654358, 0.5612360239028931], [14.0, 0.011136654764413834, 0.5707347989082336, 0.40532833337783813, 0.7139803767204285, 0.6760126948356628], [14.0, 0.011134718544781208, 0.6715943813323975, 0.7156419157981873, 0.7470999956130981, 0.8106449246406555], [4.0, 0.011131578125059605, 0.4204736649990082, 0.43176648020744324, 0.47979119420051575, 0.580715537071228], [4.0, 0.011056974530220032, 0.7864595055580139, 0.6047024130821228, 0.842290461063385, 0.7196499705314636], [14.0, 0.01103751827031374, 0.11541442573070526, 0.1889212429523468, 0.15660549700260162, 0.3024098575115204], [8.0, 0.01102037075906992, 0.6429898142814636, 0.2514568567276001, 0.779245913028717, 0.43243855237960815], [8.0, 0.011012466624379158, 0.0, 0.7226720452308655, 0.0966658964753151, 0.9007764458656311], [14.0, 0.011006757616996765, 0.11682051420211792, 0.15426607429981232, 0.1649145483970642, 0.2175467163324356], [8.0, 0.01100471243262291, 0.1358339637517929, 0.778307318687439, 0.2476361244916916, 0.8566561937332153], [4.0, 0.010984598658978939, 0.6784060597419739, 0.17338153719902039, 0.7345518469810486, 0.3026793301105499], [14.0, 0.010955609381198883, 0.3224584460258484, 0.5657572746276855, 0.46532487869262695, 0.7274998426437378], [14.0, 0.010941649787127972, 0.10673531889915466, 0.300483763217926, 0.16116586327552795, 0.38375693559646606], [14.0, 0.01093143131583929, 0.0, 0.37243565917015076, 0.0496845580637455, 0.5232536792755127], [4.0, 0.010894994251430035, 0.4183286130428314, 0.7166863679885864, 0.4696446359157562, 0.8030122518539429], [14.0, 0.010891588404774666, 0.16184471547603607, 0.4849710166454315, 0.2146400660276413, 0.6187611818313599], [14.0, 0.010888817720115185, 0.043477486819028854, 0.9078205823898315, 0.11010211706161499, 1.0], [8.0, 0.010876931250095367, 0.8852589130401611, 0.4092490077018738, 1.0, 0.6916183829307556], [4.0, 0.010876367799937725, 0.04532143846154213, 0.7510800361633301, 0.10985831916332245, 0.8821461200714111], [8.0, 0.010865045711398125, 0.791655957698822, 0.6236526966094971, 0.9434970021247864, 0.8014525175094604], [4.0, 0.010860116221010685, 0.7864277362823486, 0.27980726957321167, 0.8419437408447266, 0.4067472219467163], [14.0, 0.010844595730304718, 0.11219222843647003, 0.23835067451000214, 0.1563594490289688, 0.35354429483413696], [14.0, 0.010834124870598316, 0.5641096234321594, 0.016087472438812256, 0.7072682976722717, 0.3001128137111664], [8.0, 0.010817470028996468, 0.8446506857872009, 0.2030830681324005, 1.0, 0.4999890625476837], [8.0, 0.010814078152179718, 0.0833638608455658, 0.7837209701538086, 0.19344866275787354, 0.8527116775512695], [14.0, 0.010808008722960949, 0.5302601456642151, 0.0038129426538944244, 0.5901868939399719, 0.06461481750011444], [8.0, 0.01080178003758192, 0.5881505012512207, 0.35642993450164795, 0.7177127599716187, 0.5364601016044617], [8.0, 0.010796197690069675, 0.11509770154953003, 0.6668605208396912, 0.2655240297317505, 0.8576121926307678], [4.0, 0.010775470174849033, 0.6794924139976501, 0.2751130163669586, 0.7364212870597839, 0.4091857969760895], [2.0, 0.01077478937804699, 0.16139140725135803, 0.11256158351898193, 0.20753103494644165, 0.18261167407035828], [4.0, 0.010772368870675564, 0.005746465176343918, 0.6981052160263062, 0.13022974133491516, 1.0], [2.0, 0.010750852525234222, 0.1578042358160019, 0.1685960590839386, 0.2147962599992752, 0.3087957203388214], [4.0, 0.010698836296796799, 0.10345397889614105, 0.7015683054924011, 0.1628427356481552, 0.8274845480918884], [4.0, 0.010694329626858234, 0.0852745771408081, 0.4674610197544098, 0.21754997968673706, 0.8714687824249268], [8.0, 0.010684429667890072, 0.3501524031162262, 0.6236123442649841, 0.4474543631076813, 0.6942113041877747], [8.0, 0.010672654025256634, 0.05940145254135132, 0.6162784099578857, 0.21184948086738586, 0.8047317266464233], [14.0, 0.010660002939403057, 0.10828171670436859, 0.3352993130683899, 0.15810690820217133, 0.45969098806381226], [4.0, 0.010657916776835918, 0.2950094938278198, 0.5380337834358215, 0.38408195972442627, 0.6721510291099548], [14.0, 0.010637438856065273, 0.4239467680454254, 0.13567402958869934, 0.4755290448665619, 0.23658576607704163], [8.0, 0.010633358731865883, 0.5259424448013306, 0.3603655993938446, 0.6578075885772705, 0.536602258682251], [14.0, 0.01063055545091629, 0.45951101183891296, 0.23812167346477509, 0.5311689376831055, 0.33586227893829346], [14.0, 0.010626050643622875, 0.4576402008533478, 0.6057149767875671, 0.5319340229034424, 0.7004039883613586], [14.0, 0.010616983287036419, 0.8963637351989746, 0.07996480166912079, 0.997948408126831, 0.41273438930511475], [14.0, 0.010597323067486286, 0.3609713912010193, 0.6070817112922668, 0.4278973937034607, 0.7016308903694153], [4.0, 0.01058665569871664, 0.17032119631767273, 0.5181845426559448, 0.3338421881198883, 0.7654949426651001], [4.0, 0.010585024952888489, 0.0, 0.8122238516807556, 0.054289136081933975, 0.9449049830436707], [4.0, 0.010572667233645916, 0.6786043047904968, 0.6506289839744568, 0.740853488445282, 0.7846774458885193], [4.0, 0.010570559650659561, 0.36451104283332825, 0.4879630506038666, 0.4240400493144989, 0.638462483882904], [8.0, 0.010557274334132671, 0.8853920698165894, 0.10691383481025696, 1.0, 0.3848477005958557], [8.0, 0.010506894439458847, 0.4997831881046295, 0.5685731768608093, 0.6054283380508423, 0.6405195593833923], [8.0, 0.010499929077923298, 0.7423132658004761, 0.0, 0.8953932523727417, 0.10355180501937866], [15.0, 0.01049205381423235, 0.317626029253006, 0.29167982935905457, 0.4753907024860382, 0.49320951104164124], [8.0, 0.01048211008310318, 0.0028015971183776855, 0.8932453393936157, 0.14681094884872437, 1.0], [14.0, 0.010467247106134892, 0.35876330733299255, 0.3919426500797272, 0.4301668703556061, 0.49923625588417053], [4.0, 0.010466332547366619, 0.1846965104341507, 0.2656930088996887, 0.44173312187194824, 1.0], [14.0, 0.010465629398822784, 0.6738039255142212, 0.01751124858856201, 0.8183161020278931, 0.28736811876296997], [14.0, 0.010414108633995056, 0.9520264863967896, 0.5278334617614746, 1.0, 0.6877405643463135], [14.0, 0.010411795228719711, 0.20642204582691193, 0.4379872679710388, 0.27594703435897827, 0.5503665208816528], [14.0, 0.010405309498310089, 0.2099630981683731, 0.6063974499702454, 0.27427172660827637, 0.7031794190406799]]}\"\u001b[0m\n",
      "  % Total    % Received % Xferd  Average Speed   Time    Time     Time  Current\n",
      "                                 Dload  Upload   Total   Spent    Left  Speed\n"
     ]
    },
    {
     "name": "stdout",
     "output_type": "stream",
     "text": [
      "  0     0    0     0    0     0      0      0 --:--:-- --:--:-- --:--:--     0\r",
      "100  203k    0     0  100  203k      0   229k --:--:-- --:--:-- --:--:--  228k\r",
      "100  223k  100 20517  100  203k  23078   229k --:--:-- --:--:-- --:--:--  251k\r\n",
      "\u001b[0;32m\"{\\\"prediction\\\": [[11.0, 0.3860365152359009, 0.20666053891181946, 0.13779973983764648, 0.9189637899398804, 1.0], [7.0, 0.3361562192440033, 0.2122941017150879, 0.14502698183059692, 0.9476815462112427, 0.9880970120429993], [14.0, 0.027463899925351143, 0.5604172348976135, 0.2389209270477295, 0.6450697779655457, 0.34024953842163086], [14.0, 0.027399279177188873, 0.5586913824081421, 0.2831738293170929, 0.6433795690536499, 0.38897308707237244], [14.0, 0.026165975257754326, 0.5046780109405518, 0.18500763177871704, 0.5891914367675781, 0.27858689427375793], [14.0, 0.025359081104397774, 0.4658701419830322, 0.1586330533027649, 0.5372577905654907, 0.22945073246955872], [14.0, 0.024278927594423294, 0.46107733249664307, 0.18672394752502441, 0.540502667427063, 0.2844684422016144], [14.0, 0.02400284633040428, 0.36461594700813293, 0.24125559628009796, 0.44018593430519104, 0.33533579111099243], [14.0, 0.02339911460876465, 0.4095851182937622, 0.19129696488380432, 0.49493688344955444, 0.2813829481601715], [14.0, 0.02274280972778797, 0.5073703527450562, 0.24116060137748718, 0.5880540609359741, 0.33484455943107605], [14.0, 0.022728674113750458, 0.5147414207458496, 0.28413301706314087, 0.590351939201355, 0.37812870740890503], [14.0, 0.020071428269147873, 0.5097993016242981, 0.15445753931999207, 0.5911135077476501, 0.22643238306045532], [4.0, 0.01920553483068943, 0.21335257589817047, 0.5556049942970276, 0.2616516947746277, 0.6676576733589172], [14.0, 0.019198648631572723, 0.5661383271217346, 0.17506572604179382, 0.644020140171051, 0.30884820222854614], [14.0, 0.01871422678232193, 0.3522335886955261, 0.19105014204978943, 0.44256865978240967, 0.2812764346599579], [14.0, 0.018642490729689598, 0.4766807556152344, 0.10608305037021637, 0.5219788551330566, 0.17188282310962677], [14.0, 0.01763477921485901, 0.7785250544548035, 0.21494358777999878, 0.9248469471931458, 0.4760448932647705], [14.0, 0.017556658014655113, 0.41026246547698975, 0.1600624918937683, 0.4897501468658447, 0.22635847330093384], [14.0, 0.0169216338545084, 0.28260061144828796, 0.7819327712059021, 0.41446855664253235, 0.9476483464241028], [14.0, 0.01671568490564823, 0.35796526074409485, 0.28658294677734375, 0.42943111062049866, 0.37715399265289307], [14.0, 0.01660827361047268, 0.34815382957458496, 0.15271952748298645, 0.4411216378211975, 0.2271314263343811], [2.0, 0.01653278060257435, 0.2260633409023285, 0.20603008568286896, 0.27929380536079407, 0.2662218511104584], [8.0, 0.016337664797902107, 0.10079818964004517, 0.632289469242096, 0.2548399865627289, 0.7696371674537659], [4.0, 0.015995610505342484, 0.572909414768219, 0.32568061351776123, 0.6367616057395935, 0.4454112648963928], [4.0, 0.01594061218202114, 0.1589657962322235, 0.615558385848999, 0.21223080158233643, 0.7085146903991699], [4.0, 0.01582723669707775, 0.26285672187805176, 0.324882835149765, 0.3203120827674866, 0.46038827300071716], [4.0, 0.015760088339447975, 0.21418437361717224, 0.6087595224380493, 0.26038792729377747, 0.7162467241287231], [14.0, 0.015748776495456696, 0.35966455936431885, 0.11356000602245331, 0.4299278259277344, 0.16652975976467133], [14.0, 0.01570243574678898, 0.5289819836616516, 0.24204708635807037, 0.6724817156791687, 0.424923300743103], [14.0, 0.015611481852829456, 0.4140711724758148, 0.11422735452651978, 0.48190703988075256, 0.16335046291351318], [14.0, 0.015320166014134884, 0.611859917640686, 0.2896575331687927, 0.6894160509109497, 0.39371830224990845], [8.0, 0.015294828452169895, 0.0030044391751289368, 0.6794518828392029, 0.1662062108516693, 0.8256557583808899], [14.0, 0.01527583971619606, 0.33133652806282043, 0.06867813318967819, 0.57752925157547, 0.24173754453659058], [11.0, 0.014967859722673893, 0.2429462969303131, 0.14472496509552002, 0.7329357862472534, 0.6199591755867004], [14.0, 0.014963646419346333, 0.4504173696041107, 0.24078364670276642, 0.5427160859107971, 0.3340948820114136], [14.0, 0.014912743121385574, 0.5731411576271057, 0.15408281981945038, 0.6359817385673523, 0.24736924469470978], [2.0, 0.014887440949678421, 0.1647598147392273, 0.2089589238166809, 0.21509993076324463, 0.26501697301864624], [14.0, 0.014885403215885162, 0.35475653409957886, 0.1690596342086792, 0.5500866174697876, 0.33025842905044556], [4.0, 0.014829553663730621, 0.1577184796333313, 0.5672305226325989, 0.21506407856941223, 0.6575798392295837], [14.0, 0.01480016577988863, 0.26227039098739624, 0.23323003947734833, 0.32956111431121826, 0.3235769271850586], [4.0, 0.014760410413146019, 0.16256099939346313, 0.667015552520752, 0.207563579082489, 0.745840311050415], [4.0, 0.014745534397661686, 0.2150992900133133, 0.5026499032974243, 0.2621745765209198, 0.6158881187438965], [2.0, 0.014733745716512203, 0.16315528750419617, 0.25816792249679565, 0.21403276920318604, 0.31932544708251953], [14.0, 0.01448634173721075, 0.21794520318508148, 0.3027210831642151, 0.2699284553527832, 0.37438899278640747], [14.0, 0.014396938495337963, 0.20302081108093262, 0.5637587308883667, 0.26618221402168274, 0.6459974050521851], [4.0, 0.014316050335764885, 0.5708309412002563, 0.3774782419204712, 0.6344518661499023, 0.5051620602607727], [2.0, 0.014263699762523174, 0.2222672998905182, 0.1657513529062271, 0.2709968388080597, 0.22005532681941986], [14.0, 0.014222443103790283, 0.5420949459075928, 0.05949440598487854, 0.7403780221939087, 0.2479468286037445], [14.0, 0.014216489158570766, 0.4089587330818176, 0.24107147753238678, 0.5001329779624939, 0.33704614639282227], [14.0, 0.014014774933457375, 0.5258852243423462, 0.10634031891822815, 0.5760570764541626, 0.16821470856666565], [2.0, 0.013819373212754726, 0.782983660697937, 0.15096543729305267, 0.8484138250350952, 0.2228376716375351], [4.0, 0.013802595436573029, 0.22018752992153168, 0.3906148076057434, 0.26350194215774536, 0.5096856355667114], [4.0, 0.013766737654805183, 0.4691779613494873, 0.28414154052734375, 0.5407646894454956, 0.3800755739212036], [8.0, 0.013670988380908966, 0.004713654518127441, 0.5326874852180481, 0.15700118243694305, 0.675081193447113], [14.0, 0.013645770028233528, 0.1487206220626831, 0.571151614189148, 0.2244424819946289, 0.6478971242904663], [2.0, 0.01359312329441309, 0.2821251153945923, 0.8066583275794983, 0.40231192111968994, 0.9389867186546326], [14.0, 0.013566181994974613, 0.5799955725669861, 0.11275941133499146, 0.6282790303230286, 0.17677471041679382], [2.0, 0.013530579395592213, 0.7801263928413391, 0.200226292014122, 0.8460668921470642, 0.2774290442466736], [8.0, 0.013523241505026817, 0.10977741330862045, 0.5339088439941406, 0.25677937269210815, 0.6763750314712524], [14.0, 0.013432277366518974, 0.22368471324443817, 0.24864153563976288, 0.27569490671157837, 0.31541576981544495], [14.0, 0.013370481319725513, 0.17826540768146515, 0.7116364240646362, 0.3239409923553467, 0.9619929790496826], [14.0, 0.013347076252102852, 0.4708767235279083, 0.19846764206886292, 0.6211773157119751, 0.3762085735797882], [14.0, 0.013315055519342422, 0.6175280213356018, 0.1756952702999115, 0.6972876191139221, 0.3050317168235779], [4.0, 0.013233193196356297, 0.10647734254598618, 0.6703200340270996, 0.15430766344070435, 0.7496039867401123], [14.0, 0.013032149523496628, 0.18935056030750275, 0.5849843621253967, 0.31026607751846313, 0.9030713438987732], [4.0, 0.01300248596817255, 0.26095491647720337, 0.373954713344574, 0.3203221559524536, 0.5140202641487122], [14.0, 0.012910962104797363, 0.6149808764457703, 0.23243694007396698, 0.6958993077278137, 0.3373362421989441], [14.0, 0.012885422445833683, 0.3033248484134674, 0.21967151761054993, 0.37301090359687805, 0.3470524847507477], [8.0, 0.012852114625275135, 0.0, 0.5926477909088135, 0.17069970071315765, 0.7296415567398071], [8.0, 0.012839696370065212, 0.132844477891922, 0.876291811466217, 0.37574270367622375, 1.0], [2.0, 0.0128047289326787, 0.2565753757953644, 0.19330617785453796, 0.3377075493335724, 0.28012195229530334], [8.0, 0.012723395600914955, 0.1352202296257019, 0.5786040425300598, 0.23842650651931763, 0.638842761516571], [14.0, 0.012685997411608696, 0.7726802229881287, 0.31189990043640137, 0.9264040589332581, 0.5773517489433289], [2.0, 0.012645858339965343, 0.729093074798584, 0.15738125145435333, 0.7911640405654907, 0.22309736907482147], [14.0, 0.01257511880248785, 0.6712082624435425, 0.1960756480693817, 0.7360042333602905, 0.27756139636039734], [4.0, 0.012560236267745495, 0.464899480342865, 0.23722434043884277, 0.5404987931251526, 0.3436663746833801], [4.0, 0.012511538341641426, 0.21750551462173462, 0.6623265743255615, 0.25990843772888184, 0.7564958333969116], [14.0, 0.012503121979534626, 0.897680401802063, 0.1848798394203186, 0.998691201210022, 0.5155130624771118], [2.0, 0.012448687106370926, 0.1599080115556717, 0.3100298345088959, 0.2147834748029709, 0.375470906496048], [2.0, 0.012423117645084858, 0.1618841588497162, 0.3482057750225067, 0.2097499966621399, 0.44966569542884827], [14.0, 0.012315982021391392, 0.7619026899337769, 0.6977699398994446, 0.9287726879119873, 0.9594407677650452], [14.0, 0.012306641787290573, 0.4768475890159607, 0.29029422998428345, 0.630790650844574, 0.47063326835632324], [14.0, 0.012295808643102646, 0.0, 0.5741230249404907, 0.06062658131122589, 0.6498464345932007], [14.0, 0.012289307080209255, 0.562106192111969, 0.3346352279186249, 0.6403003334999084, 0.43212243914604187], [8.0, 0.012278026901185513, 0.0, 0.3103092908859253, 0.14701378345489502, 0.5900541543960571], [4.0, 0.01224402617663145, 0.47132614254951477, 0.3841693699359894, 0.5342704057693481, 0.503929853439331], [14.0, 0.012226901948451996, 0.20344895124435425, 0.6158447861671448, 0.26129579544067383, 0.6940146088600159], [14.0, 0.0122139323502779, 0.6743067502975464, 0.24158066511154175, 0.7396150827407837, 0.3302820920944214], [14.0, 0.012183595448732376, 0.27995234727859497, 0.5634901523590088, 0.4124745726585388, 0.9160556793212891], [14.0, 0.012153726071119308, 0.2693040668964386, 0.8319438695907593, 0.3323782980442047, 0.9130581617355347], [14.0, 0.012130445800721645, 0.7557880282402039, 0.1426587998867035, 0.9458728432655334, 0.3497200012207031], [14.0, 0.012125524692237377, 0.31353384256362915, 0.11471576988697052, 0.37390023469924927, 0.16876976191997528], [14.0, 0.012086584232747555, 0.04958189278841019, 0.5425063967704773, 0.23764824867248535, 0.7567464709281921], [14.0, 0.012052124366164207, 0.5749294757843018, 0.181179940700531, 0.7112252712249756, 0.37657248973846436], [14.0, 0.012043679133057594, 0.24706147611141205, 0.058048613369464874, 0.469931423664093, 0.23634573817253113], [4.0, 0.012024191208183765, 0.21773754060268402, 0.44451284408569336, 0.2630598843097687, 0.5622204542160034], [4.0, 0.011988863348960876, 0.31049010157585144, 0.3288225531578064, 0.37224987149238586, 0.4458065629005432], [4.0, 0.011967028491199017, 0.2680804431438446, 0.9271437525749207, 0.31756940484046936, 1.0], [2.0, 0.011963676661252975, 0.21777434647083282, 0.10034418106079102, 0.2603134214878082, 0.18195295333862305], [2.0, 0.011963250115513802, 0.1617032289505005, 0.1605694591999054, 0.21352151036262512, 0.2179626226425171], [14.0, 0.011958131566643715, 0.7777150869369507, 0.6144631505012512, 0.850576639175415, 0.6970663666725159], [8.0, 0.011899870820343494, 0.0, 0.11400845646858215, 0.14632751047611237, 0.39295104146003723], [4.0, 0.011895785108208656, 0.4704357385635376, 0.43735331296920776, 0.5343437194824219, 0.5617067217826843], [14.0, 0.011895637959241867, 0.08727040886878967, 0.09626021981239319, 0.2104054093360901, 0.40697792172431946], [14.0, 0.011888922192156315, 0.21929806470870972, 0.3566543757915497, 0.26976653933525085, 0.4275113046169281], [4.0, 0.011873840354382992, 0.04569736868143082, 0.616790771484375, 0.10859528928995132, 0.7126913070678711], [14.0, 0.011872486211359501, 0.2744850516319275, 0.23665988445281982, 0.41842979192733765, 0.4222186803817749], [4.0, 0.011862638406455517, 0.10557717084884644, 0.6221425533294678, 0.15857639908790588, 0.7087216377258301], [8.0, 0.011856972239911556, 0.16893434524536133, 0.6251839399337769, 0.2978377938270569, 0.7819950580596924], [8.0, 0.011843227781355381, 0.10426963865756989, 0.6832723617553711, 0.25773561000823975, 0.8259940147399902], [14.0, 0.011841930449008942, 0.05406424403190613, 0.43674492835998535, 0.24118399620056152, 0.651353120803833], [14.0, 0.011781013570725918, 0.644334077835083, 0.04306842386722565, 0.8395698070526123, 0.2449117749929428], [2.0, 0.011752537451684475, 0.2656285762786865, 0.11151248216629028, 0.32139354944229126, 0.16734999418258667], [4.0, 0.011671537533402443, 0.0494287945330143, 0.6593447923660278, 0.10557043552398682, 0.7556940317153931], [14.0, 0.011661809869110584, 0.30451998114585876, 0.2901023328304291, 0.3772682845592499, 0.3818061053752899], [4.0, 0.011659501120448112, 0.2607543468475342, 0.5396671295166016, 0.3207363486289978, 0.6817003488540649], [14.0, 0.011657586321234703, 0.7778992652893066, 0.018970564007759094, 0.9269886016845703, 0.276186466217041], [4.0, 0.01160386111587286, 0.47103118896484375, 0.33085623383522034, 0.5335413217544556, 0.43753132224082947], [14.0, 0.011574485339224339, 0.7229535579681396, 0.769202470779419, 0.8066427707672119, 0.8613463640213013], [14.0, 0.011566611006855965, 0.49193865060806274, 0.0, 0.609546959400177, 0.1858610212802887], [14.0, 0.011547310277819633, 0.7289827466011047, 0.5593075752258301, 0.8001272082328796, 0.6447206735610962], [14.0, 0.011527320370078087, 0.23076514899730682, 0.21248920261859894, 0.28653401136398315, 0.26249343156814575], [8.0, 0.011507718823850155, 0.000674515962600708, 0.3849859833717346, 0.09758764505386353, 0.7111504673957825], [15.0, 0.011484237387776375, 0.0, 0.0, 0.19191604852676392, 0.3897705674171448], [14.0, 0.011470210738480091, 0.2648438513278961, 0.2729560434818268, 0.3209920823574066, 0.4078902304172516], [4.0, 0.011451180092990398, 0.045579105615615845, 0.5656647682189941, 0.11010187864303589, 0.657490611076355], [4.0, 0.011380751617252827, 0.5297010540962219, 0.9267094135284424, 0.5797843337059021, 1.0], [14.0, 0.011361164972186089, 0.34293875098228455, 0.7369488477706909, 0.5596441030502319, 0.941940426826477], [4.0, 0.01133936271071434, 0.1593373715877533, 0.5104929208755493, 0.21515032649040222, 0.6075670719146729], [14.0, 0.01131399441510439, 0.7327215671539307, 0.5144420266151428, 0.7939637899398804, 0.5939757227897644], [4.0, 0.011307384818792343, 0.0, 0.6069175601005554, 0.052687063813209534, 0.7243242859840393], [4.0, 0.011217502877116203, 0.22147677838802338, 0.34214261174201965, 0.2637987732887268, 0.4492447078227997], [14.0, 0.011175739578902721, 0.6373327374458313, 0.15051881968975067, 0.831511914730072, 0.34665656089782715], [14.0, 0.011164282448589802, 0.7690200209617615, 0.7749743461608887, 0.8587941527366638, 0.8581743240356445], [14.0, 0.011157078668475151, 0.3191792964935303, 0.25275206565856934, 0.47751861810684204, 0.412558376789093], [2.0, 0.011127297766506672, 0.8310343623161316, 0.1974410116672516, 0.9038195013999939, 0.2800157964229584], [14.0, 0.011118164286017418, 0.20916129648685455, 0.5140672326087952, 0.26883095502853394, 0.5919519066810608], [2.0, 0.011116660200059414, 0.09977331757545471, 0.2042081505060196, 0.15827268362045288, 0.27028876543045044], [8.0, 0.011111479252576828, 0.08139415085315704, 0.5802574157714844, 0.19428621232509613, 0.6367768049240112], [14.0, 0.01096734032034874, 0.7279750108718872, 0.7222863435745239, 0.8117481470108032, 0.8127555847167969], [4.0, 0.010934105142951012, 0.5232504606246948, 0.3817528784275055, 0.5862147808074951, 0.5067259073257446], [14.0, 0.010909364558756351, 0.37704557180404663, 0.8299091458320618, 0.5219420194625854, 1.0], [14.0, 0.0108974389731884, 0.3058723211288452, 0.3450932204723358, 0.3744949698448181, 0.432569295167923], [14.0, 0.010871607810258865, 0.6753594875335693, 0.29736530780792236, 0.73697829246521, 0.3845941424369812], [14.0, 0.010818841867148876, 0.15269404649734497, 0.5199357867240906, 0.22236481308937073, 0.5932355523109436], [2.0, 0.01081801112741232, 0.16206619143486023, 0.39745333790779114, 0.2115476131439209, 0.5051267147064209], [8.0, 0.010814286768436432, 0.8866738677024841, 0.1061369776725769, 1.0, 0.3794389069080353], [14.0, 0.010801183059811592, 0.057486094534397125, 0.3344945013523102, 0.24417299032211304, 0.5548292398452759], [14.0, 0.010742103680968285, 0.772280752658844, 0.6610889434814453, 0.8569301962852478, 0.7541184425354004], [2.0, 0.010740499012172222, 0.7256755828857422, 0.20172370970249176, 0.7928733825683594, 0.2773740887641907], [4.0, 0.01072790939360857, 0.9543828964233398, 0.5360759496688843, 1.0, 0.6779413223266602], [14.0, 0.010696632787585258, 0.07316656410694122, 0.7137664556503296, 0.22058232128620148, 0.966655969619751], [2.0, 0.010669120587408543, 0.7299759387969971, 0.10228444635868073, 0.7938969135284424, 0.16911379992961884], [8.0, 0.010660874657332897, 0.8364036083221436, 0.5155388116836548, 0.997299075126648, 0.6822284460067749], [4.0, 0.010649517178535461, 0.2593061029911041, 0.4929582178592682, 0.3177745044231415, 0.6212375164031982], [14.0, 0.010645586997270584, 0.4216526448726654, 0.15591448545455933, 0.655635416507721, 0.3352420926094055], [14.0, 0.010644102469086647, 0.15203668177127838, 0.047600843012332916, 0.3500956892967224, 0.2434718906879425], [14.0, 0.010628593154251575, 0.6154767870903015, 0.16010653972625732, 0.6974580883979797, 0.23330965638160706], [8.0, 0.010566932149231434, 0.007607556879520416, 0.6524583101272583, 0.20073136687278748, 1.0], [8.0, 0.010533017106354237, 0.021390702575445175, 0.5797734260559082, 0.1394767314195633, 0.6412239074707031], [2.0, 0.010504479520022869, 0.8298771977424622, 0.2470555305480957, 0.9040222764015198, 0.3336951732635498], [14.0, 0.010481455363333225, 0.4560762047767639, 0.05895090848207474, 0.6391040682792664, 0.26751604676246643], [15.0, 0.010475149378180504, 0.2570781707763672, 0.5559689402580261, 0.32549363374710083, 0.6541878581047058], [2.0, 0.010473295114934444, 0.7829583883285522, 0.09567335247993469, 0.8508328199386597, 0.16766130924224854], [14.0, 0.010469586588442326, 0.6936982274055481, 0.0, 0.8070517182350159, 0.1898248791694641], [14.0, 0.010458347387611866, 0.20697900652885437, 0.6705994009971619, 0.26131924986839294, 0.7412157654762268], [2.0, 0.01041149627417326, 0.7784444093704224, 0.24826641380786896, 0.8467879295349121, 0.33148568868637085], [2.0, 0.010404225438833237, 0.10227908194065094, 0.2569440007209778, 0.15885962545871735, 0.3234986662864685], [4.0, 0.010398504324257374, 0.8932862877845764, 0.55181884765625, 0.9499425292015076, 0.6615229845046997], [14.0, 0.010387541726231575, 0.6703546643257141, 0.8211088180541992, 0.7507395148277283, 0.9084190130233765], [14.0, 0.010381999425590038, 0.5682915449142456, 0.7214946746826172, 0.7294071912765503, 0.9709506034851074], [8.0, 0.010376634076237679, 0.2290956676006317, 0.8753567934036255, 0.4740264117717743, 0.9990160465240479], [14.0, 0.010373715311288834, 0.45862868428230286, 0.2854013442993164, 0.5422982573509216, 0.37235134840011597], [14.0, 0.010369687341153622, 0.37096697092056274, 0.9318217635154724, 0.4146256446838379, 1.0], [8.0, 0.010348863899707794, 0.0, 0.5179006457328796, 0.11073724180459976, 0.7857971787452698], [14.0, 0.010279282927513123, 0.5939049124717712, 0.0, 0.7087674736976624, 0.1917678564786911], [14.0, 0.0102259935811162, 0.07739878445863724, 0.21874016523361206, 0.2233148217201233, 0.4774741530418396], [14.0, 0.01022515632212162, 0.7246351838111877, 0.609712541103363, 0.8051778674125671, 0.6971390843391418], [14.0, 0.010219164192676544, 0.18124531209468842, 0.0, 0.3168841004371643, 0.15834985673427582], [14.0, 0.01018240675330162, 0.17862945795059204, 0.8308620452880859, 0.3187273442745209, 1.0], [2.0, 0.010176122188568115, 0.26486966013908386, 0.8788257837295532, 0.3380713164806366, 0.948119044303894], [8.0, 0.010158855468034744, 0.8016247749328613, 0.0, 1.0, 0.3601152300834656], [8.0, 0.010118707083165646, 0.016198910772800446, 0.6270706653594971, 0.14988213777542114, 0.6961696147918701], [14.0, 0.010102312080562115, 0.5183735489845276, 0.33743709325790405, 0.5918912291526794, 0.42730337381362915], [14.0, 0.010085569694638252, 0.6692702770233154, 0.21403488516807556, 0.815190315246582, 0.47680893540382385], [14.0, 0.010035973973572254, 0.316127747297287, 0.9201269745826721, 0.3663158118724823, 1.0], [14.0, 0.010031379759311676, 0.8295338749885559, 0.6663150191307068, 0.9004227519035339, 0.7518061995506287], [14.0, 0.010015673004090786, 0.001216735690832138, 0.1809021532535553, 0.09902507066726685, 0.5195060968399048], [14.0, 0.010005097836256027, 0.953470766544342, 0.6465405821800232, 1.0, 0.7794825434684753]]}\"\u001b[0m\r\n",
      "  % Total    % Received % Xferd  Average Speed   Time    Time     Time  Current\r\n",
      "                                 Dload  Upload   Total   Spent    Left  Speed\r\n"
     ]
    },
    {
     "name": "stdout",
     "output_type": "stream",
     "text": [
      "\r",
      "  0     0    0     0    0     0      0      0 --:--:-- --:--:-- --:--:--     0\r",
      "100  6484    0     0  100  6484      0  10577 --:--:-- --:--:-- --:--:-- 10560\r",
      "100 27906  100 21422  100  6484  34946  10577 --:--:-- --:--:-- --:--:-- 45449\r\n",
      "\u001b[0;32m\"{\\\"prediction\\\": [[11.0, 0.36658504605293274, 0.30325841903686523, 0.04849529266357422, 0.8349888324737549, 0.9091528654098511], [14.0, 0.15432827174663544, 0.25969645380973816, 0.0653243362903595, 0.8716251850128174, 0.9088501930236816], [14.0, 0.02965421788394451, 0.762209415435791, 0.12172560393810272, 0.9216351509094238, 0.3811876177787781], [11.0, 0.029477346688508987, 0.3134917616844177, 0.08254463970661163, 0.7568491101264954, 0.5295392274856567], [14.0, 0.0270673930644989, 0.6602473258972168, 0.12317241728305817, 0.826054573059082, 0.37967032194137573], [14.0, 0.02683699131011963, 0.4856424927711487, 0.6721611022949219, 0.6272643208503723, 0.9732494354248047], [4.0, 0.025284050032496452, 0.6793282628059387, 0.7430582046508789, 0.742065966129303, 0.890886664390564], [14.0, 0.025242572650313377, 0.44451773166656494, 0.05768585205078125, 0.6585469245910645, 0.24732229113578796], [14.0, 0.025176623836159706, 0.26166123151779175, 0.04922845959663391, 0.4540942311286926, 0.24775350093841553], [14.0, 0.02509073168039322, 0.6363797783851624, 0.059175364673137665, 0.8344182372093201, 0.256624311208725], [14.0, 0.024924766272306442, 0.34791889786720276, 0.057066306471824646, 0.5585945844650269, 0.248655304312706], [14.0, 0.023121997714042664, 0.7386049628257751, 0.045830100774765015, 0.9514991641044617, 0.2532188296318054], [14.0, 0.022316554561257362, 0.6704570651054382, 0.2932659387588501, 0.737196147441864, 0.39500415325164795], [11.0, 0.02193688414990902, 0.5265716910362244, 0.1869824230670929, 0.796134889125824, 1.0], [14.0, 0.021741298958659172, 0.4818270802497864, 0.04053020477294922, 0.792249858379364, 0.3146640658378601], [4.0, 0.021063899621367455, 0.6754050254821777, 0.7985355854034424, 0.740593433380127, 0.9489372968673706], [8.0, 0.02045171707868576, 0.582522451877594, 0.6680191159248352, 0.7280660271644592, 0.851944625377655], [8.0, 0.019974077120423317, 0.6391835808753967, 0.663274347782135, 0.7738683819770813, 0.8566277623176575], [14.0, 0.019884251058101654, 0.5746687650680542, 0.6680425405502319, 0.7190448045730591, 0.9797780513763428], [4.0, 0.01951618120074272, 0.6314117908477783, 0.8636925220489502, 0.6860150098800659, 0.9861912727355957], [4.0, 0.019462602213025093, 0.5680239796638489, 0.8634266257286072, 0.6323668360710144, 0.9906101822853088], [14.0, 0.01890396513044834, 0.6119796633720398, 0.2865200936794281, 0.6899957060813904, 0.3922077715396881], [14.0, 0.018847474828362465, 0.6662590503692627, 0.6939696073532104, 0.8078839778900146, 0.9815888404846191], [4.0, 0.018327318131923676, 0.6849462985992432, 0.44222262501716614, 0.740726113319397, 0.5577036142349243], [14.0, 0.018233904615044594, 0.6712337732315063, 0.3361797034740448, 0.7434284687042236, 0.44383683800697327], [14.0, 0.018200833350419998, 0.48640260100364685, 0.0, 0.6049213409423828, 0.19893068075180054], [4.0, 0.018140653148293495, 0.733189046382904, 0.434287428855896, 0.7915615439414978, 0.5738945007324219], [14.0, 0.01805178076028824, 0.6791334748268127, 0.2238503098487854, 0.737030565738678, 0.3615458607673645], [4.0, 0.017789263278245926, 0.6811733841896057, 0.37356680631637573, 0.7448979020118713, 0.5047261714935303], [4.0, 0.017597341910004616, 0.6770517826080322, 0.6376117467880249, 0.7469321489334106, 0.7932726144790649], [14.0, 0.01745832897722721, 0.3974047005176544, 0.6606165170669556, 0.5102715492248535, 0.9867755174636841], [14.0, 0.017002103850245476, 0.6733393669128418, 0.0, 0.8209304809570312, 0.16436812281608582], [14.0, 0.016968870535492897, 0.6702703237533569, 0.04903435334563255, 0.7545450925827026, 0.11682282388210297], [8.0, 0.016687819734215736, 0.6996031999588013, 0.3514697551727295, 0.8222929239273071, 0.5313017964363098], [10.0, 0.016570571810007095, 0.0, 0.6291205883026123, 0.434709370136261, 1.0], [4.0, 0.01624329946935177, 0.7312127351760864, 0.7407830357551575, 0.7860367298126221, 0.8843318819999695], [14.0, 0.016090665012598038, 0.3876199424266815, 0.0, 0.5029582381248474, 0.20175063610076904], [8.0, 0.016085272654891014, 0.6601414680480957, 0.7207825779914856, 0.7654231786727905, 0.8007937073707581], [8.0, 0.01606700010597706, 0.6635500192642212, 0.779025137424469, 0.7597240209579468, 0.851523220539093], [4.0, 0.01604110561311245, 0.628384530544281, 0.7381546497344971, 0.6900926232337952, 0.9033137559890747], [4.0, 0.015964413061738014, 0.731601357460022, 0.3781466484069824, 0.7878307104110718, 0.5118929743766785], [4.0, 0.015899064019322395, 0.6758002042770386, 0.8652008175849915, 0.7364776134490967, 0.9766800999641418], [8.0, 0.015842901542782784, 0.6580706238746643, 0.6683954000473022, 0.7682767510414124, 0.7519227266311646], [14.0, 0.015588006004691124, 0.4453800618648529, 0.0, 0.6589418649673462, 0.13678130507469177], [8.0, 0.015581239014863968, 0.7467515468597412, 0.3577579855918884, 0.8860586881637573, 0.5321925282478333], [14.0, 0.015561801381409168, 0.587455153465271, 0.0, 0.7052097320556641, 0.1983051598072052], [14.0, 0.015508479438722134, 0.3474779427051544, 0.0, 0.559003472328186, 0.1374891698360443], [14.0, 0.015491294674575329, 0.6216706037521362, 0.22161194682121277, 0.6870540380477905, 0.35912027955055237], [4.0, 0.015453431755304337, 0.522247314453125, 0.849010705947876, 0.5958733558654785, 0.9809764623641968], [4.0, 0.015359889715909958, 0.6218594312667847, 0.6860230565071106, 0.6959031820297241, 0.8484957814216614], [8.0, 0.015338052064180374, 0.6911854147911072, 0.6141546368598938, 0.8115348219871521, 0.8016796708106995], [15.0, 0.015271867625415325, 0.7675246000289917, 0.4899933338165283, 1.0, 0.9101235866546631], [15.0, 0.015244316309690475, 0.004583515226840973, 0.38901180028915405, 0.20899420976638794, 1.0], [8.0, 0.015142389573156834, 0.6452587842941284, 0.7613644599914551, 0.7832731008529663, 0.9681341648101807], [14.0, 0.015124310739338398, 0.6397985816001892, 0.2426937371492386, 0.7694489359855652, 0.43577975034713745], [14.0, 0.014996983110904694, 0.2942808270454407, 0.5845690965652466, 0.41122615337371826, 0.9180082082748413], [14.0, 0.014826356433331966, 0.16244585812091827, 0.04167754948139191, 0.34839630126953125, 0.24844364821910858], [4.0, 0.014762446284294128, 0.6867411732673645, 0.5009543895721436, 0.738071858882904, 0.6134002208709717], [15.0, 0.014585033990442753, 0.13512036204338074, 0.5099633932113647, 0.4445609748363495, 0.9000533819198608], [14.0, 0.014534411951899529, 0.7705575227737427, 0.3044126629829407, 0.917902946472168, 0.5821942090988159], [10.0, 0.014505189843475819, 0.0, 0.800790011882782, 0.6188499927520752, 1.0], [14.0, 0.014312907122075558, 0.895473062992096, 0.08633629977703094, 0.9980849623680115, 0.4177764058113098], [4.0, 0.014060162007808685, 0.6333855390548706, 0.5010499358177185, 0.6858153343200684, 0.6174419522285461], [4.0, 0.013988233171403408, 0.7849240303039551, 0.43516817688941956, 0.8406640291213989, 0.5681529641151428], [14.0, 0.013963751494884491, 0.17235054075717926, 0.718080997467041, 0.32114315032958984, 0.979668378829956], [4.0, 0.01395983062684536, 0.7265047430992126, 0.6820816397666931, 0.7873772978782654, 0.8391706347465515], [14.0, 0.013950341381132603, 0.7388333082199097, 0.22963012754917145, 0.9493393898010254, 0.45164424180984497], [14.0, 0.013930280692875385, 0.7757486701011658, 0.0, 0.9224501252174377, 0.16164016723632812], [14.0, 0.01392454281449318, 0.5004978179931641, 0.0, 0.7886148691177368, 0.18184751272201538], [14.0, 0.01391083374619484, 0.6232916116714478, 0.31841906905174255, 0.6959303617477417, 0.4508892595767975], [14.0, 0.01390144694596529, 0.285804808139801, 0.12038019299507141, 0.4348721504211426, 0.3677332103252411], [8.0, 0.013880300335586071, 0.32501381635665894, 0.5180671215057373, 0.45840227603912354, 0.687340259552002], [14.0, 0.01380054373294115, 0.5269628763198853, 0.533092200756073, 0.7610493898391724, 0.9566157460212708], [14.0, 0.013797109946608543, 0.767939031124115, 0.7185496687889099, 0.918762743473053, 0.9878911375999451], [8.0, 0.01375096756964922, 0.6151211857795715, 0.69749516248703, 0.7034783959388733, 0.8216399550437927], [10.0, 0.013746829703450203, 0.21719449758529663, 0.7784727215766907, 0.8192113041877747, 0.994396984577179], [8.0, 0.013731078244745731, 0.38745370507240295, 0.5148475170135498, 0.503423273563385, 0.6893142461776733], [14.0, 0.013624650426208973, 0.4009894132614136, 0.45156294107437134, 0.5103806257247925, 0.8554612994194031], [14.0, 0.013622633181512356, 0.17686599493026733, 0.6172018051147461, 0.32106953859329224, 0.8817071914672852], [14.0, 0.013555791229009628, 0.6731337904930115, 0.38256049156188965, 0.7466911673545837, 0.49742448329925537], [14.0, 0.013448022305965424, 0.7745726108551025, 0.4071556329727173, 0.9147440195083618, 0.6912292242050171], [8.0, 0.013417389243841171, 0.6184862852096558, 0.7764719128608704, 0.7153078317642212, 0.8509095311164856], [4.0, 0.013417382724583149, 0.7319823503494263, 0.7998103499412537, 0.7868236303329468, 0.9374944567680359], [14.0, 0.01335721556097269, 0.4210822582244873, 0.23154178261756897, 0.474751353263855, 0.3534605801105499], [4.0, 0.01333125401288271, 0.7353391051292419, 0.48813915252685547, 0.7934682965278625, 0.6287853717803955], [14.0, 0.01331472210586071, 0.7251511812210083, 0.39145922660827637, 0.7928323745727539, 0.4948575496673584], [14.0, 0.01328608300536871, 0.2809790372848511, 0.0, 0.4205169677734375, 0.15882115066051483], [4.0, 0.013147425837814808, 0.6347984671592712, 0.5508992671966553, 0.6885315775871277, 0.6724610328674316], [8.0, 0.01312692929059267, 0.5718986392021179, 0.6863670945167542, 0.6426014304161072, 0.8557748198509216], [4.0, 0.013111851178109646, 0.42628517746925354, 0.6514989137649536, 0.47402384877204895, 0.7842482328414917], [4.0, 0.013079711236059666, 0.5783268809318542, 0.5394309163093567, 0.6349242329597473, 0.6755648255348206], [8.0, 0.013064302504062653, 0.21403183043003082, 0.4214945435523987, 0.3699832558631897, 0.5842918753623962], [14.0, 0.012999667786061764, 0.18220332264900208, 0.11538326740264893, 0.32090064883232117, 0.3772486746311188], [8.0, 0.012996434234082699, 0.5048723816871643, 0.6700567603111267, 0.6147593855857849, 0.7518863081932068], [4.0, 0.012968568131327629, 0.5759547352790833, 0.5892165899276733, 0.6376987099647522, 0.734795331954956], [4.0, 0.01293189823627472, 0.36860036849975586, 0.6043667793273926, 0.42099034786224365, 0.7185773849487305], [2.0, 0.012907209806144238, 0.3276844024658203, 0.0967860296368599, 0.48447275161743164, 0.26672181487083435], [14.0, 0.012889351695775986, 0.07096710056066513, 0.01374080777168274, 0.21882522106170654, 0.2740088403224945], [4.0, 0.012849888764321804, 0.36909908056259155, 0.6598482131958008, 0.41983163356781006, 0.7711877822875977], [8.0, 0.0128075135871768, 0.3872567415237427, 0.6246604919433594, 0.5083041787147522, 0.8034777641296387], [8.0, 0.012706426903605461, 0.0, 0.21073657274246216, 0.14719857275485992, 0.48873138427734375], [4.0, 0.012681658379733562, 0.7330987453460693, 0.8692260384559631, 0.7879871129989624, 0.9742903113365173], [8.0, 0.012572537176311016, 0.7931336760520935, 0.4098864793777466, 0.9516090750694275, 0.5876597166061401], [4.0, 0.012556444853544235, 0.15608972311019897, 0.6566987037658691, 0.21324527263641357, 0.7718088626861572], [14.0, 0.012461992911994457, 0.07154320925474167, 0.11447416245937347, 0.21635344624519348, 0.3751906752586365], [14.0, 0.012382231652736664, 0.47687143087387085, 0.22299939393997192, 0.5395904183387756, 0.37276691198349], [14.0, 0.012375885620713234, 0.3688574731349945, 0.1252473145723343, 0.5417618751525879, 0.38016432523727417], [4.0, 0.012346884235739708, 0.5164077877998352, 0.5811614394187927, 0.5863041281700134, 0.742902934551239], [14.0, 0.012338660657405853, 0.5237457752227783, 0.0292290560901165, 0.5872277021408081, 0.12288269400596619], [4.0, 0.012338024564087391, 0.5134814977645874, 0.7202847003936768, 0.5882712602615356, 0.9189795255661011], [8.0, 0.01231332030147314, 0.5307261347770691, 0.5731505751609802, 1.0, 1.0], [4.0, 0.012312895618379116, 0.5730409622192383, 0.7324085831642151, 0.6389555931091309, 0.9037672877311707], [14.0, 0.012299997732043266, 0.627264678478241, 0.09634290635585785, 0.6844196915626526, 0.17860053479671478], [14.0, 0.012296643108129501, 0.18975374102592468, 0.4908171594142914, 0.30656927824020386, 0.8063277006149292], [4.0, 0.012291687540709972, 0.7907428741455078, 0.7633463740348816, 0.8343229293823242, 0.8710823655128479], [14.0, 0.0122777558863163, 0.7278954982757568, 0.345540314912796, 0.7910200357437134, 0.4386275112628937], [8.0, 0.012272864580154419, 0.5357195138931274, 0.7105550169944763, 0.6694482564926147, 0.9091562628746033], [14.0, 0.012246489524841309, 0.07155019044876099, 0.6169393062591553, 0.21939218044281006, 0.8853167295455933], [14.0, 0.012206250801682472, 0.6229609251022339, 0.04042977839708328, 0.6841686964035034, 0.12478474527597427], [8.0, 0.012179411016404629, 0.49158164858818054, 0.6596404910087585, 0.6281334161758423, 0.8777878880500793], [14.0, 0.012152818962931633, 0.446724534034729, 0.0, 0.9268448352813721, 0.40667957067489624], [4.0, 0.012136664241552353, 0.3696884512901306, 0.7122682332992554, 0.42027807235717773, 0.8201671838760376], [4.0, 0.012094194069504738, 0.579902708530426, 0.4888838231563568, 0.6323546767234802, 0.6175998449325562], [4.0, 0.012087770737707615, 0.3180142641067505, 0.395298570394516, 0.36625176668167114, 0.4996870458126068], [14.0, 0.012056666426360607, 0.7624906301498413, 0.0, 0.9965908527374268, 0.6039766669273376], [15.0, 0.0120384581387043, 0.0, 0.3014930486679077, 0.23849612474441528, 0.6837145686149597], [8.0, 0.012001197785139084, 0.7088865637779236, 0.6718051433563232, 0.8041264414787292, 0.7476100921630859], [4.0, 0.011983728036284447, 0.8962368369102478, 0.38372117280960083, 0.9496298432350159, 0.5097262859344482], [14.0, 0.01197415217757225, 0.6168737411499023, 0.132908433675766, 0.7004091739654541, 0.22654518485069275], [14.0, 0.011973625048995018, 0.157596617937088, 0.3478039801120758, 0.34106704592704773, 0.5516629219055176], [4.0, 0.01196783035993576, 0.6312739253044128, 0.44130921363830566, 0.6841157078742981, 0.5553350448608398], [8.0, 0.011938312090933323, 0.7085024118423462, 0.41555771231651306, 0.8015356063842773, 0.4805738031864166], [8.0, 0.011933930218219757, 0.5596563816070557, 0.776046097278595, 0.6635755300521851, 0.8537593483924866], [8.0, 0.011927939020097256, 0.637126088142395, 0.5549880266189575, 0.7818976640701294, 0.7600498199462891], [8.0, 0.011869055218994617, 0.0, 0.4098639488220215, 0.14830853044986725, 0.6888943910598755], [14.0, 0.011829618364572525, 0.6757035851478577, 0.18032322824001312, 0.7460255026817322, 0.29946768283843994], [8.0, 0.011806432157754898, 0.10777777433395386, 0.1546572595834732, 0.2611071467399597, 0.31856268644332886], [8.0, 0.011731228791177273, 0.6182430982589722, 0.6576903462409973, 0.7063782215118408, 0.7711561322212219], [4.0, 0.011720324866473675, 0.629953145980835, 0.5923038721084595, 0.6913141012191772, 0.7319791316986084], [8.0, 0.01172022707760334, 0.26742178201675415, 0.46825170516967773, 0.4245362877845764, 0.6345748901367188], [8.0, 0.011674785055220127, 0.6870673894882202, 0.7195361256599426, 0.8165861368179321, 0.8994125723838806], [15.0, 0.011663815937936306, 0.0, 0.0, 0.1948077231645584, 0.39109092950820923], [14.0, 0.01166316494345665, 0.5229871869087219, 0.06816364824771881, 0.6887719035148621, 0.20895688235759735], [4.0, 0.011647428385913372, 0.6847537159919739, 0.5501859188079834, 0.7393175959587097, 0.6729257106781006], [14.0, 0.011642941273748875, 0.5679716467857361, 0.755146861076355, 0.6445450186729431, 0.873593807220459], [8.0, 0.011588871479034424, 0.3246605396270752, 0.41569429636001587, 0.46489304304122925, 0.5877228379249573], [14.0, 0.011584826745092869, 0.06799381226301193, 0.7193042039871216, 0.21968770027160645, 0.9837589263916016], [4.0, 0.011576720513403416, 0.7841771245002747, 0.046092428267002106, 0.8453118205070496, 0.12993907928466797], [14.0, 0.011571679264307022, 0.25759804248809814, 0.7357566356658936, 0.4409690499305725, 0.9564337730407715], [8.0, 0.011567224748432636, 0.11914964020252228, 0.49925196170806885, 0.37213146686553955, 0.7935343980789185], [8.0, 0.011560525745153427, 0.8454171419143677, 0.0, 1.0, 0.15801078081130981], [8.0, 0.011547643691301346, 0.4970424771308899, 0.8283840417861938, 0.6255839467048645, 0.9856154918670654], [14.0, 0.011530800722539425, 0.17725831270217896, 0.4168630540370941, 0.31823623180389404, 0.6765319108963013], [17.0, 0.011509893462061882, 0.10797271132469177, 0.0, 0.905552864074707, 0.8998997211456299], [8.0, 0.011488840915262699, 0.16312827169895172, 0.36326295137405396, 0.32184189558029175, 0.5273730754852295], [14.0, 0.011475138366222382, 0.16050469875335693, 0.2437507063150406, 0.34203100204467773, 0.4517648220062256], [14.0, 0.011471348814666271, 0.0, 0.5805082321166992, 0.09915738552808762, 0.9216295480728149], [4.0, 0.01145210675895214, 0.7886665463447571, 0.7088797092437744, 0.8322996497154236, 0.8189808130264282], [8.0, 0.011381499469280243, 0.4554382860660553, 0.6672665476799011, 0.5716679692268372, 0.861584484577179], [14.0, 0.011368800885975361, 0.46984779834747314, 0.18249544501304626, 0.5384479761123657, 0.31056058406829834], [4.0, 0.01136819738894701, 0.7861078381538391, 0.867927610874176, 0.8421220183372498, 0.9729010462760925], [14.0, 0.011359594762325287, 0.5610222220420837, 0.1310613453388214, 0.7399465441703796, 0.37714776396751404], [8.0, 0.01135717798024416, 0.21264705061912537, 0.5202122926712036, 0.3756859004497528, 0.6897757053375244], [4.0, 0.01134604774415493, 0.7887668013572693, 0.4873216152191162, 0.8380056023597717, 0.6218477487564087], [14.0, 0.011315440759062767, 0.1798134446144104, 0.0, 0.3182333707809448, 0.1526525914669037], [14.0, 0.011293829418718815, 0.7247459888458252, 0.05189498886466026, 0.8073384761810303, 0.11698931455612183], [14.0, 0.01124644186347723, 0.47252851724624634, 0.0438680462539196, 0.5303739905357361, 0.12236185371875763], [14.0, 0.011224333196878433, 0.04808706045150757, 0.5409238338470459, 0.2387349009513855, 0.7498337030410767], [8.0, 0.011223044246435165, 0.0519273579120636, 0.7762874960899353, 0.5089988708496094, 1.0], [14.0, 0.011206021532416344, 0.570656955242157, 0.030374784022569656, 0.6325847506523132, 0.12724809348583221], [4.0, 0.011198836378753185, 0.5733535885810852, 0.09010767191648483, 0.6327224373817444, 0.1836591362953186], [2.0, 0.01116736326366663, 0.6655880808830261, 0.1070813313126564, 0.8549816012382507, 0.25926634669303894], [8.0, 0.011158273555338383, 0.2663373053073883, 0.5748870372772217, 0.4218202531337738, 0.745524525642395], [14.0, 0.011125568300485611, 0.2634066641330719, 0.5394689440727234, 0.43752291798591614, 0.7576752305030823], [8.0, 0.011124834418296814, 0.7096171975135803, 0.7278155088424683, 0.8020824790000916, 0.7952218055725098], [4.0, 0.01110953837633133, 0.20775887370109558, 0.6529719829559326, 0.2657000422477722, 0.7712955474853516], [7.0, 0.011077838018536568, 0.46595513820648193, 0.0027982890605926514, 0.9780380725860596, 0.9284485578536987], [8.0, 0.011076699011027813, 0.5487422943115234, 0.8811458945274353, 0.6480064392089844, 0.9686263203620911], [4.0, 0.011019053868949413, 0.7870723605155945, 0.8124317526817322, 0.8383700251579285, 0.9301102757453918], [8.0, 0.010978056117892265, 0.6397216320037842, 0.8946567177772522, 0.7819176912307739, 1.0], [14.0, 0.010971720330417156, 0.5748075246810913, 0.0, 0.6294423341751099, 0.07664857059717178], [14.0, 0.010961895808577538, 0.7273884415626526, 0.2964321970939636, 0.7924373745918274, 0.38923895359039307], [4.0, 0.010923344641923904, 0.42658114433288574, 0.7050156593322754, 0.4739590287208557, 0.8297556638717651], [4.0, 0.01092272438108921, 0.7892193794250488, 0.5950896739959717, 0.8328536748886108, 0.7225121259689331], [4.0, 0.01092205848544836, 0.42663902044296265, 0.5947351455688477, 0.4741709232330322, 0.7296077013015747], [4.0, 0.010920201428234577, 0.8941918015480042, 0.5983989238739014, 0.9502086043357849, 0.717002272605896], [14.0, 0.010913503356277943, 0.6146370768547058, 0.3801802098751068, 0.6909375786781311, 0.48858407139778137], [14.0, 0.010907617397606373, 0.07086537033319473, 0.41473817825317383, 0.21698936820030212, 0.6728589534759521], [14.0, 0.010883673094213009, 0.07169050723314285, 0.21506665647029877, 0.21620729565620422, 0.47528594732284546], [4.0, 0.010883031412959099, 0.6821653842926025, 0.9229733943939209, 0.7332127094268799, 1.0], [14.0, 0.010837288573384285, 0.07121435552835464, 0.31520307064056396, 0.2165890634059906, 0.5724129676818848], [14.0, 0.010832778178155422, 0.7375937700271606, 0.9266022443771362, 0.7893712520599365, 1.0], [8.0, 0.010817264206707478, 0.709163248538971, 0.4723968207836151, 0.7920195460319519, 0.5316044092178345], [8.0, 0.010800141841173172, 0.0, 0.01734405755996704, 0.14843852818012238, 0.29770326614379883], [4.0, 0.010758178308606148, 0.7336568236351013, 0.053058039397001266, 0.7957636713981628, 0.1260373890399933], [8.0, 0.01074449997395277, 0.0, 0.6091901063919067, 0.15233394503593445, 0.8965234756469727], [8.0, 0.010742194950580597, 0.3809460997581482, 0.7292762398719788, 0.5104719400405884, 0.9029306769371033], [14.0, 0.01072340365499258, 0.4125016927719116, 0.18335631489753723, 0.48141491413116455, 0.2986030578613281], [14.0, 0.010676699690520763, 0.6270471215248108, 0.0, 0.6825354695320129, 0.07185859978199005], [4.0, 0.010676217265427113, 0.21109768748283386, 0.3932120203971863, 0.26293298602104187, 0.5015611052513123]]}\"\u001b[0m\r\n"
     ]
    }
   ],
   "source": [
    "!./api.sh \"https://jwww8ados2.execute-api.us-west-2.amazonaws.com/dev/detect\" "
   ]
  },
  {
   "cell_type": "code",
   "execution_count": null,
   "id": "96eb2e03",
   "metadata": {},
   "outputs": [],
   "source": []
  }
 ],
 "metadata": {
  "kernelspec": {
   "display_name": "conda_python3",
   "language": "python",
   "name": "conda_python3"
  },
  "language_info": {
   "codemirror_mode": {
    "name": "ipython",
    "version": 3
   },
   "file_extension": ".py",
   "mimetype": "text/x-python",
   "name": "python",
   "nbconvert_exporter": "python",
   "pygments_lexer": "ipython3",
   "version": "3.6.13"
  }
 },
 "nbformat": 4,
 "nbformat_minor": 5
}
