{
 "cells": [
  {
   "cell_type": "markdown",
   "id": "20aea68c",
   "metadata": {},
   "source": [
    "### Environment Preparation "
   ]
  },
  {
   "cell_type": "markdown",
   "id": "52595b4b",
   "metadata": {},
   "source": [
    "* prepare session and bucket \n",
    "* prepare necessary parameters "
   ]
  },
  {
   "cell_type": "code",
   "execution_count": 1,
   "id": "f40a7033",
   "metadata": {},
   "outputs": [],
   "source": [
    "import sagemaker \n",
    "import boto3 \n",
    "sess = sagemaker.Session()\n",
    "BUCKET = sess.default_bucket()"
   ]
  },
  {
   "cell_type": "code",
   "execution_count": 2,
   "id": "1b542233",
   "metadata": {},
   "outputs": [
    {
     "data": {
      "text/plain": [
       "'sagemaker-us-west-2-518460648208'"
      ]
     },
     "execution_count": 2,
     "metadata": {},
     "output_type": "execute_result"
    }
   ],
   "source": [
    "BUCKET"
   ]
  },
  {
   "cell_type": "code",
   "execution_count": 3,
   "id": "9290d8eb",
   "metadata": {},
   "outputs": [],
   "source": [
    "client = boto3.client(\"sts\")\n",
    "account_id = client.get_caller_identity()[\"Account\"]\n"
   ]
  },
  {
   "cell_type": "code",
   "execution_count": 4,
   "id": "b7cd8788",
   "metadata": {},
   "outputs": [
    {
     "name": "stdout",
     "output_type": "stream",
     "text": [
      "01-environment.ipynb\t\t\t      deploy_model.py\r\n",
      "02-a2i-object-detection-and-retraining.ipynb  images\r\n",
      "03-prepare-lambda-functions.ipynb\t      invoke_image_object_detection\r\n",
      "api.sh\t\t\t\t\t      process_a2i_results\r\n",
      "augmented.manifest\t\t\t      README.md\r\n",
      "content_image\t\t\t\t      sample-a2i-images\r\n"
     ]
    }
   ],
   "source": [
    "!ls \n"
   ]
  },
  {
   "cell_type": "markdown",
   "id": "705dfbc4",
   "metadata": {},
   "source": [
    "### Setup lambda functions and SQS \n",
    "We use a lambda function ```invoke_image_object_detection``` to \n",
    "1. trigger the sagemaker endpoint to do inference\n",
    "2. save the image to s3 and trigger a2i process \n",
    "3. send a2i and s3 information to SQS \n",
    "\n",
    "And, we use a lambda function ```process_a2i_results``` to \n",
    "1. listening to SQS and process a2i results \n",
    "2. trigger retraining pipelines \n",
    "\n",
    "The following steps creates lambda functions \n",
    "\n",
    "* copying codes to s3 \n",
    "* create lambda functions by codes on s3 \n",
    "* setup environment variables \n"
   ]
  },
  {
   "cell_type": "code",
   "execution_count": 5,
   "id": "8390da2d",
   "metadata": {},
   "outputs": [
    {
     "name": "stdout",
     "output_type": "stream",
     "text": [
      "updating: lambda_function.py (deflated 57%)\n",
      "updating: pass_tasks2sqs.py (deflated 45%)\n",
      "Completed 1.5 KiB/1.5 KiB (20.6 KiB/s) with 1 file(s) remaining\r",
      "upload: ./invoke_image_object_detection.zip to s3://sagemaker-us-west-2-518460648208/lambda/invoke_image_object_detection.zip\n",
      "updating: prepare_data.py (deflated 67%)\n",
      "updating: model.py (deflated 47%)\n",
      "updating: lambda_function.py (deflated 62%)\n",
      "Completed 2.5 KiB/2.5 KiB (43.0 KiB/s) with 1 file(s) remaining\r",
      "upload: ./process_a2i_results.zip to s3://sagemaker-us-west-2-518460648208/lambda/process_a2i_results.zip\n"
     ]
    }
   ],
   "source": [
    "%%bash -s \"$BUCKET\" \n",
    "cd invoke_image_object_detection \n",
    "zip -r invoke_image_object_detection.zip  .\n",
    "aws s3 cp invoke_image_object_detection.zip s3://$1/lambda/\n",
    "cd ../process_a2i_results\n",
    "zip -r process_a2i_results.zip  .\n",
    "aws s3 cp process_a2i_results.zip s3://$1/lambda/"
   ]
  },
  {
   "cell_type": "code",
   "execution_count": 6,
   "id": "370b7474",
   "metadata": {},
   "outputs": [
    {
     "name": "stdout",
     "output_type": "stream",
     "text": [
      "{\r\n",
      "    \"FunctionName\": \"invoke_image_object_detection\",\r\n",
      "    \"FunctionArn\": \"arn:aws:lambda:us-west-2:518460648208:function:invoke_image_object_detection\",\r\n",
      "    \"Runtime\": \"python3.7\",\r\n",
      "    \"Role\": \"arn:aws:iam::518460648208:role/TeamRole\",\r\n",
      "    \"Handler\": \"lambda_function.lambda_handler\",\r\n",
      "    \"CodeSize\": 1578,\r\n",
      "    \"Description\": \"\",\r\n",
      "    \"Timeout\": 3,\r\n",
      "    \"MemorySize\": 128,\r\n",
      "    \"LastModified\": \"2021-05-06T13:57:45.017+0000\",\r\n",
      "    \"CodeSha256\": \"cdJXlHHH1xbUUHL+k1pSzj1WEadtRqUFBSZ1wDxOh2I=\",\r\n",
      "    \"Version\": \"$LATEST\",\r\n",
      "    \"TracingConfig\": {\r\n",
      "        \"Mode\": \"PassThrough\"\r\n",
      "    },\r\n",
      "    \"RevisionId\": \"7d3e9752-8b3f-4a24-a312-227bc671ad1e\",\r\n",
      "    \"State\": \"Active\",\r\n",
      "    \"LastUpdateStatus\": \"Successful\",\r\n",
      "    \"PackageType\": \"Zip\"\r\n",
      "}\r\n"
     ]
    }
   ],
   "source": [
    "!aws lambda create-function --function-name invoke_image_object_detection --zip-file fileb:///home/ec2-user/SageMaker/mlops_incremental_learning/invoke_image_object_detection/invoke_image_object_detection.zip  --handler lambda_function.lambda_handler --runtime python3.7 --role arn:aws:iam::$account_id:role/TeamRole\n"
   ]
  },
  {
   "cell_type": "markdown",
   "id": "c1bff4da",
   "metadata": {},
   "source": [
    "#### Configure lambda function - invoke_image_object_detection \n",
    "* you can also do it by command line - \n",
    "```\n",
    "aws lambda update-function-configuration --function-name invoke_image_object_detection \\\n",
    "    --environment \"Variables={BUCKET=my-bucket,KEY=file.txt}\"\n",
    "```    \n",
    "![configure environment variable](./content_image/setup_env_vars_for_lambda2.png)"
   ]
  },
  {
   "cell_type": "code",
   "execution_count": 25,
   "id": "92dcb3f5",
   "metadata": {},
   "outputs": [],
   "source": [
    "%store -r flowDefinitionArn\n",
    "%store -r endpoint_name"
   ]
  },
  {
   "cell_type": "code",
   "execution_count": 26,
   "id": "afec0d82",
   "metadata": {},
   "outputs": [
    {
     "name": "stdout",
     "output_type": "stream",
     "text": [
      "https://us-west-2.queue.amazonaws.com/518460648208/a2itasks\n"
     ]
    }
   ],
   "source": [
    "sqs = boto3.resource('sqs')\n",
    "queue = sqs.create_queue(QueueName='a2itasks', Attributes={'DelaySeconds': '0'})\n",
    "print(queue.url)\n",
    "\n"
   ]
  },
  {
   "cell_type": "code",
   "execution_count": 27,
   "id": "3a90e706",
   "metadata": {},
   "outputs": [
    {
     "data": {
      "text/plain": [
       "sqs.Queue(url='https://us-west-2.queue.amazonaws.com/518460648208/a2itasks')"
      ]
     },
     "execution_count": 27,
     "metadata": {},
     "output_type": "execute_result"
    }
   ],
   "source": [
    "queue"
   ]
  },
  {
   "cell_type": "code",
   "execution_count": 34,
   "id": "88788e00",
   "metadata": {},
   "outputs": [
    {
     "name": "stdout",
     "output_type": "stream",
     "text": [
      "{\r\n",
      "    \"FunctionName\": \"invoke_image_object_detection\",\r\n",
      "    \"FunctionArn\": \"arn:aws:lambda:us-west-2:518460648208:function:invoke_image_object_detection\",\r\n",
      "    \"Runtime\": \"python3.7\",\r\n",
      "    \"Role\": \"arn:aws:iam::518460648208:role/TeamRole\",\r\n",
      "    \"Handler\": \"lambda_function.lambda_handler\",\r\n",
      "    \"CodeSize\": 1578,\r\n",
      "    \"Description\": \"\",\r\n",
      "    \"Timeout\": 3,\r\n",
      "    \"MemorySize\": 128,\r\n",
      "    \"LastModified\": \"2021-05-06T14:24:05.026+0000\",\r\n",
      "    \"CodeSha256\": \"cdJXlHHH1xbUUHL+k1pSzj1WEadtRqUFBSZ1wDxOh2I=\",\r\n",
      "    \"Version\": \"$LATEST\",\r\n",
      "    \"Environment\": {\r\n",
      "        \"Variables\": {\r\n",
      "            \"ENDPOINT_NAME\": \"DEMO-object-detection-augmented-ai-2021-05-06-13-24-14\",\r\n",
      "            \"A2IFLOW_DEF\": \"arn:aws:sagemaker:us-west-2:518460648208:flow-definition/fd-sagemaker-object-detection-demo-2021-05-06-13-34-10\",\r\n",
      "            \"BUCKET\": \"sagemaker-us-west-2-518460648208\",\r\n",
      "            \"KEY\": \"a2i-demo\",\r\n",
      "            \"SQS_URL\": \"https://us-west-2.queue.amazonaws.com/518460648208/a2itasks\"\r\n",
      "        }\r\n",
      "    },\r\n",
      "    \"TracingConfig\": {\r\n",
      "        \"Mode\": \"PassThrough\"\r\n",
      "    },\r\n",
      "    \"RevisionId\": \"e529e4f8-846f-4c88-8a4a-c9d0bf590d71\",\r\n",
      "    \"State\": \"Active\",\r\n",
      "    \"LastUpdateStatus\": \"Successful\",\r\n",
      "    \"PackageType\": \"Zip\"\r\n",
      "}\r\n"
     ]
    }
   ],
   "source": [
    "bucket_key = \"a2i-demo\"\n",
    "variables = f\"A2IFLOW_DEF={flowDefinitionArn},BUCKET={BUCKET},ENDPOINT_NAME={endpoint_name}, SQS_URL={queue.url}, KEY={bucket_key}\"\n",
    "env = \"Variables={\"+variables+\"}\"\n",
    "\n",
    "!aws lambda update-function-configuration --function-name invoke_image_object_detection --environment \"$env\"\n"
   ]
  },
  {
   "cell_type": "code",
   "execution_count": 29,
   "id": "154f70bb",
   "metadata": {},
   "outputs": [
    {
     "name": "stdout",
     "output_type": "stream",
     "text": [
      "{\r\n",
      "    \"FunctionName\": \"process_a2i_results\",\r\n",
      "    \"FunctionArn\": \"arn:aws:lambda:us-west-2:518460648208:function:process_a2i_results\",\r\n",
      "    \"Runtime\": \"python3.7\",\r\n",
      "    \"Role\": \"arn:aws:iam::518460648208:role/TeamRole\",\r\n",
      "    \"Handler\": \"lambda_function.lambda_handler\",\r\n",
      "    \"CodeSize\": 2521,\r\n",
      "    \"Description\": \"\",\r\n",
      "    \"Timeout\": 3,\r\n",
      "    \"MemorySize\": 128,\r\n",
      "    \"LastModified\": \"2021-05-06T14:16:48.220+0000\",\r\n",
      "    \"CodeSha256\": \"gyO803L3VA6jZzDdwtfICS3+EGMyUAUsg/gbhjOh2zM=\",\r\n",
      "    \"Version\": \"$LATEST\",\r\n",
      "    \"TracingConfig\": {\r\n",
      "        \"Mode\": \"PassThrough\"\r\n",
      "    },\r\n",
      "    \"RevisionId\": \"c0615abc-f972-482e-96b2-5c2f1cad5ebd\",\r\n",
      "    \"State\": \"Active\",\r\n",
      "    \"LastUpdateStatus\": \"Successful\",\r\n",
      "    \"PackageType\": \"Zip\"\r\n",
      "}\r\n"
     ]
    }
   ],
   "source": [
    "!aws lambda create-function --function-name process_a2i_results --zip-file fileb:///home/ec2-user/SageMaker/mlops_incremental_learning/process_a2i_results/process_a2i_results.zip  --handler lambda_function.lambda_handler --runtime python3.7 --role arn:aws:iam::$account_id:role/TeamRole"
   ]
  },
  {
   "cell_type": "markdown",
   "id": "5d90e703",
   "metadata": {},
   "source": [
    "#### Configure lambda function - process_a2i_results\n",
    "![configure environment variable](./content_image/setup_env_vars_for_lambda3.png)"
   ]
  },
  {
   "cell_type": "code",
   "execution_count": 30,
   "id": "b2a74310",
   "metadata": {},
   "outputs": [],
   "source": [
    "%store -r model_package_group_name \n",
    "%store -r pipeline_name"
   ]
  },
  {
   "cell_type": "code",
   "execution_count": 31,
   "id": "4d79ca8d",
   "metadata": {},
   "outputs": [
    {
     "name": "stdout",
     "output_type": "stream",
     "text": [
      "{\r\n",
      "    \"FunctionName\": \"process_a2i_results\",\r\n",
      "    \"FunctionArn\": \"arn:aws:lambda:us-west-2:518460648208:function:process_a2i_results\",\r\n",
      "    \"Runtime\": \"python3.7\",\r\n",
      "    \"Role\": \"arn:aws:iam::518460648208:role/TeamRole\",\r\n",
      "    \"Handler\": \"lambda_function.lambda_handler\",\r\n",
      "    \"CodeSize\": 2521,\r\n",
      "    \"Description\": \"\",\r\n",
      "    \"Timeout\": 3,\r\n",
      "    \"MemorySize\": 128,\r\n",
      "    \"LastModified\": \"2021-05-06T14:20:44.601+0000\",\r\n",
      "    \"CodeSha256\": \"gyO803L3VA6jZzDdwtfICS3+EGMyUAUsg/gbhjOh2zM=\",\r\n",
      "    \"Version\": \"$LATEST\",\r\n",
      "    \"Environment\": {\r\n",
      "        \"Variables\": {\r\n",
      "            \"BUCKET\": \"sagemaker-us-west-2-518460648208\",\r\n",
      "            \"PIPELINE\": \"ImageObjectDetection\",\r\n",
      "            \"MODEL_GROUP\": \"ObjectDetectionGroupModel\"\r\n",
      "        }\r\n",
      "    },\r\n",
      "    \"TracingConfig\": {\r\n",
      "        \"Mode\": \"PassThrough\"\r\n",
      "    },\r\n",
      "    \"RevisionId\": \"3359106f-a16c-462b-b043-4105c751666a\",\r\n",
      "    \"State\": \"Active\",\r\n",
      "    \"LastUpdateStatus\": \"Successful\",\r\n",
      "    \"PackageType\": \"Zip\"\r\n",
      "}\r\n"
     ]
    }
   ],
   "source": [
    "bucket_key = \"a2i-demo\"\n",
    "variables = f\"MODEL_GROUP={model_package_group_name},BUCKET={BUCKET},PIPELINE={pipeline_name}\"\n",
    "env = \"Variables={\"+variables+\"}\"\n",
    "\n",
    "!aws lambda update-function-configuration --function-name process_a2i_results --environment \"$env\""
   ]
  },
  {
   "cell_type": "markdown",
   "id": "804b8b76",
   "metadata": {},
   "source": [
    "### Set up SQS \n",
    "\n",
    "* we use SQS to pass the information between lambda functions in this solution \n",
    "* set up SQS and attach it as a trigger to a lambda function \n",
    "\n"
   ]
  },
  {
   "cell_type": "code",
   "execution_count": 33,
   "id": "2a0d8ef0",
   "metadata": {},
   "outputs": [
    {
     "name": "stdout",
     "output_type": "stream",
     "text": [
      "\r\n",
      "An error occurred (ResourceConflictException) when calling the CreateEventSourceMapping operation: An event source mapping with SQS arn (\" arn:aws:sqs:us-west-2:518460648208:a2itasks \") and function (\" process_a2i_results \") already exists. Please update or delete the existing mapping with UUID 2249c63f-a4c6-4622-8e2b-ef7a46f4979c\r\n"
     ]
    }
   ],
   "source": [
    "!aws lambda create-event-source-mapping --function-name process_a2i_results  --batch-size 10 \\\n",
    "--maximum-batching-window-in-seconds 300 --event-source-arn arn:aws:sqs:us-west-2:$account_id:a2itasks\n"
   ]
  },
  {
   "cell_type": "markdown",
   "id": "8b98ce38",
   "metadata": {},
   "source": [
    "### Test Material \n",
    "```\n",
    "{\n",
    "  \"content\": \"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\"\n",
    "}\n",
    "```\n"
   ]
  },
  {
   "cell_type": "markdown",
   "id": "5afac501",
   "metadata": {},
   "source": [
    "### Test Data \n",
    "\n",
    "* please adjust based on your environment \n",
    "```\n",
    "{\n",
    "  \"Records\": [\n",
    "    {\n",
    "      \"messageAttributes\": {\n",
    "        \"s3-image-path\": {\n",
    "          \"stringValue\": \"s3://sagemaker-us-west-2-230755935769/a2i-results/sample-a2i-images/pexels-photo-276517.jpeg\"\n",
    "        },\n",
    "        \"a2i-task-id\": {\n",
    "          \"stringValue\": \"a78d671e-217f-474b-bc12-c029097fb7bf\"\n",
    "        }\n",
    "      }\n",
    "    }\n",
    "  ]\n",
    "}\n",
    "```\n",
    "\n"
   ]
  },
  {
   "cell_type": "markdown",
   "id": "98db25c1",
   "metadata": {},
   "source": [
    "## Configure API Gateway \n",
    "* Finally, we need an API to have the service accessible\n",
    "* This API accepts image POST to it and pass the image to ```invoke_image_object_detection```\n",
    "\n",
    "```curl -X POST -H 'content-type: image/jpeg' --data-binary @$f $OD_API | jq .``` \n",
    "\n",
    "* we can create it by console also by aws cli \n",
    "\n"
   ]
  },
  {
   "cell_type": "markdown",
   "id": "e8ec246b",
   "metadata": {},
   "source": [
    "#### Select RESTful API "
   ]
  },
  {
   "cell_type": "markdown",
   "id": "b92a2738",
   "metadata": {},
   "source": [
    "\n",
    "![configure environment variable](./content_image/build_api_gateway.png)\n",
    "\n"
   ]
  },
  {
   "cell_type": "markdown",
   "id": "cbeed777",
   "metadata": {},
   "source": [
    "### Create Resource and Methods "
   ]
  },
  {
   "cell_type": "markdown",
   "id": "0369820f",
   "metadata": {},
   "source": [
    "![configure environment variable](./content_image/create_resource.png)\n",
    "<br>\n",
    "![configure environment variable](./content_image/create_method.png)\n",
    "<br>\n",
    "![configure environment variable](./content_image/create_method2.png)\n",
    "<br>\n",
    "\n"
   ]
  },
  {
   "cell_type": "markdown",
   "id": "f87da249",
   "metadata": {},
   "source": [
    "### Configurations for passing the binary content to backend\n",
    "* Add binary media type in ```Settings``` of this API \n",
    "* Configure which attribute to extract and fill it in event in Lambda integration "
   ]
  },
  {
   "cell_type": "markdown",
   "id": "57c8e5d4",
   "metadata": {},
   "source": [
    "![configure environment variable](./content_image/setting.png)\n",
    "![configure environment variable](./content_image/integration.png)\n",
    "![configure environment variable](./content_image/setting1.png)"
   ]
  },
  {
   "cell_type": "code",
   "execution_count": 5,
   "id": "31f4efb8",
   "metadata": {},
   "outputs": [
    {
     "name": "stdout",
     "output_type": "stream",
     "text": [
      "#!/bin/bash\r\n",
      "\r\n",
      "#OD_API='https://2lvd1jdy8l.execute-api.us-west-2.amazonaws.com/test/classify'\r\n",
      "OD_API='$1'\r\n",
      "\r\n",
      "for f in $(ls images/*.jpg)\r\n",
      "do\r\n",
      "    curl -X POST -H 'content-type: image/jpeg' --data-binary @$f $OD_API | jq .\r\n",
      "done\r\n"
     ]
    }
   ],
   "source": [
    "!cat api.sh "
   ]
  },
  {
   "cell_type": "code",
   "execution_count": 35,
   "id": "13624028",
   "metadata": {},
   "outputs": [
    {
     "name": "stdout",
     "output_type": "stream",
     "text": [
      "https://jwww8ados2.execute-api.us-west-2.amazonaws.com/dev/detect\n",
      "  % Total    % Received % Xferd  Average Speed   Time    Time     Time  Current\n",
      "                                 Dload  Upload   Total   Spent    Left  Speed\n",
      "100 62019  100 25418  100 36601  11978  17248  0:00:02  0:00:02 --:--:-- 29212\n",
      "\u001b[0;32m\"{\\\"prediction\\\": [[7.0, 0.8127302527427673, 0.15721413493156433, 0.0, 0.7096214294433594, 0.9378196001052856], [11.0, 0.03780154883861542, 0.015134811401367188, 0.0031723082065582275, 0.8184412121772766, 0.914522647857666], [15.0, 0.029461195692420006, 0.002189718186855316, 0.4213590919971466, 0.23871341347694397, 1.0], [7.0, 0.02832825295627117, 0.27839821577072144, 0.12038061022758484, 0.6453735828399658, 0.7371115684509277], [4.0, 0.025991590693593025, 0.3640754818916321, 0.7003607153892517, 0.4270908832550049, 0.8048701882362366], [4.0, 0.023809822276234627, 0.1507493257522583, 0.797016441822052, 0.21675783395767212, 0.9492141604423523], [4.0, 0.022135887295007706, 0.5181925892829895, 0.5918713808059692, 0.5824514031410217, 0.709265947341919], [4.0, 0.02133629471063614, 0.027751103043556213, 0.6861969232559204, 0.273009717464447, 1.0], [4.0, 0.02054690755903721, 0.0974188894033432, 0.8596329689025879, 0.1653682440519333, 0.9921606779098511], [4.0, 0.02040558122098446, 0.3131220042705536, 0.6979209184646606, 0.3670853078365326, 0.8114746809005737], [4.0, 0.020347945392131805, 0.3131193518638611, 0.5899257659912109, 0.3807957172393799, 0.7084095478057861], [4.0, 0.019196266308426857, 0.36582696437835693, 0.6463728547096252, 0.4315001964569092, 0.7619529366493225], [15.0, 0.01911301724612713, 0.7941313982009888, 0.24229630827903748, 1.0, 0.7748311758041382], [8.0, 0.01904795691370964, 0.4212666153907776, 0.7821002006530762, 0.9534135460853577, 0.9900678396224976], [4.0, 0.01813131757080555, 0.3115617036819458, 0.642541766166687, 0.3749258518218994, 0.7647615671157837], [4.0, 0.018055658787488937, 0.5238828063011169, 0.6578571796417236, 0.5805202126502991, 0.7562905550003052], [8.0, 0.01785624399781227, 0.5914278626441956, 0.6252140998840332, 0.728868305683136, 0.7958109378814697], [4.0, 0.01761670783162117, 0.5728327631950378, 0.5899001359939575, 0.6347585320472717, 0.7186310291290283], [8.0, 0.017190761864185333, 0.6450490951538086, 0.6815587282180786, 0.7751286029815674, 0.8457076549530029], [4.0, 0.01716342754662037, 0.2648354470729828, 0.5886927247047424, 0.32365790009498596, 0.7170233130455017], [4.0, 0.016929160803556442, 0.3660166263580322, 0.5928038358688354, 0.42571455240249634, 0.7144941091537476], [4.0, 0.01685156859457493, 0.15566673874855042, 0.7499161958694458, 0.2224341630935669, 0.8906861543655396], [4.0, 0.0167648084461689, 0.4693242013454437, 0.3384005129337311, 0.5299924612045288, 0.4575648009777069], [4.0, 0.016742270439863205, 0.41124534606933594, 0.6384977698326111, 0.48427265882492065, 0.7616605162620544], [14.0, 0.016651539131999016, 0.636480450630188, 0.9238383173942566, 0.6835535764694214, 1.0], [8.0, 0.01646769605576992, 0.2329385131597519, 0.6155345439910889, 0.35990893840789795, 0.7935881614685059], [4.0, 0.0164501816034317, 0.20254535973072052, 0.7292720675468445, 0.27387598156929016, 0.8967397809028625], [15.0, 0.016360390931367874, 0.7464494705200195, 0.5178872346878052, 1.0, 0.9239288568496704], [8.0, 0.016143564134836197, 0.6787383556365967, 0.8438423871994019, 0.8682119846343994, 0.9932212829589844], [4.0, 0.016039151698350906, 0.46838194131851196, 0.6483548283576965, 0.524307370185852, 0.7544509768486023], [8.0, 0.01573737896978855, 0.17131829261779785, 0.6175986528396606, 0.29468435049057007, 0.8138754367828369], [8.0, 0.015699665993452072, 0.68997722864151, 0.6806524395942688, 0.8346641659736633, 0.8363870978355408], [4.0, 0.015681017190217972, 0.2059756964445114, 0.7917219996452332, 0.2612079977989197, 0.9388424754142761], [4.0, 0.015494134277105331, 0.41578584909439087, 0.705033004283905, 0.4740595817565918, 0.8030254244804382], [4.0, 0.015328386798501015, 0.4654405117034912, 0.5913072824478149, 0.5287437438964844, 0.7166063785552979], [8.0, 0.015307930298149586, 0.5279819369316101, 0.5640998482704163, 0.6731986403465271, 0.7330939173698425], [4.0, 0.015266037546098232, 0.4692665636539459, 0.28823795914649963, 0.5268100500106812, 0.4052859842777252], [4.0, 0.01523928064852953, 0.5819752216339111, 0.7258666157722473, 0.6292901039123535, 0.8121228814125061], [4.0, 0.015133666805922985, 0.575293779373169, 0.6546796560287476, 0.6329255104064941, 0.7651572227478027], [4.0, 0.015058415941894054, 0.5173928737640381, 0.5380203723907471, 0.5842980146408081, 0.6670560836791992], [4.0, 0.014915264211595058, 0.26128721237182617, 0.5312336087226868, 0.3314046859741211, 0.6766005158424377], [4.0, 0.014869585633277893, 0.31344884634017944, 0.5026711821556091, 0.38244909048080444, 0.618439257144928], [8.0, 0.0148127106949687, 0.27418261766433716, 0.617013692855835, 0.42605388164520264, 0.7850050926208496], [14.0, 0.014754053205251694, 0.31108540296554565, 0.4615861177444458, 0.3778543472290039, 0.5511360168457031], [14.0, 0.01471604872494936, 0.16565608978271484, 0.37475892901420593, 0.21142959594726562, 0.51556396484375], [2.0, 0.014710674062371254, 0.6059045791625977, 0.7283971309661865, 0.9209846258163452, 0.9921435117721558], [4.0, 0.014504673890769482, 0.6286342144012451, 0.7062338590621948, 0.6893317699432373, 0.8317617177963257], [14.0, 0.014370640739798546, 0.2636401951313019, 0.6020575165748596, 0.33177974820137024, 0.6954666972160339], [14.0, 0.01424743328243494, 0.21504364907741547, 0.4691109359264374, 0.2676928639411926, 0.628972589969635], [15.0, 0.014199107885360718, 0.5391554236412048, 0.5231969356536865, 0.8744155764579773, 0.9219340085983276], [4.0, 0.014199077151715755, 0.25877901911735535, 0.6908285021781921, 0.3164618909358978, 0.8411807417869568], [4.0, 0.014196657575666904, 0.5143494606018066, 0.34111303091049194, 0.5851684808731079, 0.4663446545600891], [4.0, 0.014164396561682224, 0.47632938623428345, 0.39972156286239624, 0.5343244671821594, 0.5101975202560425], [4.0, 0.014082244597375393, 0.04654690623283386, 0.8174156546592712, 0.1104038804769516, 0.9495335221290588], [4.0, 0.014071048237383366, 0.21245983242988586, 0.5895964503288269, 0.26965630054473877, 0.732187807559967], [4.0, 0.014016605913639069, 0.2159823775291443, 0.5326747894287109, 0.268107533454895, 0.6777019500732422], [8.0, 0.013977410271763802, 0.6372718214988708, 0.5713022947311401, 0.7861456274986267, 0.7404156923294067], [14.0, 0.0139691811054945, 0.8967186212539673, 0.2813495397567749, 0.9993325471878052, 0.6114649772644043], [4.0, 0.013930720277130604, 0.5314337611198425, 0.7353510856628418, 0.5758393406867981, 0.8038049936294556], [4.0, 0.013869840651750565, 0.41021963953971863, 0.5893113613128662, 0.4915517270565033, 0.7217025756835938], [4.0, 0.01386217400431633, 0.5698907971382141, 0.3184656798839569, 0.6378080248832703, 0.48679402470588684], [14.0, 0.01384060364216566, 0.0, 0.8927909135818481, 0.06441313773393631, 1.0], [8.0, 0.013838661834597588, 0.8441410660743713, 0.20593029260635376, 1.0, 0.49454736709594727], [8.0, 0.013670695945620537, 0.11890853941440582, 0.5129145979881287, 0.24685038626194, 0.696796715259552], [4.0, 0.013550969772040844, 0.1024884432554245, 0.756439208984375, 0.1642829328775406, 0.881737470626831], [4.0, 0.013454200699925423, 0.7903059124946594, 0.02801237627863884, 0.840347945690155, 0.13381855189800262], [14.0, 0.013451416045427322, 0.8957128524780273, 0.4810027480125427, 1.0, 0.8161876797676086], [4.0, 0.013429855927824974, 0.5675797462463379, 0.42530497908592224, 0.6385982036590576, 0.5725408792495728], [8.0, 0.013386090286076069, 0.7385489344596863, 0.6279367208480835, 0.8919075131416321, 0.7970019578933716], [8.0, 0.013376567512750626, 0.883537769317627, 0.6137011647224426, 1.0, 0.8917937874794006], [4.0, 0.01326822955161333, 0.5162785053253174, 0.3985901474952698, 0.5866092443466187, 0.5165677666664124], [8.0, 0.013168557547032833, 0.8850027322769165, 0.3095710277557373, 1.0, 0.5804976224899292], [14.0, 0.013138262555003166, 0.4765198826789856, 0.0677260160446167, 0.5310338139533997, 0.20769423246383667], [8.0, 0.01311660185456276, 0.47192585468292236, 0.622094988822937, 0.6278467178344727, 0.7807852029800415], [2.0, 0.013066796585917473, 0.24504214525222778, 0.0, 0.6702820062637329, 0.6150621771812439], [14.0, 0.013063807040452957, 0.7812095284461975, 0.5176283121109009, 0.9233739972114563, 0.7810307741165161], [14.0, 0.01304554007947445, 0.9494914412498474, 0.7998659610748291, 1.0, 0.9483040571212769], [8.0, 0.013027158565819263, 0.8850747346878052, 0.5115217566490173, 1.0, 0.7847557663917542], [8.0, 0.012985745444893837, 0.05214352160692215, 0.8869214653968811, 0.20430642366409302, 1.0], [4.0, 0.01297743245959282, 0.6338681578636169, 0.7616463899612427, 0.6904320120811462, 0.8795799016952515], [14.0, 0.012973274104297161, 0.31517624855041504, 0.38671812415122986, 0.37769371271133423, 0.5149413347244263], [4.0, 0.012959389016032219, 0.6254783272743225, 0.5961935520172119, 0.6856117844581604, 0.7252788543701172], [14.0, 0.01294080913066864, 0.7802474498748779, 0.4151267111301422, 0.9219462871551514, 0.6773761510848999], [4.0, 0.012933456338942051, 0.5177987813949585, 0.2856460213661194, 0.5861238241195679, 0.4113916754722595], [8.0, 0.012926594354212284, 0.712273120880127, 0.0, 0.9725449085235596, 0.5830397605895996], [2.0, 0.012922802940011024, 0.1575760543346405, 0.1420115828514099, 0.211984783411026, 0.24550673365592957], [14.0, 0.012906759046018124, 0.0024521946907043457, 0.5834442973136902, 0.10602914541959763, 0.9480778574943542], [8.0, 0.012896242551505566, 0.7275425791740417, 0.8898939490318298, 0.9065874218940735, 1.0], [7.0, 0.01288600917905569, 0.3095701336860657, 0.38674938678741455, 0.6428914666175842, 0.9183324575424194], [14.0, 0.012838950380682945, 0.25932231545448303, 0.4968095123767853, 0.3365231454372406, 0.6019254326820374], [8.0, 0.01278453879058361, 0.6838607788085938, 0.4885249137878418, 1.0, 0.9382137060165405], [14.0, 0.012690013274550438, 0.25896400213241577, 0.5471672415733337, 0.3381139039993286, 0.6618800759315491], [14.0, 0.01264585554599762, 0.16019098460674286, 0.3204243779182434, 0.21223776042461395, 0.46841681003570557], [15.0, 0.012644907459616661, 0.7592037916183472, 0.08362197875976562, 1.0, 0.4888315796852112], [4.0, 0.01260886900126934, 0.5155384540557861, 0.48126235604286194, 0.5869075059890747, 0.6138576865196228], [8.0, 0.01260392926633358, 0.0, 0.81857830286026, 0.17362213134765625, 1.0], [14.0, 0.012602628208696842, 0.7799299359321594, 0.314508855342865, 0.9212443232536316, 0.5777748823165894], [8.0, 0.012596247717738152, 0.8459538817405701, 0.40860697627067566, 1.0, 0.6926056146621704], [4.0, 0.012562709860503674, 0.4760730564594269, 0.44144630432128906, 0.5384938716888428, 0.561657190322876], [4.0, 0.012561592273414135, 0.6793028116226196, 0.7516771554946899, 0.738006591796875, 0.8781534433364868], [8.0, 0.012526439502835274, 0.8848882913589478, 0.10801525413990021, 1.0, 0.38068628311157227], [4.0, 0.012449851259589195, 0.6255062222480774, 0.5449870228767395, 0.683831512928009, 0.673329770565033], [4.0, 0.012412739917635918, 0.5707129240036011, 0.5343027114868164, 0.6363484859466553, 0.6689351797103882], [8.0, 0.01240871474146843, 0.44794178009033203, 0.6209832429885864, 0.5488501787185669, 0.6966565847396851], [14.0, 0.012370580807328224, 0.6257541179656982, 0.7713056206703186, 0.691562294960022, 0.8605526089668274], [14.0, 0.012341361492872238, 0.17023181915283203, 0.7179120182991028, 0.31696775555610657, 1.0], [14.0, 0.012298165820538998, 0.6701532006263733, 0.7684758901596069, 0.7403329014778137, 0.8621890544891357], [14.0, 0.012274235486984253, 0.6732973456382751, 0.20125705003738403, 0.8128998875617981, 0.48802441358566284], [4.0, 0.012237127870321274, 0.0, 0.8703162670135498, 0.062386684119701385, 1.0], [8.0, 0.012217136099934578, 0.1835198700428009, 0.5073034167289734, 0.3055855333805084, 0.6916125416755676], [8.0, 0.012147027999162674, 0.33901315927505493, 0.6713084578514099, 0.4636971950531006, 0.7456210255622864], [8.0, 0.01214626058936119, 0.2581319212913513, 0.6559317708015442, 0.32627761363983154, 0.7573696970939636], [4.0, 0.012131850235164165, 0.041411034762859344, 0.8742411136627197, 0.11307058483362198, 0.9955132007598877], [8.0, 0.012048800475895405, 0.6797257661819458, 0.7244207859039307, 1.0, 1.0], [14.0, 0.012015833519399166, 0.04223307594656944, 0.904586672782898, 0.10927265882492065, 1.0], [4.0, 0.012011914514005184, 0.628774881362915, 0.3165186047554016, 0.6792172193527222, 0.4804695248603821], [14.0, 0.011995701119303703, 0.37948524951934814, 0.5581749081611633, 0.5176088809967041, 0.7286021113395691], [14.0, 0.011989833787083626, 0.777954638004303, 0.1140352338552475, 0.9239628911018372, 0.37960582971572876], [14.0, 0.011963875032961369, 0.1438242495059967, 0.8107737898826599, 0.22233012318611145, 0.9273974299430847], [8.0, 0.011898200958967209, 0.7247147560119629, 0.8090863227844238, 0.9064348936080933, 0.9566949605941772], [14.0, 0.011849822476506233, 0.762285053730011, 0.7439345717430115, 0.9282510876655579, 0.9849990010261536], [8.0, 0.011832577176392078, 0.05960386246442795, 0.7211180925369263, 0.21329528093338013, 0.9039103984832764], [4.0, 0.011827174574136734, 0.6306001543998718, 0.21554797887802124, 0.6806512475013733, 0.3695375323295593], [14.0, 0.011817516759037971, 0.4254421591758728, 0.1380172073841095, 0.47480809688568115, 0.23243552446365356], [14.0, 0.011812997050583363, 0.7895114421844482, 0.18699009716510773, 0.9075742959976196, 0.5076525807380676], [14.0, 0.011806107126176357, 0.5706381797790527, 0.09967412054538727, 0.6359823942184448, 0.27190840244293213], [4.0, 0.011794930323958397, 0.4211856722831726, 0.2824878692626953, 0.474717378616333, 0.4059603810310364], [4.0, 0.011789740063250065, 0.6245396733283997, 0.6511160731315613, 0.6866701245307922, 0.7805104851722717], [4.0, 0.011782757006585598, 0.7861803770065308, 0.6063750982284546, 0.840849757194519, 0.72159743309021], [14.0, 0.011775320395827293, 0.45700159668922424, 0.6017830967903137, 0.5321744680404663, 0.7036414742469788], [4.0, 0.011718476191163063, 0.47059166431427, 0.4781183898448944, 0.5351554155349731, 0.6264998912811279], [14.0, 0.011711468920111656, 0.678374171257019, 0.5201777815818787, 0.8191535472869873, 0.7785313725471497], [4.0, 0.011710827238857746, 0.1618189960718155, 0.5428948402404785, 0.21410395205020905, 0.6691374778747559], [14.0, 0.011701696552336216, 0.777288556098938, 0.6295803189277649, 0.9267778396606445, 0.8967577815055847], [14.0, 0.011699584312736988, 0.2731121778488159, 0.5598520040512085, 0.417949914932251, 0.725682258605957], [8.0, 0.011676442809402943, 0.24114930629730225, 0.5545457601547241, 0.36489057540893555, 0.7287510633468628], [14.0, 0.011656156741082668, 0.3065131902694702, 0.49979788064956665, 0.37930744886398315, 0.5993966460227966], [4.0, 0.011601331643760204, 0.6792562007904053, 0.8565385341644287, 0.7387692928314209, 0.9874504804611206], [14.0, 0.011581823229789734, 0.16506661474704742, 0.4300670623779297, 0.21114565432071686, 0.5653337836265564], [14.0, 0.011572103947401047, 0.2123539000749588, 0.5538506507873535, 0.27071672677993774, 0.6520737409591675], [8.0, 0.011500450782477856, 0.49642038345336914, 0.6214397549629211, 0.606069803237915, 0.6933390498161316], [4.0, 0.011469279415905476, 0.25956207513809204, 0.7544135451316833, 0.3071313500404358, 0.8768802285194397], [8.0, 0.011459230445325375, 0.08392839133739471, 0.8375580310821533, 0.19694222509860992, 0.9087401628494263], [8.0, 0.011446148157119751, 0.7405510544776917, 0.7344491481781006, 0.8961513638496399, 0.8945047855377197], [4.0, 0.011444429866969585, 0.7345687747001648, 0.6045339107513428, 0.7905771136283875, 0.7200888395309448], [14.0, 0.011424154974520206, 0.6764105558395386, 0.41214999556541443, 0.8176604509353638, 0.6747531890869141], [4.0, 0.011423338204622269, 0.2059175968170166, 0.6320955753326416, 0.27706077694892883, 0.8053629398345947], [14.0, 0.01140447985380888, 0.5618083477020264, 0.343759149312973, 0.6392364501953125, 0.4526943266391754], [4.0, 0.011377967894077301, 0.42366263270378113, 0.33078625798225403, 0.472677618265152, 0.4630627930164337], [14.0, 0.011367994360625744, 0.10058080404996872, 0.9111357927322388, 0.1584070920944214, 1.0], [8.0, 0.011363045312464237, 0.30241525173187256, 0.6182032227516174, 0.4091939330101013, 0.6920730471611023], [8.0, 0.0113575030118227, 0.5823504328727722, 0.5167846083641052, 0.720743715763092, 0.6900438666343689], [15.0, 0.011330845765769482, 0.12350910902023315, 0.631031334400177, 0.9011408686637878, 0.9252778887748718], [14.0, 0.011296197772026062, 0.5258918404579163, 0.01843097060918808, 0.5910444855690002, 0.1516430675983429], [14.0, 0.011286281049251556, 0.2047051340341568, 0.3597584664821625, 0.2695024013519287, 0.53431236743927], [4.0, 0.011276591569185257, 0.18794691562652588, 0.5960588455200195, 0.30985027551651, 0.947742223739624], [19.0, 0.011260781437158585, 0.09580555558204651, 0.0011445730924606323, 0.6940336227416992, 0.4804302453994751], [2.0, 0.01122483890503645, 0.15746021270751953, 0.11531508713960648, 0.21660950779914856, 0.17015507817268372], [4.0, 0.011197417043149471, 0.6803441047668457, 0.6021199226379395, 0.7394793033599854, 0.7235008478164673], [4.0, 0.011191517114639282, 0.7908785343170166, 0.07819606363773346, 0.837902307510376, 0.1875462681055069], [4.0, 0.011134050786495209, 0.2982376217842102, 0.5422888398170471, 0.38472795486450195, 0.6654354929924011], [8.0, 0.011039098724722862, 0.6888483166694641, 0.523772656917572, 0.8360337615013123, 0.6899312138557434], [14.0, 0.011006215587258339, 0.5090601444244385, 0.551928699016571, 0.5894904136657715, 0.6533058285713196], [14.0, 0.010989434085786343, 0.863974928855896, 0.24102501571178436, 1.0, 0.45522576570510864], [4.0, 0.010983535088598728, 0.3152311444282532, 0.7726483345031738, 0.35667675733566284, 0.8564118146896362], [14.0, 0.010965586639940739, 0.2529410421848297, 0.4496413469314575, 0.33402320742607117, 0.5523107051849365], [8.0, 0.01094955112785101, 0.11704851686954498, 0.6674937009811401, 0.2666217088699341, 0.8581831455230713], [14.0, 0.010940331034362316, 0.06486114859580994, 0.7122668623924255, 0.2337372899055481, 1.0], [4.0, 0.010906074196100235, 0.21037819981575012, 0.8685653805732727, 0.2565978169441223, 0.987498939037323], [8.0, 0.010897152125835419, 0.09865843504667282, 0.823225200176239, 0.2433498501777649, 0.9946238398551941], [4.0, 0.010853230953216553, 0.16350235044956207, 0.4867447018623352, 0.21241448819637299, 0.6167715191841125], [4.0, 0.010832981206476688, 0.4741131365299225, 0.7248005270957947, 0.5187916159629822, 0.8002721667289734], [14.0, 0.010803313925862312, 0.36143821477890015, 0.39483076333999634, 0.42550134658813477, 0.4951208829879761], [4.0, 0.010790405794978142, 0.7387533783912659, 0.03166770190000534, 0.7865180373191833, 0.13313153386116028], [14.0, 0.010776367969810963, 0.15021316707134247, 0.7611681222915649, 0.2309919148683548, 0.8701515197753906], [4.0, 0.010750383138656616, 0.7879383563995361, 0.28348833322525024, 0.8406293392181396, 0.40598779916763306], [8.0, 0.010742481797933578, 0.6443123817443848, 0.14629220962524414, 0.7770401239395142, 0.3260989487171173], [4.0, 0.010733210481703281, 0.6806595921516418, 0.553289532661438, 0.738044798374176, 0.6705985069274902], [8.0, 0.010732518509030342, 0.39278334379196167, 0.6189922094345093, 0.5043387413024902, 0.7004705667495728], [14.0, 0.010731014423072338, 0.5702409744262695, 0.7237140536308289, 0.6268178224563599, 0.8011220097541809], [14.0, 0.010700633749365807, 0.8714213967323303, 0.7199750542640686, 0.99456387758255, 0.9830661416053772], [14.0, 0.010699300095438957, 0.406283438205719, 0.5981093049049377, 0.4929928779602051, 0.7082093358039856], [4.0, 0.010684508830308914, 0.1600111871957779, 0.5892478823661804, 0.21656982600688934, 0.7240530848503113], [14.0, 0.010658989660441875, 0.8633118271827698, 0.44244384765625, 1.0, 0.6530605554580688], [14.0, 0.010632231831550598, 0.5628331899642944, 0.4972332715988159, 0.6382516622543335, 0.5958526134490967], [14.0, 0.010627472773194313, 0.07641441375017166, 0.025349542498588562, 0.22538810968399048, 0.28507673740386963], [14.0, 0.010619361884891987, 0.5733574628829956, 0.20604950189590454, 0.6390843391418457, 0.3774716258049011], [14.0, 0.010608966462314129, 0.6813117265701294, 0.9101945757865906, 0.7365678548812866, 1.0], [4.0, 0.010583500377833843, 0.7342007756233215, 0.5567604899406433, 0.7902001738548279, 0.6680843234062195], [8.0, 0.010567860677838326, 0.3186989426612854, 0.6734070181846619, 0.47965383529663086, 0.8228679299354553], [14.0, 0.010550274513661861, 0.32162797451019287, 0.33621764183044434, 0.37475037574768066, 0.46073251962661743], [8.0, 0.010548166930675507, 0.18874144554138184, 0.7218225002288818, 0.2922193109989166, 0.8065171241760254], [14.0, 0.010515824891626835, 0.7758529186248779, 0.019809260964393616, 0.9270416498184204, 0.2760811448097229], [4.0, 0.01051549892872572, 0.7885658144950867, 0.2376490831375122, 0.8390347361564636, 0.3526514768600464], [8.0, 0.010504048317670822, 0.6975350975990295, 0.20432071387767792, 0.8350719809532166, 0.37608277797698975], [14.0, 0.010498647578060627, 0.9481033086776733, 0.9131141304969788, 1.0, 1.0], [4.0, 0.01049505639821291, 0.04503994062542915, 0.752128005027771, 0.11008280515670776, 0.8859391212463379], [8.0, 0.010474628768861294, 0.1379375159740448, 0.7786238789558411, 0.24930208921432495, 0.8561640381813049], [14.0, 0.010474227368831635, 0.0, 0.5379236340522766, 0.14164146780967712, 0.7656622529029846], [14.0, 0.010471215471625328, 0.4391385316848755, 0.03674542158842087, 0.5876437425613403, 0.23469620943069458], [14.0, 0.010440290905535221, 0.010056927800178528, 0.8498460054397583, 0.15544018149375916, 1.0], [14.0, 0.01042830292135477, 0.8604364395141602, 0.651432454586029, 1.0, 0.8619346022605896], [14.0, 0.01042601652443409, 0.424868106842041, 0.08731932193040848, 0.47421950101852417, 0.18523961305618286], [8.0, 0.010414738208055496, 0.8046000003814697, 0.0, 1.0, 0.3798467516899109], [8.0, 0.010412629693746567, 0.8321254253387451, 0.8468989729881287, 0.9861903190612793, 0.9957979321479797], [14.0, 0.010404344648122787, 0.48074451088905334, 0.036224156618118286, 0.5309927463531494, 0.1396387815475464], [14.0, 0.010373102501034737, 0.11600145697593689, 0.18838365375995636, 0.1575799286365509, 0.3033416271209717], [4.0, 0.01035669818520546, 0.0, 0.8187059164047241, 0.05464988201856613, 0.945020318031311], [14.0, 0.010333088226616383, 0.5300083756446838, 0.0034045185893774033, 0.5907023549079895, 0.06429022550582886], [8.0, 0.010321643203496933, 0.2502419650554657, 0.7251787781715393, 0.339434415102005, 0.7985685467720032], [8.0, 0.010317910462617874, 0.007297679781913757, 0.5275505781173706, 0.383148193359375, 0.9352051019668579], [14.0, 0.010315939784049988, 0.4598045349121094, 0.5511505007743835, 0.5348995327949524, 0.6602602601051331], [4.0, 0.010264399461448193, 0.7880046367645264, 0.3369039297103882, 0.8420388698577881, 0.45867234468460083], [8.0, 0.010259638540446758, 0.74184250831604, 0.002879403531551361, 0.9010778665542603, 0.16134658455848694], [4.0, 0.010246924124658108, 0.10387404263019562, 0.7021111249923706, 0.16336046159267426, 0.8305063247680664], [15.0, 0.010229717008769512, 0.5211347341537476, 0.2904788851737976, 0.837749719619751, 0.6875694990158081], [14.0, 0.010224523022770882, 0.26538753509521484, 0.14980123937129974, 0.31119072437286377, 0.23656664788722992], [14.0, 0.01021524891257286, 0.49063840508461, 0.018031708896160126, 0.6186527013778687, 0.18749934434890747], [14.0, 0.010203341953456402, 0.18274101614952087, 0.0, 0.3193800151348114, 0.1618514060974121], [14.0, 0.010196001268923283, 0.08049390465021133, 0.0, 0.21963515877723694, 0.15769556164741516], [14.0, 0.010191289708018303, 0.211083322763443, 0.6080789566040039, 0.2746275067329407, 0.7019654512405396], [8.0, 0.01017735991626978, 0.6038422584533691, 0.6757757663726807, 0.7095053195953369, 0.7418619394302368], [8.0, 0.010136652737855911, 0.5463770627975464, 0.6753157377243042, 0.6539669036865234, 0.7400349378585815], [4.0, 0.01013556495308876, 0.3702043890953064, 0.33117881417274475, 0.4226168990135193, 0.46276357769966125], [8.0, 0.010113661177456379, 0.8506555557250977, 0.723964273929596, 0.9871184825897217, 0.9013957381248474], [4.0, 0.010105275548994541, 0.0815993994474411, 0.5910232663154602, 0.21971844136714935, 0.9630202651023865], [8.0, 0.010102663189172745, 0.1263941079378128, 0.8352482914924622, 0.23934786021709442, 0.9076001048088074], [14.0, 0.01009307336062193, 0.35622912645339966, 0.6518368721008301, 0.43901437520980835, 0.7494748830795288], [14.0, 0.010087852366268635, 0.46526435017585754, 0.29657697677612305, 0.5332879424095154, 0.38972049951553345], [8.0, 0.010084379464387894, 0.1846451759338379, 0.7739591598510742, 0.2929108142852783, 0.855786919593811], [14.0, 0.010060794651508331, 0.0008955858647823334, 0.0, 0.09940341114997864, 0.3176909387111664], [8.0, 0.010058174841105938, 0.06164512038230896, 0.5655196905136108, 0.20656436681747437, 0.7531529664993286], [8.0, 0.010053989477455616, 0.6425451636314392, 0.7823774814605713, 0.7818593382835388, 0.9655448198318481], [8.0, 0.010044888593256474, 0.6056818962097168, 0.7312262654304504, 0.6998739242553711, 0.7948599457740784], [14.0, 0.010039281100034714, 0.9540296792984009, 0.4794381856918335, 1.0, 0.6335339546203613], [14.0, 0.01003040187060833, 0.9519453644752502, 0.586322009563446, 1.0, 0.7373022437095642], [8.0, 0.010014619678258896, 0.19617222249507904, 0.6738064885139465, 0.29008954763412476, 0.748041570186615], [8.0, 0.010002332739531994, 0.26307255029678345, 0.6200492978096008, 0.3479691743850708, 0.6890652775764465]]}\"\u001b[0m\n",
      "  % Total    % Received % Xferd  Average Speed   Time    Time     Time  Current\n",
      "                                 Dload  Upload   Total   Spent    Left  Speed\n"
     ]
    },
    {
     "name": "stdout",
     "output_type": "stream",
     "text": [
      "  0     0    0     0    0     0      0      0 --:--:-- --:--:-- --:--:--     0\r",
      "100  203k    0     0  100  203k      0   180k  0:00:01  0:00:01 --:--:--  180k\r",
      "100  224k  100 21656  100  203k  19164   180k  0:00:01  0:00:01 --:--:--  199k\r\n",
      "\u001b[0;32m\"{\\\"prediction\\\": [[11.0, 0.7593555450439453, 0.25308898091316223, 0.09349274635314941, 0.876511812210083, 1.0], [7.0, 0.10462726652622223, 0.2310047447681427, 0.06398728489875793, 0.8063862323760986, 0.8924018144607544], [11.0, 0.05242132768034935, 0.2569049894809723, 0.13554777204990387, 0.7041558027267456, 0.6232196092605591], [14.0, 0.029258690774440765, 0.562475323677063, 0.2392066866159439, 0.6426206827163696, 0.3356761932373047], [14.0, 0.026198815554380417, 0.5609219074249268, 0.28531813621520996, 0.6410099267959595, 0.3865755796432495], [14.0, 0.026164833456277847, 0.3652647137641907, 0.24291828274726868, 0.4409853219985962, 0.3347063958644867], [14.0, 0.02395058237016201, 0.4671342670917511, 0.1566764861345291, 0.5374300479888916, 0.22930632531642914], [14.0, 0.0234509389847517, 0.5144001841545105, 0.2860219478607178, 0.5884013772010803, 0.3766152262687683], [14.0, 0.022369707003235817, 0.5086531639099121, 0.2422584891319275, 0.5863577127456665, 0.33046090602874756], [14.0, 0.022180100902915, 0.5075109004974365, 0.1866856813430786, 0.588165283203125, 0.275679349899292], [14.0, 0.021350232884287834, 0.4131539463996887, 0.19494196772575378, 0.4935160279273987, 0.27890917658805847], [11.0, 0.02023627795279026, 0.3437076210975647, 0.13491341471672058, 0.6927050948143005, 0.4000405967235565], [14.0, 0.01981295458972454, 0.4631006121635437, 0.18826913833618164, 0.5396072268486023, 0.28173133730888367], [14.0, 0.019048092886805534, 0.3540330231189728, 0.19248263537883759, 0.4414159953594208, 0.27856048941612244], [14.0, 0.018771721050143242, 0.3600638210773468, 0.28744179010391235, 0.4307754933834076, 0.37694770097732544], [14.0, 0.018254589289426804, 0.5109078288078308, 0.15308444201946259, 0.5896349549293518, 0.22519941627979279], [14.0, 0.018115054816007614, 0.567766010761261, 0.1776100993156433, 0.6426578164100647, 0.304931640625], [4.0, 0.01737741194665432, 0.21465037763118744, 0.5545685291290283, 0.2593468129634857, 0.6660081148147583], [14.0, 0.01650162786245346, 0.2784760594367981, 0.7826111912727356, 0.41327035427093506, 0.9478517174720764], [8.0, 0.016450444236397743, 0.10199542343616486, 0.6339348554611206, 0.2542344331741333, 0.7724220752716064], [14.0, 0.016328364610671997, 0.34912794828414917, 0.1522277146577835, 0.4401205778121948, 0.22516508400440216], [14.0, 0.016035400331020355, 0.6165335178375244, 0.2920610308647156, 0.6897979974746704, 0.3902240991592407], [4.0, 0.015988798812031746, 0.1605871468782425, 0.6156643629074097, 0.2112383097410202, 0.7065649032592773], [14.0, 0.015963882207870483, 0.15171295404434204, 0.5737614631652832, 0.22033429145812988, 0.6449781656265259], [2.0, 0.015933770686388016, 0.2263413816690445, 0.20493686199188232, 0.27855461835861206, 0.26706254482269287], [14.0, 0.015416478738188744, 0.4131178855895996, 0.16042090952396393, 0.48855060338974, 0.22521622478961945], [14.0, 0.015318945050239563, 0.3592742383480072, 0.11237399280071259, 0.4300077259540558, 0.16515745222568512], [4.0, 0.015157858841121197, 0.16338668763637543, 0.6673064231872559, 0.2065688818693161, 0.7459704875946045], [2.0, 0.015034748241305351, 0.1664348989725113, 0.20910874009132385, 0.21463657915592194, 0.26440802216529846], [14.0, 0.014981195330619812, 0.5383263826370239, 0.060892075300216675, 0.7388569116592407, 0.2496548593044281], [14.0, 0.014950503595173359, 0.619879961013794, 0.2346474826335907, 0.6955975294113159, 0.3337806165218353], [14.0, 0.014887083321809769, 0.778859555721283, 0.2176438421010971, 0.9214804768562317, 0.47460848093032837], [14.0, 0.014861048199236393, 0.32854336500167847, 0.07054586708545685, 0.5817670226097107, 0.24564222991466522], [14.0, 0.014858338981866837, 0.20572921633720398, 0.565519392490387, 0.263394832611084, 0.6445327401161194], [4.0, 0.014848023653030396, 0.5745953917503357, 0.32998350262641907, 0.6365224719047546, 0.44504353404045105], [14.0, 0.014750576578080654, 0.4767663776874542, 0.1043323427438736, 0.5227049589157104, 0.17321963608264923], [14.0, 0.014637763611972332, 0.4078967273235321, 0.25586140155792236, 0.5117844343185425, 0.3292176127433777], [14.0, 0.014635130763053894, 0.45031431317329407, 0.24133408069610596, 0.5413174033164978, 0.33159691095352173], [11.0, 0.014623047783970833, 0.29218703508377075, 0.09340473264455795, 0.6378368139266968, 0.23008322715759277], [4.0, 0.01460634171962738, 0.2636135518550873, 0.32789409160614014, 0.3200840651988983, 0.45634257793426514], [14.0, 0.01456688903272152, 0.5294981598854065, 0.24176932871341705, 0.6734732985496521, 0.4258831739425659], [14.0, 0.014559892937541008, 0.2629552483558655, 0.23282471299171448, 0.32691890001296997, 0.322457879781723], [4.0, 0.014468674547970295, 0.21546825766563416, 0.6079070568084717, 0.25904783606529236, 0.7158949375152588], [14.0, 0.014364718459546566, 0.3043324649333954, 0.2349623739719391, 0.3815554082393646, 0.3308199942111969], [4.0, 0.014330999925732613, 0.1602807343006134, 0.5698974132537842, 0.21182295680046082, 0.6557489633560181], [4.0, 0.014273472130298615, 0.10806874930858612, 0.6690797805786133, 0.15286104381084442, 0.7475239038467407], [2.0, 0.014270380139350891, 0.2860149145126343, 0.8664062023162842, 0.3887389302253723, 0.9492697715759277], [4.0, 0.014106136746704578, 0.2154315710067749, 0.4997239410877228, 0.2604365646839142, 0.6160678863525391], [2.0, 0.013958374038338661, 0.16528920829296112, 0.25879570841789246, 0.21314381062984467, 0.318244069814682], [14.0, 0.01385786198079586, 0.7790292501449585, 0.1168280839920044, 0.9217474460601807, 0.3751262128353119], [2.0, 0.013819053769111633, 0.22220246493816376, 0.16535869240760803, 0.2698715627193451, 0.21991154551506042], [14.0, 0.013714399188756943, 0.37350016832351685, 0.20969440042972565, 0.5462691187858582, 0.3602706789970398], [4.0, 0.013712202198803425, 0.4692164361476898, 0.28771084547042847, 0.5397688150405884, 0.3772907257080078], [14.0, 0.013697863556444645, 0.6776451468467712, 0.24658478796482086, 0.7338393330574036, 0.3272325098514557], [14.0, 0.013458707369863987, 0.2052973061800003, 0.6168417930603027, 0.26013004779815674, 0.6922158002853394], [8.0, 0.013418900780379772, 0.0, 0.6159908771514893, 0.14962618052959442, 0.886713981628418], [14.0, 0.01334464456886053, 0.18093594908714294, 0.7112820148468018, 0.3237828314304352, 0.9615945816040039], [8.0, 0.013192892074584961, 0.0, 0.4096013009548187, 0.14723870158195496, 0.6854250431060791], [2.0, 0.013152578845620155, 0.7849423289299011, 0.20437903702259064, 0.844132125377655, 0.27437424659729004], [14.0, 0.013086860999464989, 0.62029629945755, 0.17689533531665802, 0.6973664164543152, 0.30390048027038574], [4.0, 0.013057291507720947, 0.21795442700386047, 0.6617501974105835, 0.2593575119972229, 0.7582234144210815], [14.0, 0.01302703469991684, 0.07571914792060852, 0.12222157418727875, 0.22328686714172363, 0.37488627433776855], [14.0, 0.01301082968711853, 0.4141550660133362, 0.11238150298595428, 0.4830211400985718, 0.16309814155101776], [14.0, 0.012967743910849094, 0.5649142265319824, 0.3379131853580475, 0.6394762992858887, 0.43101057410240173], [14.0, 0.012934030033648014, 0.4744373559951782, 0.2910270094871521, 0.6317216157913208, 0.47217732667922974], [4.0, 0.012910138815641403, 0.31217533349990845, 0.3305070996284485, 0.3723067045211792, 0.44480156898498535], [8.0, 0.012883168645203114, 0.0, 0.5175768733024597, 0.1483088582754135, 0.7824143767356873], [14.0, 0.012787503190338612, 0.897430419921875, 0.18460221588611603, 0.9986989498138428, 0.5138493180274963], [14.0, 0.012728840112686157, 0.5794038772583008, 0.1112864762544632, 0.6288559436798096, 0.17647351324558258], [14.0, 0.012683342210948467, 0.6734760403633118, 0.029062889516353607, 0.8214901089668274, 0.2714013457298279], [14.0, 0.012664607726037502, 0.3063336908817291, 0.3455924093723297, 0.3726724684238434, 0.43141183257102966], [4.0, 0.01263684406876564, 0.2617642283439636, 0.3775857090950012, 0.3200264573097229, 0.5126835107803345], [14.0, 0.012601171620190144, 0.5639767050743103, 0.14934010803699493, 0.6487684845924377, 0.2244713455438614], [14.0, 0.012581134214997292, 0.0, 0.5739496350288391, 0.06104753538966179, 0.6489655375480652], [14.0, 0.012553423643112183, 0.32058361172676086, 0.25237295031547546, 0.4768974483013153, 0.4115051329135895], [14.0, 0.012550532817840576, 0.21857579052448273, 0.30363836884498596, 0.2671506404876709, 0.37440362572669983], [4.0, 0.012526451610028744, 0.05004531890153885, 0.6597646474838257, 0.10435139387845993, 0.7553389072418213], [8.0, 0.012509718537330627, 0.13253691792488098, 0.8755148649215698, 0.37552520632743835, 1.0], [14.0, 0.012507344596087933, 0.49078211188316345, 0.0, 0.6087790727615356, 0.18745607137680054], [14.0, 0.01248024683445692, 0.3077545464038849, 0.2921374440193176, 0.3763333261013031, 0.38054096698760986], [14.0, 0.01247506495565176, 3.3970922231674194e-05, 0.3817904591560364, 0.09849043190479279, 0.7140945792198181], [14.0, 0.012466385960578918, 0.07840310037136078, 0.22025680541992188, 0.22358109056949615, 0.48004060983657837], [14.0, 0.012453743256628513, 0.7734284996986389, 0.3140426278114319, 0.922511875629425, 0.5747458338737488], [14.0, 0.012449925765395164, 0.05779363214969635, 0.4344438910484314, 0.24443037807941437, 0.654100239276886], [2.0, 0.012424949556589127, 0.7866813540458679, 0.15281179547309875, 0.8470752835273743, 0.2211715281009674], [4.0, 0.01242397353053093, 0.2689087986946106, 0.9272555112838745, 0.31677067279815674, 1.0], [14.0, 0.012388810515403748, 0.07555411010980606, 0.7156084179878235, 0.22124287486076355, 0.9691786170005798], [14.0, 0.012344895862042904, 0.7204462885856628, 0.7679752707481384, 0.8066304326057434, 0.8627466559410095], [4.0, 0.012328778393566608, 0.2203768640756607, 0.3915596604347229, 0.26228514313697815, 0.5095186233520508], [4.0, 0.012323567643761635, 0.21793603897094727, 0.4439396858215332, 0.2618464231491089, 0.5624682903289795], [14.0, 0.012311290949583054, 0.6698145866394043, 0.13074186444282532, 0.8156394958496094, 0.3730228841304779], [14.0, 0.012303601019084454, 0.5931585431098938, 0.0, 0.7075379490852356, 0.19079037010669708], [2.0, 0.012244644574820995, 0.16347411274909973, 0.16045670211315155, 0.2132740318775177, 0.21706990897655487], [14.0, 0.012234601192176342, 0.3769455850124359, 0.8293540477752686, 0.5208626985549927, 1.0], [14.0, 0.012184656225144863, 0.2744766175746918, 0.23554259538650513, 0.41956809163093567, 0.42113083600997925], [14.0, 0.0121473278850317, 0.20763595402240753, 0.6712117195129395, 0.2607581317424774, 0.741233229637146], [14.0, 0.012100942432880402, 0.46964454650878906, 0.20113028585910797, 0.6218290328979492, 0.3759498596191406], [14.0, 0.012044740840792656, 0.24587604403495789, 0.061100684106349945, 0.47027692198753357, 0.24069562554359436], [14.0, 0.011993697844445705, 0.7783805131912231, 0.018714606761932373, 0.9242666959762573, 0.27425020933151245], [14.0, 0.011980944313108921, 0.5247222185134888, 0.10517434775829315, 0.5747995376586914, 0.1687578707933426], [14.0, 0.011975256726145744, 0.05416417866945267, 0.6382998824119568, 0.24389541149139404, 0.8523057103157043], [14.0, 0.011956014670431614, 0.3947277367115021, 0.0, 0.6759941577911377, 0.17050252854824066], [14.0, 0.011952648870646954, 0.14861132204532623, 0.6194893717765808, 0.21527288854122162, 0.6941830515861511], [14.0, 0.011943609453737736, 0.26579880714416504, 0.2771833539009094, 0.31962907314300537, 0.4030701518058777], [14.0, 0.01191667839884758, 0.7629205584526062, 0.6994669437408447, 0.9240502715110779, 0.9608430862426758], [14.0, 0.011879535391926765, 0.6715765595436096, 0.19837462902069092, 0.730829656124115, 0.27641886472702026], [15.0, 0.011847248300909996, 0.0, 0.4620143175125122, 0.2091207653284073, 0.954744815826416], [4.0, 0.01182366069406271, 0.5717529654502869, 0.37903666496276855, 0.6347759366035461, 0.5032609701156616], [14.0, 0.0117722749710083, 0.7349679470062256, 0.5156369209289551, 0.7931753396987915, 0.5920461416244507], [2.0, 0.011738279834389687, 0.22405317425727844, 0.24784453213214874, 0.2735214829444885, 0.3159453570842743], [4.0, 0.01173378061503172, 0.5309614539146423, 0.9279197454452515, 0.5786219239234924, 1.0], [8.0, 0.01168343611061573, 0.8861626982688904, 0.10693195462226868, 1.0, 0.38060835003852844], [14.0, 0.011682013981044292, 0.17956587672233582, 0.8298311233520508, 0.31829872727394104, 1.0], [14.0, 0.011593963950872421, 0.0, 0.6059170365333557, 0.052459534257650375, 0.7218974232673645], [14.0, 0.01156702358275652, 0.1545514315366745, 0.04981875419616699, 0.35220152139663696, 0.24598464369773865], [14.0, 0.0115638617426157, 0.5762479305267334, 0.8232712745666504, 0.7184325456619263, 1.0], [4.0, 0.011547042988240719, 0.1083325520157814, 0.6239300966262817, 0.15734580159187317, 0.7058664560317993], [4.0, 0.011520979925990105, 0.46430861949920654, 0.23978880047798157, 0.5397276878356934, 0.3419279158115387], [8.0, 0.011498931795358658, 0.0, 0.11360877752304077, 0.14728772640228271, 0.39220160245895386], [14.0, 0.011460835114121437, 0.07274406403303146, 0.017089247703552246, 0.22446942329406738, 0.27156463265419006], [14.0, 0.011448848061263561, 0.31384965777397156, 0.11421385407447815, 0.3748222291469574, 0.16872653365135193], [14.0, 0.01143020112067461, 0.6793497204780579, 0.3030375838279724, 0.7345477938652039, 0.38171130418777466], [2.0, 0.011379941366612911, 0.25602659583091736, 0.19225682318210602, 0.3357503116130829, 0.2798975706100464], [4.0, 0.011336690746247768, 0.04742146283388138, 0.6190704107284546, 0.10687346011400223, 0.7100183963775635], [14.0, 0.011301525868475437, 0.5768356323242188, 0.18307343125343323, 0.714715838432312, 0.37393680214881897], [14.0, 0.011265059933066368, 0.7297409772872925, 0.5599405169487, 0.7995232343673706, 0.6436626315116882], [4.0, 0.011251476593315601, 0.04872548580169678, 0.5682336688041687, 0.10718968510627747, 0.6543439030647278], [8.0, 0.011230693198740482, 0.1432456225156784, 0.5815930962562561, 0.23172228038311005, 0.63704913854599], [14.0, 0.011227739043533802, 0.26615774631500244, 0.8310564756393433, 0.3330472707748413, 0.9162766933441162], [8.0, 0.011205311864614487, 0.0, 0.8401730060577393, 0.15827102959156036, 1.0], [4.0, 0.011154504492878914, 0.4712981581687927, 0.43908488750457764, 0.5327491164207458, 0.5593507885932922], [14.0, 0.011150547303259373, 0.36972224712371826, 0.0, 0.5263184309005737, 0.15783829987049103], [14.0, 0.011146560311317444, 0.7268515825271606, 0.7219094038009644, 0.8123509883880615, 0.8132380247116089], [14.0, 0.011119856499135494, 0.47652581334114075, 0.8267984390258789, 0.6206361055374146, 1.0], [8.0, 0.011118801310658455, 0.8857921957969666, 0.30612391233444214, 1.0, 0.5789124369621277], [14.0, 0.011113056913018227, 0.0007714107632637024, 0.1819312572479248, 0.09890203922986984, 0.5220187306404114], [14.0, 0.011102615855634212, 0.7782344222068787, 0.6164866089820862, 0.850575864315033, 0.6968540549278259], [14.0, 0.011061673052608967, 0.15091027319431305, 0.6739962100982666, 0.2098606675863266, 0.7389441728591919], [8.0, 0.011040067300200462, 0.010395467281341553, 0.8897491693496704, 0.29170873761177063, 1.0], [14.0, 0.011033385992050171, 0.054015301167964935, 0.5410346388816833, 0.2419847548007965, 0.7538041472434998], [14.0, 0.011017526499927044, 0.0049028098583221436, 0.5326017141342163, 0.1600203663110733, 0.6767082214355469], [14.0, 0.010984194464981556, 0.29027989506721497, 0.0, 0.40283510088920593, 0.1794222593307495], [8.0, 0.01095818541944027, 0.1727742701768875, 0.626781702041626, 0.29632583260536194, 0.7834584712982178], [8.0, 0.010890979319810867, 0.04586521536111832, 0.6803297996520996, 0.21770456433296204, 0.8263117074966431], [8.0, 0.010887443087995052, 0.8481934666633606, 0.0, 1.0, 0.17491497099399567], [14.0, 0.010882264003157616, 0.7713618278503418, 0.6618452668190002, 0.8569072484970093, 0.755586564540863], [14.0, 0.010846130549907684, 0.05903911590576172, 0.33554333448410034, 0.2476062774658203, 0.5559232234954834], [14.0, 0.01084351260215044, 0.15726244449615479, 0.5210078954696655, 0.21852543950080872, 0.590448260307312], [2.0, 0.010838184505701065, 0.26407256722450256, 0.8786047697067261, 0.33799871802330017, 0.9477765560150146], [14.0, 0.010816126130521297, 0.684830904006958, 0.19498610496520996, 0.8052074909210205, 0.5106513500213623], [8.0, 0.010814058594405651, 0.8521245121955872, 0.21042905747890472, 1.0, 0.49338024854660034], [14.0, 0.010805688798427582, 0.7666727900505066, 0.7731423377990723, 0.8588725924491882, 0.8597426414489746], [2.0, 0.010804791934788227, 0.2141680270433426, 0.8877785205841064, 0.2761571407318115, 0.9449765682220459], [4.0, 0.010776864364743233, 0.4704884886741638, 0.33214259147644043, 0.5328722596168518, 0.43340808153152466], [4.0, 0.010766320861876011, 0.1624213308095932, 0.5134285688400269, 0.21166597306728363, 0.6065313816070557], [4.0, 0.010764547623693943, 0.2615841031074524, 0.5408359169960022, 0.3201966881752014, 0.6810236573219299], [14.0, 0.010725821368396282, 0.6752759218215942, 0.8220643401145935, 0.8224707841873169, 1.0], [14.0, 0.01070112083107233, 0.5207251906394958, 0.3393633961677551, 0.5898680090904236, 0.4244142770767212], [2.0, 0.01067180372774601, 0.732975423336029, 0.15988874435424805, 0.7856785655021667, 0.21912243962287903], [14.0, 0.010661990381777287, 0.45687389373779297, 0.2877570390701294, 0.5410656929016113, 0.3720453977584839], [14.0, 0.010643107816576958, 0.89109206199646, 0.6706390380859375, 0.9955588579177856, 0.9923088550567627], [2.0, 0.010621165856719017, 0.28142935037612915, 0.8257047533988953, 0.40208327770233154, 0.9211738705635071], [14.0, 0.010599812492728233, 0.2193344384431839, 0.3574545979499817, 0.26736852526664734, 0.42677968740463257], [2.0, 0.010585840791463852, 0.8342612981796265, 0.20003709197044373, 0.9026758670806885, 0.27773579955101013], [4.0, 0.010564068332314491, 0.3663240969181061, 0.3333677649497986, 0.4244444668292999, 0.4438450336456299], [4.0, 0.01055524405092001, 0.4710276126861572, 0.385384202003479, 0.5326223373413086, 0.501927375793457], [2.0, 0.01054893247783184, 0.7827056050300598, 0.2535831928253174, 0.8446905016899109, 0.32778674364089966], [14.0, 0.010537301190197468, 0.8297392725944519, 0.667965829372406, 0.9000057578086853, 0.7521776556968689], [8.0, 0.010531648062169552, 0.11373408883810043, 0.5351443290710449, 0.25373825430870056, 0.6763501167297363], [2.0, 0.01051255315542221, 0.16481108963489532, 0.35251906514167786, 0.2071187049150467, 0.44721630215644836], [4.0, 0.010490472428500652, 0.31154048442840576, 0.3848203718662262, 0.3730936646461487, 0.5024954080581665], [14.0, 0.010416737757623196, 0.1810169816017151, 0.0, 0.31964969635009766, 0.15957824885845184], [2.0, 0.010412116535007954, 0.2674304246902466, 0.1117854118347168, 0.32091206312179565, 0.16793480515480042], [14.0, 0.010400296188890934, 0.2111172080039978, 0.5132021903991699, 0.26714396476745605, 0.5915577411651611], [14.0, 0.010375390760600567, 0.2647444009780884, 0.34830576181411743, 0.3258494734764099, 0.4348234534263611], [2.0, 0.010370862670242786, 0.2157844454050064, 0.10769917070865631, 0.2640257477760315, 0.16482435166835785], [14.0, 0.010363349691033363, 0.37105822563171387, 0.9328045845031738, 0.4137551784515381, 1.0], [14.0, 0.010361273773014545, 0.7707562446594238, 0.7168833613395691, 0.8564484119415283, 0.8116585612297058], [14.0, 0.010359399951994419, 0.36936426162719727, 0.710973858833313, 0.5272524952888489, 0.9615805149078369], [14.0, 0.010349338874220848, 0.2961742877960205, 0.15483245253562927, 0.3832642436027527, 0.2301936149597168], [2.0, 0.010339871980249882, 0.16288244724273682, 0.31072860956192017, 0.21319448947906494, 0.37378978729248047], [4.0, 0.010325259529054165, 0.25924769043922424, 0.4922782778739929, 0.3177241384983063, 0.6217780709266663], [15.0, 0.010294786654412746, 0.0, 0.7115315198898315, 0.21126963198184967, 1.0], [4.0, 0.010281973518431187, 0.31731608510017395, 0.9219579696655273, 0.3651687204837799, 0.9999561309814453], [14.0, 0.010265194810926914, 0.0, 0.6410597562789917, 0.13388830423355103, 0.8517515659332275], [4.0, 0.010229290463030338, 0.9543582201004028, 0.537541389465332, 1.0, 0.675389289855957], [14.0, 0.010225712321698666, 0.2527742385864258, 0.850914478302002, 0.44740915298461914, 1.0], [2.0, 0.010200242511928082, 0.8387890458106995, 0.2905370593070984, 0.8951006531715393, 0.40669822692871094], [2.0, 0.010199404321610928, 0.10108591616153717, 0.2056484967470169, 0.15715821087360382, 0.27025288343429565], [4.0, 0.01017272099852562, 0.4201038181781769, 0.2837766110897064, 0.4874272644519806, 0.38286498188972473], [14.0, 0.010170746594667435, 0.6163008809089661, 0.15740834176540375, 0.6991222500801086, 0.2312374860048294], [2.0, 0.010165903717279434, 0.8329369425773621, 0.251140832901001, 0.9023894667625427, 0.33112823963165283], [4.0, 0.010156736709177494, 0.4208833873271942, 0.3343845009803772, 0.4797932207584381, 0.4421270489692688], [14.0, 0.010127736255526543, 0.7247970104217529, 0.6113154292106628, 0.8046858310699463, 0.6974524855613708], [4.0, 0.010110896080732346, 0.4219364523887634, 0.444923996925354, 0.4794386029243469, 0.5596858263015747], [4.0, 0.010097775608301163, 0.22159181535243988, 0.3435784578323364, 0.26189130544662476, 0.44791483879089355], [8.0, 0.010067777708172798, 0.0, 0.0, 0.14761687815189362, 0.1684943586587906], [14.0, 0.010059378109872341, 0.35673102736473083, 0.3434094190597534, 0.4266033470630646, 0.42657482624053955], [4.0, 0.010038018226623535, 0.4186893701553345, 0.49571114778518677, 0.4812689423561096, 0.6148853898048401], [14.0, 0.010031134821474552, 0.6757098436355591, 0.6098039746284485, 0.7498258352279663, 0.6958860754966736], [8.0, 0.01003076322376728, 0.0008004307746887207, 0.6830984354019165, 0.09861200302839279, 1.0]]}\"\u001b[0m\r\n",
      "  % Total    % Received % Xferd  Average Speed   Time    Time     Time  Current\r\n",
      "                                 Dload  Upload   Total   Spent    Left  Speed\r\n"
     ]
    },
    {
     "name": "stdout",
     "output_type": "stream",
     "text": [
      "\r",
      "  0     0    0     0    0     0      0      0 --:--:-- --:--:-- --:--:--     0\r",
      "100  6484    0     0  100  6484      0   7252 --:--:-- --:--:-- --:--:--  7244\r",
      "100 24386  100 17902  100  6484  20002   7244 --:--:-- --:--:-- --:--:-- 27216\r\n",
      "\u001b[0;32m\"{\\\"prediction\\\": [[11.0, 0.7470675110816956, 0.3436652421951294, 0.0353580117225647, 0.8432596921920776, 0.9607151746749878], [14.0, 0.11368395388126373, 0.2755255401134491, 0.10644605755805969, 0.874901294708252, 0.9219503402709961], [11.0, 0.03752739354968071, 0.46863988041877747, 0.05793190002441406, 0.867719292640686, 0.5757886171340942], [4.0, 0.026316653937101364, 0.6812691688537598, 0.740655779838562, 0.7412723302841187, 0.8932667970657349], [11.0, 0.02626371569931507, 0.5188655853271484, 0.2525223195552826, 0.8009827136993408, 0.9922491312026978], [7.0, 0.02273465506732464, 0.454323410987854, 0.031143933534622192, 0.973677396774292, 0.9033313989639282], [4.0, 0.022289996966719627, 0.6765435338020325, 0.7931880354881287, 0.7403092980384827, 0.9529018998146057], [4.0, 0.020908024162054062, 0.6832610368728638, 0.43440812826156616, 0.742714524269104, 0.561905026435852], [4.0, 0.02077595330774784, 0.68470299243927, 0.49136361479759216, 0.7394248247146606, 0.6181207895278931], [14.0, 0.02060943841934204, 0.6138193011283875, 0.2877146303653717, 0.68869549036026, 0.39055123925209045], [14.0, 0.01984160766005516, 0.6728488206863403, 0.29302978515625, 0.7358895540237427, 0.3921874165534973], [14.0, 0.01914045587182045, 0.6233442425727844, 0.2216619849205017, 0.686339795589447, 0.35927140712738037], [14.0, 0.018815776333212852, 0.6807952523231506, 0.22510161995887756, 0.73688143491745, 0.3624844253063202], [4.0, 0.018050270155072212, 0.632479190826416, 0.8596616983413696, 0.6867852210998535, 0.9868943691253662], [11.0, 0.01755647547543049, 0.3992944061756134, 0.32930728793144226, 0.6929833889007568, 0.9621535539627075], [14.0, 0.017255324870347977, 0.6724691390991211, 0.33607566356658936, 0.7429053783416748, 0.44442641735076904], [2.0, 0.017066648229956627, 0.6635476350784302, 0.10745219141244888, 0.8539700508117676, 0.25986188650131226], [4.0, 0.016411352902650833, 0.6810471415519714, 0.3704896569252014, 0.7456225752830505, 0.5097320675849915], [4.0, 0.01636245660483837, 0.6785472631454468, 0.6416417360305786, 0.7460657358169556, 0.7907692193984985], [11.0, 0.016305120661854744, 0.41483762860298157, 0.07079783827066422, 0.6937500238418579, 0.24008333683013916], [4.0, 0.0162575114518404, 0.7338041663169861, 0.4296974539756775, 0.7903391718864441, 0.5762215256690979], [4.0, 0.01622014492750168, 0.5696420073509216, 0.7919321060180664, 0.6365728974342346, 0.9613574743270874], [4.0, 0.015977542847394943, 0.6826980710029602, 0.5405105948448181, 0.7404696345329285, 0.6769562363624573], [4.0, 0.015646839514374733, 0.7306671738624573, 0.7402942776679993, 0.7844908833503723, 0.8849610686302185], [8.0, 0.015244413167238235, 0.6431612968444824, 0.6637288331985474, 0.7740427255630493, 0.8565078973770142], [14.0, 0.015199420973658562, 0.7644616365432739, 0.12247729301452637, 0.9208945035934448, 0.37153369188308716], [4.0, 0.015126257203519344, 0.7354205846786499, 0.4806343615055084, 0.7916760444641113, 0.6342280507087708], [14.0, 0.01506398431956768, 0.6601389646530151, 0.6904132962226868, 0.8031548261642456, 0.979442298412323], [4.0, 0.014831095933914185, 0.6286301612854004, 0.7353137135505676, 0.6911138296127319, 0.9048872590065002], [14.0, 0.014205653220415115, 0.38743218779563904, 0.0, 0.504311203956604, 0.1963633894920349], [14.0, 0.01402693148702383, 0.6765111088752747, 0.0, 0.8224179148674011, 0.1626613289117813], [14.0, 0.013969989493489265, 0.48494604229927063, 0.0, 0.6060745716094971, 0.19523698091506958], [14.0, 0.01392737589776516, 0.4791257381439209, 0.2251049429178238, 0.5383343696594238, 0.37085193395614624], [4.0, 0.013898929581046104, 0.5234476923942566, 0.8513524532318115, 0.5952320694923401, 0.9792691469192505], [14.0, 0.013744243420660496, 0.6731727123260498, 0.05449528992176056, 0.7500284910202026, 0.11572585999965668], [8.0, 0.013739371672272682, 0.6432595252990723, 0.821381688117981, 0.7784758806228638, 0.9861712455749512], [14.0, 0.013727136887609959, 0.6241278648376465, 0.318965345621109, 0.6949359178543091, 0.4550798833370209], [8.0, 0.013605700805783272, 0.6669461131095886, 0.7786851525306702, 0.7589878439903259, 0.8516861796379089], [14.0, 0.013475346378982067, 0.6289515495300293, 0.09777034819126129, 0.6822017431259155, 0.17785827815532684], [2.0, 0.013403555378317833, 0.3269215524196625, 0.09917686879634857, 0.48731139302253723, 0.2653583288192749], [14.0, 0.013358229771256447, 0.7694977521896362, 0.7174565196037292, 0.9172101020812988, 0.9814034104347229], [14.0, 0.013353529386222363, 0.8839773535728455, 0.10876519978046417, 1.0, 0.3825860619544983], [14.0, 0.013339587487280369, 0.6299560070037842, 0.06117425858974457, 0.8402626514434814, 0.25460267066955566], [4.0, 0.013325603678822517, 0.6346439123153687, 0.4929278492927551, 0.6872316598892212, 0.6192130446434021], [14.0, 0.01317116804420948, 0.7722522616386414, 0.03307970613241196, 0.9220017790794373, 0.26864874362945557], [8.0, 0.01303412951529026, 0.5838792324066162, 0.6646783947944641, 0.725637674331665, 0.8559415936470032], [4.0, 0.013021501712501049, 0.7869121432304382, 0.44129231572151184, 0.8368054032325745, 0.5632399320602417], [14.0, 0.012995063327252865, 0.42269158363342285, 0.23347502946853638, 0.4736233949661255, 0.3534085750579834], [14.0, 0.012984379194676876, 0.289468914270401, 0.0, 0.40314534306526184, 0.19575603306293488], [4.0, 0.012848948128521442, 0.6352570056915283, 0.5432736277580261, 0.6896511316299438, 0.6757286190986633], [14.0, 0.01279630046337843, 0.58894282579422, 0.0, 0.7069017291069031, 0.19358834624290466], [4.0, 0.012759396806359291, 0.7281333208084106, 0.6306735277175903, 0.7885532379150391, 0.7975050210952759], [14.0, 0.012738368473947048, 0.6412535309791565, 0.23967742919921875, 0.7716122269630432, 0.43999654054641724], [14.0, 0.012607510201632977, 0.25957801938056946, 0.05082899332046509, 0.45985153317451477, 0.2472187578678131], [4.0, 0.012599206529557705, 0.37082380056381226, 0.6102283000946045, 0.4184364080429077, 0.714112401008606], [4.0, 0.01259611640125513, 0.7326859831809998, 0.3791377544403076, 0.7861794829368591, 0.5132486820220947], [14.0, 0.012584361247718334, 0.6731992959976196, 0.38163870573043823, 0.7479612827301025, 0.49917376041412354], [14.0, 0.01253051869571209, 0.6770949959754944, 0.18307200074195862, 0.7453872561454773, 0.30075588822364807], [4.0, 0.012337307445704937, 0.7337057590484619, 0.866443932056427, 0.784521222114563, 0.9706231951713562], [14.0, 0.01232459582388401, 0.6719886660575867, 0.7042174339294434, 0.7479134202003479, 0.815438985824585], [14.0, 0.012323721311986446, 0.5722873210906982, 0.732279896736145, 0.640207052230835, 0.9095221757888794], [14.0, 0.012276184745132923, 0.7273434996604919, 0.3941822350025177, 0.7919198870658875, 0.49462154507637024], [4.0, 0.012273114174604416, 0.7906364798545837, 0.49161800742149353, 0.8346131443977356, 0.6172364950180054], [4.0, 0.012222785502672195, 0.5786700248718262, 0.5374355912208557, 0.6353479623794556, 0.677265465259552], [8.0, 0.01219275314360857, 0.09052065014839172, 0.7843046188354492, 0.5166970491409302, 1.0], [14.0, 0.012159292586147785, 0.5272568464279175, 0.03486010804772377, 0.5826666355133057, 0.12030357122421265], [2.0, 0.012148384004831314, 0.7708233594894409, 0.10219515860080719, 0.8480645418167114, 0.17861707508563995], [14.0, 0.01210413035005331, 0.626705527305603, 0.04381394013762474, 0.6804614067077637, 0.1238950788974762], [4.0, 0.012024883180856705, 0.7318035960197449, 0.7979250550270081, 0.7841412425041199, 0.9362370371818542], [14.0, 0.012005970813333988, 0.17628121376037598, 0.012967884540557861, 0.32248273491859436, 0.2729979157447815], [2.0, 0.011964686214923859, 0.7690362334251404, 0.13189922273159027, 0.8522751927375793, 0.23232229053974152], [14.0, 0.011953501030802727, 0.07238098233938217, 0.618720531463623, 0.22036510705947876, 0.8747838735580444], [8.0, 0.011944572441279888, 0.20915260910987854, 0.8903945088386536, 0.49173030257225037, 1.0], [8.0, 0.011931098066270351, 0.21444961428642273, 0.42345935106277466, 0.3736898601055145, 0.5829488635063171], [14.0, 0.011781412176787853, 0.18095548450946808, 0.11701153218746185, 0.3202061653137207, 0.37424492835998535], [4.0, 0.01176814641803503, 0.6318673491477966, 0.43483296036720276, 0.6865671277046204, 0.5579357743263245], [8.0, 0.0117561686784029, 0.6368827819824219, 0.4475081264972687, 0.783210039138794, 0.6555976867675781], [14.0, 0.011699264869093895, 0.7711993455886841, 0.5100862979888916, 0.9115374088287354, 0.7916518449783325], [14.0, 0.01166275329887867, 0.4722490906715393, 0.1802966445684433, 0.5369270443916321, 0.30933642387390137], [10.0, 0.011655639857053757, 0.0002798140048980713, 0.802828311920166, 0.612585186958313, 1.0], [15.0, 0.011638414114713669, 0.0, 0.5097055435180664, 0.2375308871269226, 0.887843132019043], [8.0, 0.011632434092462063, 0.66318678855896, 0.7217109799385071, 0.7633481025695801, 0.8008750081062317], [14.0, 0.01157580316066742, 0.434213250875473, 0.05940832197666168, 0.6625885367393494, 0.25059837102890015], [8.0, 0.01157011091709137, 0.8873245120048523, 0.6083357334136963, 1.0, 0.8866047859191895], [14.0, 0.011544818058609962, 0.7785061597824097, 0.0, 0.9198801517486572, 0.1587790548801422], [14.0, 0.011530764400959015, 0.17626580595970154, 0.7174913287162781, 0.3194924592971802, 0.9756256937980652], [14.0, 0.011524929665029049, 0.16149073839187622, 0.24119833111763, 0.3468843698501587, 0.4491094648838043], [4.0, 0.0114925317466259, 0.3714771568775177, 0.6649102568626404, 0.4178667962551117, 0.7666793465614319], [8.0, 0.011458891443908215, 0.6573082804679871, 0.6695496439933777, 0.7676976323127747, 0.7507807612419128], [14.0, 0.011442454531788826, 0.15903908014297485, 0.34334880113601685, 0.3436002731323242, 0.5507428050041199], [14.0, 0.01141326129436493, 0.536281943321228, 0.7082834243774414, 0.6723804473876953, 0.9126911163330078], [14.0, 0.011371728032827377, 0.6176201701164246, 0.1334596574306488, 0.6979401707649231, 0.22721651196479797], [8.0, 0.011355925351381302, 0.0, 0.21271520853042603, 0.1478874534368515, 0.4885735511779785], [14.0, 0.011344856582581997, 0.28316962718963623, 0.7083940505981445, 0.4234357476234436, 0.9772986173629761], [14.0, 0.011337552219629288, 0.07273472100496292, 0.014824599027633667, 0.21966776251792908, 0.2748067080974579], [14.0, 0.011306488886475563, 0.5742851495742798, 0.23228506743907928, 0.6377757787704468, 0.35524046421051025], [11.0, 0.011236353777348995, 0.3566182851791382, 0.08232235908508301, 0.7119436264038086, 0.619564414024353], [14.0, 0.011222845874726772, 0.4026411473751068, 0.0, 0.6959255933761597, 0.1845605969429016], [4.0, 0.011208727955818176, 0.7872677445411682, 0.05525507777929306, 0.8414395451545715, 0.12854018807411194], [4.0, 0.01120738871395588, 0.7905600070953369, 0.7654170393943787, 0.8323982954025269, 0.8684278130531311], [4.0, 0.011197310872375965, 0.3722343444824219, 0.7180142998695374, 0.4190499782562256, 0.8162125945091248], [4.0, 0.011191995814442635, 0.6816114187240601, 0.9208200573921204, 0.7321093082427979, 1.0], [15.0, 0.011172852478921413, 0.0, 0.0, 0.19629806280136108, 0.3876805603504181], [2.0, 0.011163401417434216, 0.6951801776885986, 0.10287992656230927, 0.8352725505828857, 0.17209847271442413], [14.0, 0.011155984364449978, 0.8985428810119629, 0.47921115159988403, 0.9977303743362427, 0.8143408894538879], [4.0, 0.011078729294240475, 0.738164484500885, 0.9268288016319275, 0.7872249484062195, 1.0], [14.0, 0.011073592118918896, 0.07341902703046799, 0.11582300066947937, 0.21769621968269348, 0.37489041686058044], [8.0, 0.01106438972055912, 0.747962236404419, 0.35869383811950684, 0.8856998682022095, 0.5320536494255066], [8.0, 0.01104283519089222, 0.3265588581562042, 0.4670291244983673, 0.46066030859947205, 0.6375853419303894], [14.0, 0.011012043803930283, 0.5754086971282959, 0.0347493551671505, 0.6291354894638062, 0.1237928569316864], [8.0, 0.01100445631891489, 0.7008266448974609, 0.35224103927612305, 0.8198435306549072, 0.5328543782234192], [14.0, 0.010990225709974766, 0.4852941036224365, 0.6624581813812256, 0.63132643699646, 0.9752731323242188], [14.0, 0.010977867059409618, 0.24870797991752625, 0.0, 0.4588545858860016, 0.1384381800889969], [14.0, 0.010965043678879738, 0.0713382139801979, 0.7197829484939575, 0.2210656702518463, 0.9737911224365234], [14.0, 0.0109264450147748, 0.6150360107421875, 0.37943971157073975, 0.6907936334609985, 0.48889559507369995], [14.0, 0.010916384868323803, 0.5258402228355408, 0.011526793241500854, 0.6879974007606506, 0.1477402150630951], [8.0, 0.010902447625994682, 0.6939743757247925, 0.6134634613990784, 0.8119513988494873, 0.8041402697563171], [14.0, 0.010880681686103344, 0.34771472215652466, 0.059931911528110504, 0.5657088756561279, 0.25228995084762573], [8.0, 0.010868039913475513, 0.6159378290176392, 0.7767696380615234, 0.7128880023956299, 0.8521689176559448], [8.0, 0.010854271240532398, 0.3910044729709625, 0.5136350393295288, 0.5043308138847351, 0.6919970512390137], [14.0, 0.010836746543645859, 0.7302634716033936, 0.34703171253204346, 0.7900745868682861, 0.4386683702468872], [14.0, 0.010835125111043453, 0.19078993797302246, 0.5921001434326172, 0.3077009916305542, 0.9050724506378174], [14.0, 0.010827308520674706, 0.07252834737300873, 0.4175461530685425, 0.21696393191814423, 0.6699247360229492], [14.0, 0.010823043994605541, 0.5241710543632507, 0.23391762375831604, 0.5901731848716736, 0.36484774947166443], [14.0, 0.01079797837883234, 0.0721849575638771, 0.5181549191474915, 0.21827295422554016, 0.7715739607810974], [14.0, 0.010782835073769093, 0.07407183945178986, 0.21697460114955902, 0.21656601130962372, 0.47376078367233276], [14.0, 0.010772555135190487, 0.6749690175056458, 0.7594181299209595, 0.7426099181175232, 0.8694267272949219], [14.0, 0.0107434606179595, 0.1582203060388565, 0.4437888562679291, 0.34015029668807983, 0.6511074304580688], [4.0, 0.010702788829803467, 0.7886931896209717, 0.7105624675750732, 0.8300560712814331, 0.8186899423599243], [4.0, 0.010666501708328724, 0.6232962608337402, 0.6452102661132812, 0.6996208429336548, 0.7982653379440308], [14.0, 0.010662049986422062, 0.0737755075097084, 0.317971408367157, 0.21631386876106262, 0.5708999037742615], [8.0, 0.010659015737473965, 0.0, 0.015300706028938293, 0.1511142998933792, 0.2927734851837158], [14.0, 0.01065162755548954, 0.5792486667633057, 0.24084945023059845, 0.7173917293548584, 0.4386438727378845], [14.0, 0.01063405629247427, 0.6197662949562073, 0.18841907382011414, 0.6889182925224304, 0.28274139761924744], [4.0, 0.01062784530222416, 0.4273276627063751, 0.6540734767913818, 0.4730924665927887, 0.780565619468689], [4.0, 0.010625610128045082, 0.5175567865371704, 0.5873606204986572, 0.5866267681121826, 0.7415193319320679], [14.0, 0.010616596788167953, 0.8884158730506897, 0.30761465430259705, 1.0, 0.5828003883361816], [8.0, 0.010608059354126453, 0.0, 0.6118844747543335, 0.14995691180229187, 0.8909753561019897], [14.0, 0.010604975745081902, 0.47466203570365906, 0.04568914696574211, 0.5286055207252502, 0.12150509655475616], [14.0, 0.010579431429505348, 0.6702044606208801, 0.10349830240011215, 0.7573524117469788, 0.1683967411518097], [4.0, 0.010565508157014847, 0.7873072624206543, 0.870485246181488, 0.8391498327255249, 0.9684969782829285], [4.0, 0.010553528554737568, 0.580942690372467, 0.4859047532081604, 0.6326944231987, 0.617484986782074], [15.0, 0.010551784187555313, 0.16700619459152222, 0.47222012281417847, 0.4384647011756897, 0.9486072659492493], [4.0, 0.010551072657108307, 0.37322619557380676, 0.39501601457595825, 0.41727587580680847, 0.4959802031517029], [4.0, 0.010478116571903229, 0.8970050811767578, 0.38814520835876465, 0.9497889280319214, 0.5028634071350098], [14.0, 0.010450140573084354, 0.7652410268783569, 0.3030056953430176, 0.9166727066040039, 0.5786031484603882], [14.0, 0.010425519198179245, 0.15691497921943665, 0.543830931186676, 0.3388923406600952, 0.7530857920646667], [2.0, 0.010403343476355076, 0.1576017439365387, 0.6587741374969482, 0.21159258484840393, 0.7682695388793945], [4.0, 0.010382836684584618, 0.4271368980407715, 0.5963416695594788, 0.47351890802383423, 0.7272890210151672], [14.0, 0.010375513695180416, 0.41528159379959106, 0.18487730622291565, 0.48053687810897827, 0.2991670072078705], [4.0, 0.010363761335611343, 0.8961371779441833, 0.034381020814180374, 0.9506263136863708, 0.12325556576251984], [8.0, 0.010356771759688854, 0.8878594040870667, 0.40821173787117004, 1.0, 0.6857497692108154], [8.0, 0.01031662616878748, 0.7050848007202148, 0.8911653161048889, 0.9898165464401245, 1.0], [4.0, 0.010249005630612373, 0.5149522423744202, 0.7199177742004395, 0.5885105729103088, 0.9222183227539062], [4.0, 0.010244862176477909, 0.5757780075073242, 0.589716911315918, 0.6390081644058228, 0.7379872798919678], [4.0, 0.010213246569037437, 0.5769099593162537, 0.0927281379699707, 0.6296426653862, 0.18201729655265808], [14.0, 0.01021120510995388, 0.7257682681083679, 0.44659945368766785, 0.7915268540382385, 0.549360990524292], [8.0, 0.010188085958361626, 0.8423548340797424, 0.8428588509559631, 1.0, 1.0], [4.0, 0.010181944817304611, 0.5743843913078308, 0.17222395539283752, 0.6393653750419617, 0.30483704805374146], [4.0, 0.010149950161576271, 0.8408852815628052, 0.042572107166051865, 0.8933937549591064, 0.12528285384178162], [4.0, 0.010148821398615837, 0.7369787096977234, 0.059348318725824356, 0.7929804921150208, 0.12473434209823608], [8.0, 0.010148533619940281, 0.0, 0.4117793142795563, 0.14697463810443878, 0.6872296333312988], [14.0, 0.010108227841556072, 0.5275553464889526, 0.0, 0.5805535316467285, 0.07650305330753326], [14.0, 0.010105600580573082, 0.6232662200927734, 0.7527625560760498, 0.6964033842086792, 0.8693500757217407], [8.0, 0.0101046497002244, 0.6898184418678284, 0.7188032269477844, 0.8167787194252014, 0.8977190852165222], [14.0, 0.010066255927085876, 0.0, 0.6103613972663879, 0.10965488106012344, 0.8884946703910828], [8.0, 0.010032521560788155, 0.8458889126777649, 0.0, 1.0, 0.17510870099067688]]}\"\u001b[0m\r\n"
     ]
    }
   ],
   "source": [
    "!./api.sh \"https://jwww8ados2.execute-api.us-west-2.amazonaws.com/dev/detect\" "
   ]
  },
  {
   "cell_type": "code",
   "execution_count": null,
   "id": "1a4ab272",
   "metadata": {},
   "outputs": [],
   "source": []
  }
 ],
 "metadata": {
  "kernelspec": {
   "display_name": "conda_python3",
   "language": "python",
   "name": "conda_python3"
  },
  "language_info": {
   "codemirror_mode": {
    "name": "ipython",
    "version": 3
   },
   "file_extension": ".py",
   "mimetype": "text/x-python",
   "name": "python",
   "nbconvert_exporter": "python",
   "pygments_lexer": "ipython3",
   "version": "3.6.13"
  }
 },
 "nbformat": 4,
 "nbformat_minor": 5
}
